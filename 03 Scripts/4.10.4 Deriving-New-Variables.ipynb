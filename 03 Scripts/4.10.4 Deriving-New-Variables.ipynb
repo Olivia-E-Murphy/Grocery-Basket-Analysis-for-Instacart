{
 "cells": [
  {
   "cell_type": "markdown",
   "id": "ecb62b37",
   "metadata": {},
   "source": [
    "# Import Libraries & File"
   ]
  },
  {
   "cell_type": "code",
   "execution_count": 58,
   "id": "314d4501",
   "metadata": {},
   "outputs": [],
   "source": [
    "#import functions\n",
    "import numpy as np\n",
    "import pandas as pd\n",
    "import os"
   ]
  },
  {
   "cell_type": "code",
   "execution_count": 60,
   "id": "7397d3fe",
   "metadata": {},
   "outputs": [],
   "source": [
    "#import files\n",
    "path =r'/Users/oliviamurphy/Desktop/2022-01 Insta Cart Analysis/02 Data'\n",
    "orders_products_departments_final = pd.read_pickle(os.path.join(path, 'Prepared Data', 'orders_products_departments_final.pkl'))\n"
   ]
  },
  {
   "cell_type": "markdown",
   "id": "ddb57d4b",
   "metadata": {},
   "source": [
    "# Marking Price Range of Products"
   ]
  },
  {
   "cell_type": "code",
   "execution_count": 42,
   "id": "e9d92b6f",
   "metadata": {},
   "outputs": [],
   "source": [
    "#run .loc on whole frame\n",
    "orders_products_departments_final.loc[orders_products_departments_final['prices'] <= 5, 'price_range_loc'] = 'Low-range product'"
   ]
  },
  {
   "cell_type": "code",
   "execution_count": 43,
   "id": "3652bbd3",
   "metadata": {},
   "outputs": [],
   "source": [
    "#run .loc on whole frame\n",
    "orders_products_departments_final.loc[(orders_products_departments_final['prices'] > 5) & (orders_products_departments_final['prices']<= 15), 'price_range_loc'] = 'Mid range product'"
   ]
  },
  {
   "cell_type": "code",
   "execution_count": 44,
   "id": "08b4062f",
   "metadata": {},
   "outputs": [],
   "source": [
    "#run .loc on whole frame\n",
    "orders_products_departments_final.loc[orders_products_departments_final['prices'] > 15, 'price_range_loc'] = 'High-range product'"
   ]
  },
  {
   "cell_type": "code",
   "execution_count": 45,
   "id": "1f6cd2ec",
   "metadata": {},
   "outputs": [
    {
     "data": {
      "text/plain": [
       "Mid range product     21889009\n",
       "Low-range product     10126339\n",
       "High-range product      412555\n",
       "Name: price_range_loc, dtype: int64"
      ]
     },
     "execution_count": 45,
     "metadata": {},
     "output_type": "execute_result"
    }
   ],
   "source": [
    "# returns price range. Excludes products marked as nan\n",
    "orders_products_departments_final['price_range_loc'].value_counts(dropna = True)"
   ]
  },
  {
   "cell_type": "markdown",
   "id": "f677b63a",
   "metadata": {},
   "source": [
    "# Finding the Busiest Days of the Week"
   ]
  },
  {
   "cell_type": "code",
   "execution_count": 46,
   "id": "7ed0dda9",
   "metadata": {},
   "outputs": [
    {
     "data": {
      "text/plain": [
       "0    6209410\n",
       "1    5665604\n",
       "6    4500101\n",
       "2    4217610\n",
       "5    4209334\n",
       "3    3843929\n",
       "4    3787042\n",
       "Name: orders_day_of_week, dtype: int64"
      ]
     },
     "execution_count": 46,
     "metadata": {},
     "output_type": "execute_result"
    }
   ],
   "source": [
    "#find busy days of week\n",
    "orders_products_departments_final['orders_day_of_week'].value_counts(dropna = False)"
   ]
  },
  {
   "cell_type": "code",
   "execution_count": 47,
   "id": "b8bb6d46",
   "metadata": {},
   "outputs": [],
   "source": [
    "#for loop to define rules\n",
    "result = []\n",
    "for value in orders_products_departments_final['orders_day_of_week']:\n",
    "    if value == 0:\n",
    "        result.append('Busiest day')\n",
    "    elif value == 4:\n",
    "        result.append('Least busy')\n",
    "    else:\n",
    "        result.append('Regularly busy')"
   ]
  },
  {
   "cell_type": "code",
   "execution_count": 48,
   "id": "01b27447",
   "metadata": {},
   "outputs": [],
   "source": [
    "#save list to df\n",
    "orders_products_departments_final['busiest day'] = result"
   ]
  },
  {
   "cell_type": "code",
   "execution_count": 49,
   "id": "af3d29f0",
   "metadata": {},
   "outputs": [
    {
     "data": {
      "text/plain": [
       "Regularly busy    22436578\n",
       "Busiest day        6209410\n",
       "Least busy         3787042\n",
       "Name: busiest day, dtype: int64"
      ]
     },
     "execution_count": 49,
     "metadata": {},
     "output_type": "execute_result"
    }
   ],
   "source": [
    "#count values \n",
    "orders_products_departments_final['busiest day'].value_counts(dropna = False)"
   ]
  },
  {
   "cell_type": "markdown",
   "id": "225cf499",
   "metadata": {},
   "source": [
    "# Marking the two busiest days"
   ]
  },
  {
   "cell_type": "code",
   "execution_count": 50,
   "id": "da7b4005",
   "metadata": {},
   "outputs": [],
   "source": [
    "#for loop to define rules\n",
    "result2 = []\n",
    "for value in orders_products_departments_final['orders_day_of_week']:\n",
    "    if (value == 0) or (value == 1):\n",
    "        result2.append('Busiest day')\n",
    "    elif (value == 4) or (value == 3):\n",
    "        result2.append('least busy day')\n",
    "    else:\n",
    "        result2.append('Regularly busy')"
   ]
  },
  {
   "cell_type": "code",
   "execution_count": 51,
   "id": "b8cd768e",
   "metadata": {},
   "outputs": [],
   "source": [
    "#save list contents to df\n",
    "orders_products_departments_final ['busiest_days'] = result2"
   ]
  },
  {
   "cell_type": "code",
   "execution_count": 52,
   "id": "aac6afc8",
   "metadata": {},
   "outputs": [
    {
     "data": {
      "text/plain": [
       "Regularly busy    12927045\n",
       "Busiest day       11875014\n",
       "least busy day     7630971\n",
       "Name: busiest_days, dtype: int64"
      ]
     },
     "execution_count": 52,
     "metadata": {},
     "output_type": "execute_result"
    }
   ],
   "source": [
    "#count values\n",
    "orders_products_departments_final['busiest_days'].value_counts(dropna = False)"
   ]
  },
  {
   "cell_type": "markdown",
   "id": "fb36958e",
   "metadata": {},
   "source": [
    "# Busiest Hours of the Day"
   ]
  },
  {
   "cell_type": "code",
   "execution_count": 53,
   "id": "be24ef69",
   "metadata": {},
   "outputs": [
    {
     "data": {
      "text/plain": [
       "3       51317\n",
       "4       53280\n",
       "2       69429\n",
       "5       88054\n",
       "1      115780\n",
       "0      218925\n",
       "6      290763\n",
       "23     402593\n",
       "22     634715\n",
       "21     796341\n",
       "7      891900\n",
       "20     976991\n",
       "19    1259335\n",
       "18    1637858\n",
       "8     1719888\n",
       "17    2089385\n",
       "9     2456591\n",
       "16    2537358\n",
       "12    2620719\n",
       "13    2663169\n",
       "15    2664420\n",
       "14    2691448\n",
       "11    2738483\n",
       "10    2764288\n",
       "Name: order_hour_of_day, dtype: int64"
      ]
     },
     "execution_count": 53,
     "metadata": {},
     "output_type": "execute_result"
    }
   ],
   "source": [
    "# count values\n",
    "orders_products_departments_final['order_hour_of_day'].value_counts(dropna = False).sort_values()"
   ]
  },
  {
   "cell_type": "code",
   "execution_count": 54,
   "id": "f6a392c3",
   "metadata": {},
   "outputs": [],
   "source": [
    "#for loop to define output rules\n",
    "result3 = []\n",
    "for value in orders_products_departments_final['order_hour_of_day']:\n",
    "    if value == 10:\n",
    "        result3.append('Most orders')\n",
    "    elif value == 3:\n",
    "        result3.append('Fewest orders')\n",
    "    else: \n",
    "        result3.append('Average orders')"
   ]
  },
  {
   "cell_type": "code",
   "execution_count": 55,
   "id": "9380c990",
   "metadata": {},
   "outputs": [],
   "source": [
    "#saving list to df\n",
    "orders_products_departments_final['busiest_period_of_day'] = result3"
   ]
  },
  {
   "cell_type": "code",
   "execution_count": 56,
   "id": "39562294",
   "metadata": {},
   "outputs": [
    {
     "data": {
      "text/plain": [
       "Average orders    29617425\n",
       "Most orders        2764288\n",
       "Fewest orders        51317\n",
       "Name: busiest_period_of_day, dtype: int64"
      ]
     },
     "execution_count": 56,
     "metadata": {},
     "output_type": "execute_result"
    }
   ],
   "source": [
    "#print frequency\n",
    "orders_products_departments_final['busiest_period_of_day'].value_counts(dropna = False)"
   ]
  },
  {
   "cell_type": "code",
   "execution_count": null,
   "id": "bec167bb",
   "metadata": {},
   "outputs": [],
   "source": []
  },
  {
   "cell_type": "code",
   "execution_count": null,
   "id": "55e74557",
   "metadata": {},
   "outputs": [],
   "source": [
    "#export file\n",
    "orders_products_departments_final.to_pickle(os.path.join(path,'Prepared Data', 'orders_products_departments_final_new_variables.pkl'))"
   ]
  },
  {
   "cell_type": "code",
   "execution_count": null,
   "id": "5dcc3f21",
   "metadata": {},
   "outputs": [],
   "source": []
  },
  {
   "cell_type": "code",
   "execution_count": null,
   "id": "15f980c2",
   "metadata": {},
   "outputs": [],
   "source": []
  }
 ],
 "metadata": {
  "kernelspec": {
   "display_name": "Python 3 (ipykernel)",
   "language": "python",
   "name": "python3"
  },
  "language_info": {
   "codemirror_mode": {
    "name": "ipython",
    "version": 3
   },
   "file_extension": ".py",
   "mimetype": "text/x-python",
   "name": "python",
   "nbconvert_exporter": "python",
   "pygments_lexer": "ipython3",
   "version": "3.9.7"
  },
  "varInspector": {
   "cols": {
    "lenName": 16,
    "lenType": 16,
    "lenVar": 40
   },
   "kernels_config": {
    "python": {
     "delete_cmd_postfix": "",
     "delete_cmd_prefix": "del ",
     "library": "var_list.py",
     "varRefreshCmd": "print(var_dic_list())"
    },
    "r": {
     "delete_cmd_postfix": ") ",
     "delete_cmd_prefix": "rm(",
     "library": "var_list.r",
     "varRefreshCmd": "cat(var_dic_list()) "
    }
   },
   "types_to_exclude": [
    "module",
    "function",
    "builtin_function_or_method",
    "instance",
    "_Feature"
   ],
   "window_display": false
  }
 },
 "nbformat": 4,
 "nbformat_minor": 5
}
