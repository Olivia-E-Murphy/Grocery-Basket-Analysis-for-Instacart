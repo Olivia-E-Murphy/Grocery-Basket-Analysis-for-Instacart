{
 "cells": [
  {
   "cell_type": "markdown",
   "id": "675f535d",
   "metadata": {},
   "source": [
    "# 1. Import Libraries & Data"
   ]
  },
  {
   "cell_type": "code",
   "execution_count": 1,
   "id": "2132efcb",
   "metadata": {},
   "outputs": [],
   "source": [
    "# Imports libraries\n",
    "import pandas as pd\n",
    "import numpy as np\n",
    "import os\n",
    "import seaborn as sns\n",
    "import matplotlib.pyplot as plt\n",
    "import scipy"
   ]
  },
  {
   "cell_type": "code",
   "execution_count": 2,
   "id": "5a7be86c",
   "metadata": {},
   "outputs": [],
   "source": [
    "# Imports customer data file\n",
    "path = r'/Users/oliviamurphy/Desktop/2022-01 Insta Cart Analysis'\n",
    "orders_products_departments_final = pd.read_pickle(os.path.join(path, '02 Data', 'Prepared Data', 'orders_products_departments_final_agg.pkl'))"
   ]
  },
  {
   "cell_type": "markdown",
   "id": "0c6494d3",
   "metadata": {},
   "source": [
    "# 2. Security Implications\n",
    "## The user_id variable can be linked back to a first & last name, which is PII. "
   ]
  },
  {
   "cell_type": "code",
   "execution_count": 3,
   "id": "f12e87f9",
   "metadata": {},
   "outputs": [
    {
     "data": {
      "text/html": [
       "<div>\n",
       "<style scoped>\n",
       "    .dataframe tbody tr th:only-of-type {\n",
       "        vertical-align: middle;\n",
       "    }\n",
       "\n",
       "    .dataframe tbody tr th {\n",
       "        vertical-align: top;\n",
       "    }\n",
       "\n",
       "    .dataframe thead th {\n",
       "        text-align: right;\n",
       "    }\n",
       "</style>\n",
       "<table border=\"1\" class=\"dataframe\">\n",
       "  <thead>\n",
       "    <tr style=\"text-align: right;\">\n",
       "      <th></th>\n",
       "      <th>product_id</th>\n",
       "      <th>product_name</th>\n",
       "      <th>aisle_id</th>\n",
       "      <th>department_id</th>\n",
       "      <th>prices</th>\n",
       "      <th>order_id</th>\n",
       "      <th>user_id</th>\n",
       "      <th>order_number</th>\n",
       "      <th>orders_day_of_week</th>\n",
       "      <th>order_hour_of_day</th>\n",
       "      <th>...</th>\n",
       "      <th>price_range_loc</th>\n",
       "      <th>busiest day</th>\n",
       "      <th>busiest_days</th>\n",
       "      <th>busiest_period_of_day</th>\n",
       "      <th>max_orders</th>\n",
       "      <th>loyalty_flag</th>\n",
       "      <th>average_spend</th>\n",
       "      <th>spender_type</th>\n",
       "      <th>median_days_since_prior_order</th>\n",
       "      <th>Frequent_customer?</th>\n",
       "    </tr>\n",
       "  </thead>\n",
       "  <tbody>\n",
       "    <tr>\n",
       "      <th>0</th>\n",
       "      <td>1</td>\n",
       "      <td>Chocolate Sandwich Cookies</td>\n",
       "      <td>61</td>\n",
       "      <td>19</td>\n",
       "      <td>5.8</td>\n",
       "      <td>3139998</td>\n",
       "      <td>138</td>\n",
       "      <td>28</td>\n",
       "      <td>6</td>\n",
       "      <td>11</td>\n",
       "      <td>...</td>\n",
       "      <td>Mid range product</td>\n",
       "      <td>Regularly busy</td>\n",
       "      <td>Regularly busy</td>\n",
       "      <td>Average orders</td>\n",
       "      <td>32</td>\n",
       "      <td>Regular customer</td>\n",
       "      <td>6.935811</td>\n",
       "      <td>Low spender</td>\n",
       "      <td>8.0</td>\n",
       "      <td>Frequent customer</td>\n",
       "    </tr>\n",
       "  </tbody>\n",
       "</table>\n",
       "<p>1 rows × 32 columns</p>\n",
       "</div>"
      ],
      "text/plain": [
       "  product_id                product_name aisle_id department_id  prices  \\\n",
       "0          1  Chocolate Sandwich Cookies       61            19     5.8   \n",
       "\n",
       "  order_id user_id  order_number  orders_day_of_week  order_hour_of_day  ...  \\\n",
       "0  3139998     138            28                   6                 11  ...   \n",
       "\n",
       "     price_range_loc     busiest day    busiest_days busiest_period_of_day  \\\n",
       "0  Mid range product  Regularly busy  Regularly busy        Average orders   \n",
       "\n",
       "  max_orders      loyalty_flag average_spend  spender_type  \\\n",
       "0         32  Regular customer      6.935811   Low spender   \n",
       "\n",
       "  median_days_since_prior_order  Frequent_customer?  \n",
       "0                           8.0   Frequent customer  \n",
       "\n",
       "[1 rows x 32 columns]"
      ]
     },
     "execution_count": 3,
     "metadata": {},
     "output_type": "execute_result"
    }
   ],
   "source": [
    "# checks first five rows of customer_df\n",
    "orders_products_departments_final.head(1)"
   ]
  },
  {
   "cell_type": "markdown",
   "id": "143f7aef",
   "metadata": {},
   "source": [
    "# 3a. Regional Division\n",
    "\n",
    "## Region 1 (Northeast): Maine, New Hampshire, Vermont, Massachusetts, Rhode Island, Connecticut, New York, Pennsylvania, New Jersey\n",
    "\n",
    "## Region 2 (Midwest): Wisconsin, Michigan, Illinois, Indiana, Ohio, North Dakota, South Dakota, Nebraska, Kansas, Minnesota, Iowa, Missouri\n",
    "\n",
    "## Region 3 (South): Delaware, Maryland, District of Columbia, Virginia, West Virginia, North Carolina, South Carolina, Georgia, Florida, Kentucky, Tennessee, Mississippi, Alabama, Oklahoma, Texas, Arkansas, Louisiana\n",
    "\n",
    "## Region 4 (West): Idaho, Montana, Wyoming, Nevada, Utah, Colorado, Arizona, New Mexico, Alaska, Washington, Oregon, California, Hawaii\n",
    "\n",
    "### Source: https://simple.wikipedia.org/wiki/List_of_regions_of_the_United_States"
   ]
  },
  {
   "cell_type": "code",
   "execution_count": 4,
   "id": "8acbc54f",
   "metadata": {},
   "outputs": [],
   "source": [
    "# defines regions by states\n",
    "region_list = []\n",
    "for value in orders_products_departments_final['state']:\n",
    "    if ((value == 'Maine') or (value == 'New Hampshire') or (value == 'Vermont') or (value == 'Massachusetts') or (value == 'Rhode Island') or (value == 'Connecticut') or (value == 'New York') or (value == 'Pennsylvania') or (value == 'New Jersey') ) :\n",
    "        region_list.append('Region 1 (Northeast)')\n",
    "    elif ((value == 'Wisconsin') or (value == 'Michigan') or (value == 'Illinois') or (value == 'Indiana') or (value == 'Ohio') or (value == 'North Dakota') or (value == 'South Dakota') or (value == 'Nebraska') or (value == 'Kansas') or (value == 'Minnesota') or (value == 'Iowa') or (value == 'Missouri')):\n",
    "        region_list.append('Region 2 (Midwest)')\n",
    "    elif ((value == 'Delaware') or (value == 'Maryland') or (value == 'District of Columbia') or (value == 'Virginia') or (value == 'West Virginia') or (value == 'North Carolina') or (value == 'South Carolina') or (value == 'Georgia') or (value == 'Florida') or (value == 'Kentucky') or (value == 'Tennessee') or (value == 'Mississippi') or (value == 'Alabama') or (value == 'Oklahoma') or (value == 'Texas') or (value == 'Arkansas') or (value == 'Louisiana')):\n",
    "        region_list.append('Region 3 (South)')\n",
    "    elif ((value =='Idaho') or (value == 'Montana') or (value == 'Wyoming') or (value == 'Nevada') or (value == 'Utah') or (value == 'Colorado') or (value == 'Arizona') or (value == 'New Mexico') or (value == 'Alaska') or (value == 'Washington') or (value == 'Oregon') or (value == 'California') or (value == 'Hawaii')):\n",
    "        region_list.append('Region 4 (West)')\n",
    "    else:\n",
    "        region_list.append('Unknown Region')"
   ]
  },
  {
   "cell_type": "code",
   "execution_count": 5,
   "id": "c220cdbf",
   "metadata": {},
   "outputs": [],
   "source": [
    "# saves region_list to region column in df\n",
    "orders_products_departments_final['region'] = region_list"
   ]
  },
  {
   "cell_type": "code",
   "execution_count": 6,
   "id": "92f7ee75",
   "metadata": {},
   "outputs": [
    {
     "data": {
      "text/plain": [
       "0    Region 2 (Midwest)\n",
       "1    Region 2 (Midwest)\n",
       "2    Region 2 (Midwest)\n",
       "3    Region 2 (Midwest)\n",
       "4    Region 2 (Midwest)\n",
       "Name: region, dtype: object"
      ]
     },
     "execution_count": 6,
     "metadata": {},
     "output_type": "execute_result"
    }
   ],
   "source": [
    "# checks first 5 rows of region column\n",
    "orders_products_departments_final['region'].head()"
   ]
  },
  {
   "cell_type": "markdown",
   "id": "d50186e9",
   "metadata": {},
   "source": [
    "## Ordering Habits Based on Region"
   ]
  },
  {
   "cell_type": "markdown",
   "id": "c3e8be50",
   "metadata": {},
   "source": [
    "# 3b Spending Habits \n",
    "## Each region has very similar spending habits. Out of the four regions, Region 2 (Midwest) has the highest percentage of high spenders, while region 1 has the lowest percentage of high spenders."
   ]
  },
  {
   "cell_type": "code",
   "execution_count": 7,
   "id": "d1ef0da7",
   "metadata": {},
   "outputs": [],
   "source": [
    "# creates crosstab for region by loyalty_flag\n",
    "region_spending_crosstab = pd.crosstab(orders_products_departments_final['region'], orders_products_departments_final['spender_type'], dropna = False)"
   ]
  },
  {
   "cell_type": "code",
   "execution_count": 8,
   "id": "485e556f",
   "metadata": {},
   "outputs": [],
   "source": [
    "# creates a list for the total spenders in each region\n",
    "spender_count_list = []\n",
    "for regions in region_spending_crosstab:\n",
    "    spender_count_list = region_spending_crosstab['High spender'] + region_spending_crosstab['Low spender']"
   ]
  },
  {
   "cell_type": "code",
   "execution_count": 9,
   "id": "4ca905a0",
   "metadata": {},
   "outputs": [],
   "source": [
    "# adds a column for the total customers in each region\n",
    "region_spending_crosstab['Total customers'] = spender_count_list"
   ]
  },
  {
   "cell_type": "code",
   "execution_count": 10,
   "id": "1f4f7918",
   "metadata": {},
   "outputs": [],
   "source": [
    "# creates a list for the percentage of high spenders  in each region\n",
    "high_spender_percentage_list = []\n",
    "for high_spenders in region_spending_crosstab:\n",
    "    high_spender_percentage_list = (region_spending_crosstab['High spender']/region_spending_crosstab['Total customers'])*100 "
   ]
  },
  {
   "cell_type": "code",
   "execution_count": 11,
   "id": "c0d88079",
   "metadata": {},
   "outputs": [],
   "source": [
    "# adds a column for the percentage of customers that are high spenders in each region\n",
    "region_spending_crosstab['High spenders percentage'] = high_spender_percentage_list"
   ]
  },
  {
   "cell_type": "code",
   "execution_count": 12,
   "id": "99df03b0",
   "metadata": {},
   "outputs": [],
   "source": [
    "# creates a list for the percentage of low spenders  in each region\n",
    "low_spender_percentage_list = []\n",
    "for low_spenders in region_spending_crosstab:\n",
    "    low_spender_percentage_list = (region_spending_crosstab['Low spender']/region_spending_crosstab['Total customers'])*100"
   ]
  },
  {
   "cell_type": "code",
   "execution_count": 13,
   "id": "0d7dd0d3",
   "metadata": {},
   "outputs": [],
   "source": [
    "# adds a column for the percentage of customers that are low spenders in each region\n",
    "region_spending_crosstab['Low spenders percentage'] = low_spender_percentage_list"
   ]
  },
  {
   "cell_type": "code",
   "execution_count": 14,
   "id": "af846414",
   "metadata": {},
   "outputs": [
    {
     "data": {
      "text/html": [
       "<div>\n",
       "<style scoped>\n",
       "    .dataframe tbody tr th:only-of-type {\n",
       "        vertical-align: middle;\n",
       "    }\n",
       "\n",
       "    .dataframe tbody tr th {\n",
       "        vertical-align: top;\n",
       "    }\n",
       "\n",
       "    .dataframe thead th {\n",
       "        text-align: right;\n",
       "    }\n",
       "</style>\n",
       "<table border=\"1\" class=\"dataframe\">\n",
       "  <thead>\n",
       "    <tr style=\"text-align: right;\">\n",
       "      <th>spender_type</th>\n",
       "      <th>High spender</th>\n",
       "      <th>Low spender</th>\n",
       "      <th>Total customers</th>\n",
       "      <th>High spenders percentage</th>\n",
       "      <th>Low spenders percentage</th>\n",
       "    </tr>\n",
       "    <tr>\n",
       "      <th>region</th>\n",
       "      <th></th>\n",
       "      <th></th>\n",
       "      <th></th>\n",
       "      <th></th>\n",
       "      <th></th>\n",
       "    </tr>\n",
       "  </thead>\n",
       "  <tbody>\n",
       "    <tr>\n",
       "      <th>Region 1 (Northeast)</th>\n",
       "      <td>18131</td>\n",
       "      <td>5619802</td>\n",
       "      <td>5637933</td>\n",
       "      <td>0.321589</td>\n",
       "      <td>99.678411</td>\n",
       "    </tr>\n",
       "    <tr>\n",
       "      <th>Region 2 (Midwest)</th>\n",
       "      <td>29335</td>\n",
       "      <td>7447432</td>\n",
       "      <td>7476767</td>\n",
       "      <td>0.392349</td>\n",
       "      <td>99.607651</td>\n",
       "    </tr>\n",
       "    <tr>\n",
       "      <th>Region 3 (South)</th>\n",
       "      <td>40959</td>\n",
       "      <td>10591015</td>\n",
       "      <td>10631974</td>\n",
       "      <td>0.385244</td>\n",
       "      <td>99.614756</td>\n",
       "    </tr>\n",
       "    <tr>\n",
       "      <th>Region 4 (West)</th>\n",
       "      <td>31537</td>\n",
       "      <td>8139372</td>\n",
       "      <td>8170909</td>\n",
       "      <td>0.385967</td>\n",
       "      <td>99.614033</td>\n",
       "    </tr>\n",
       "  </tbody>\n",
       "</table>\n",
       "</div>"
      ],
      "text/plain": [
       "spender_type          High spender  Low spender  Total customers  \\\n",
       "region                                                             \n",
       "Region 1 (Northeast)         18131      5619802          5637933   \n",
       "Region 2 (Midwest)           29335      7447432          7476767   \n",
       "Region 3 (South)             40959     10591015         10631974   \n",
       "Region 4 (West)              31537      8139372          8170909   \n",
       "\n",
       "spender_type          High spenders percentage  Low spenders percentage  \n",
       "region                                                                   \n",
       "Region 1 (Northeast)                  0.321589                99.678411  \n",
       "Region 2 (Midwest)                    0.392349                99.607651  \n",
       "Region 3 (South)                      0.385244                99.614756  \n",
       "Region 4 (West)                       0.385967                99.614033  "
      ]
     },
     "execution_count": 14,
     "metadata": {},
     "output_type": "execute_result"
    }
   ],
   "source": [
    "# prints crosstab\n",
    "region_spending_crosstab"
   ]
  },
  {
   "cell_type": "code",
   "execution_count": 15,
   "id": "3ee65233",
   "metadata": {},
   "outputs": [],
   "source": [
    "# drops un-needed columns from region_spending_crosstab\n",
    "region_spending_crosstab = region_spending_crosstab.drop(columns = {'High spender', 'Low spender', 'Total customers'})"
   ]
  },
  {
   "cell_type": "code",
   "execution_count": 16,
   "id": "2cdfe905",
   "metadata": {},
   "outputs": [
    {
     "data": {
      "text/html": [
       "<div>\n",
       "<style scoped>\n",
       "    .dataframe tbody tr th:only-of-type {\n",
       "        vertical-align: middle;\n",
       "    }\n",
       "\n",
       "    .dataframe tbody tr th {\n",
       "        vertical-align: top;\n",
       "    }\n",
       "\n",
       "    .dataframe thead th {\n",
       "        text-align: right;\n",
       "    }\n",
       "</style>\n",
       "<table border=\"1\" class=\"dataframe\">\n",
       "  <thead>\n",
       "    <tr style=\"text-align: right;\">\n",
       "      <th>spender_type</th>\n",
       "      <th>High spenders percentage</th>\n",
       "      <th>Low spenders percentage</th>\n",
       "    </tr>\n",
       "    <tr>\n",
       "      <th>region</th>\n",
       "      <th></th>\n",
       "      <th></th>\n",
       "    </tr>\n",
       "  </thead>\n",
       "  <tbody>\n",
       "    <tr>\n",
       "      <th>Region 1 (Northeast)</th>\n",
       "      <td>0.321589</td>\n",
       "      <td>99.678411</td>\n",
       "    </tr>\n",
       "    <tr>\n",
       "      <th>Region 2 (Midwest)</th>\n",
       "      <td>0.392349</td>\n",
       "      <td>99.607651</td>\n",
       "    </tr>\n",
       "    <tr>\n",
       "      <th>Region 3 (South)</th>\n",
       "      <td>0.385244</td>\n",
       "      <td>99.614756</td>\n",
       "    </tr>\n",
       "    <tr>\n",
       "      <th>Region 4 (West)</th>\n",
       "      <td>0.385967</td>\n",
       "      <td>99.614033</td>\n",
       "    </tr>\n",
       "  </tbody>\n",
       "</table>\n",
       "</div>"
      ],
      "text/plain": [
       "spender_type          High spenders percentage  Low spenders percentage\n",
       "region                                                                 \n",
       "Region 1 (Northeast)                  0.321589                99.678411\n",
       "Region 2 (Midwest)                    0.392349                99.607651\n",
       "Region 3 (South)                      0.385244                99.614756\n",
       "Region 4 (West)                       0.385967                99.614033"
      ]
     },
     "execution_count": 16,
     "metadata": {},
     "output_type": "execute_result"
    }
   ],
   "source": [
    "# returns region_spending_crosstab\n",
    "region_spending_crosstab"
   ]
  },
  {
   "cell_type": "code",
   "execution_count": 17,
   "id": "842e663d",
   "metadata": {},
   "outputs": [
    {
     "data": {
      "image/png": "[encoded data removed]",
      "text/plain": [
       "<Figure size 432x288 with 1 Axes>"
      ]
     },
     "metadata": {
      "needs_background": "light"
     },
     "output_type": "display_data"
    }
   ],
   "source": [
    "# creates bar chart for region_spending_crosstab\n",
    "region_spending_crosstab_chart = region_spending_crosstab.plot.barh()\n",
    "plt.title('Percentage of High/Low Spenders by Region')\n",
    "plt.xlabel('Region')\n",
    "plt.ylabel('Percentage')\n",
    "plt.tight_layout()"
   ]
  },
  {
   "cell_type": "code",
   "execution_count": 18,
   "id": "d93bdcff",
   "metadata": {},
   "outputs": [],
   "source": [
    "# saves bar chart for Profile distribution\n",
    "region_spending_crosstab_chart.figure.savefig(os.path.join(path, '04 Analysis', 'Visualizations' 'region_spending_crosstab_chart.png'))"
   ]
  },
  {
   "cell_type": "code",
   "execution_count": 19,
   "id": "7a54b822",
   "metadata": {},
   "outputs": [],
   "source": [
    "# saves region_spending_crosstab\n",
    "region_spending_crosstab.to_csv(os.path.join(path,  '04 Analysis', 'region_spending_crosstab.csv'))"
   ]
  },
  {
   "cell_type": "code",
   "execution_count": 20,
   "id": "bb7c8e99",
   "metadata": {},
   "outputs": [],
   "source": [
    "# subsets frame with region 1\n",
    "region1 =orders_products_departments_final[orders_products_departments_final['region']=='Region 1 (Northeast)']"
   ]
  },
  {
   "cell_type": "code",
   "execution_count": 21,
   "id": "a1532d33",
   "metadata": {},
   "outputs": [
    {
     "data": {
      "text/plain": [
       "(5728144, 33)"
      ]
     },
     "execution_count": 21,
     "metadata": {},
     "output_type": "execute_result"
    }
   ],
   "source": [
    "# checks shapy of region1\n",
    "region1.shape"
   ]
  },
  {
   "cell_type": "code",
   "execution_count": 22,
   "id": "ce941d94",
   "metadata": {},
   "outputs": [
    {
     "data": {
      "image/png": "[encoded data removed]",
      "text/plain": [
       "<Figure size 432x288 with 1 Axes>"
      ]
     },
     "metadata": {
      "needs_background": "light"
     },
     "output_type": "display_data"
    }
   ],
   "source": [
    "# creates normalized bar chart of region 1\n",
    "region1 = (region1['department'].value_counts()/5728144).plot.barh(color = 'purple')\n",
    "plt.title('Region 1 (Northeast) Buying Habits by Department')\n",
    "plt.xlabel('Percentage')\n",
    "plt.ylabel('Department')\n",
    "plt.tight_layout()"
   ]
  },
  {
   "cell_type": "code",
   "execution_count": 23,
   "id": "42323f37",
   "metadata": {},
   "outputs": [],
   "source": [
    "#save region1 png\n",
    "region1.figure.savefig(os.path.join(path, '04 Analysis', 'Visualizations','region1dep.png'))"
   ]
  },
  {
   "cell_type": "code",
   "execution_count": 24,
   "id": "ce124f17",
   "metadata": {},
   "outputs": [],
   "source": [
    "# subsets frame with region 2\n",
    "region2 =orders_products_departments_final[orders_products_departments_final['region']=='Region 2 (Midwest)']"
   ]
  },
  {
   "cell_type": "code",
   "execution_count": 25,
   "id": "7034b6cd",
   "metadata": {},
   "outputs": [
    {
     "data": {
      "text/plain": [
       "(7603550, 33)"
      ]
     },
     "execution_count": 25,
     "metadata": {},
     "output_type": "execute_result"
    }
   ],
   "source": [
    "# checks shape of region2\n",
    "region2.shape"
   ]
  },
  {
   "cell_type": "code",
   "execution_count": 26,
   "id": "cf40c5e7",
   "metadata": {},
   "outputs": [
    {
     "data": {
      "image/png": "[encoded data removed]",
      "text/plain": [
       "<Figure size 432x288 with 1 Axes>"
      ]
     },
     "metadata": {
      "needs_background": "light"
     },
     "output_type": "display_data"
    }
   ],
   "source": [
    "# creates normalized bar chart of region 2\n",
    "region2 = (region2['department'].value_counts()/7603550).plot.barh(color = 'purple')\n",
    "plt.title('Region 2 (Midwest) Buying Habits by Department')\n",
    "plt.xlabel('Percentage')\n",
    "plt.ylabel('Department')\n",
    "plt.tight_layout()"
   ]
  },
  {
   "cell_type": "code",
   "execution_count": 27,
   "id": "4da476e5",
   "metadata": {},
   "outputs": [],
   "source": [
    "#save region2 png\n",
    "region2.figure.savefig(os.path.join(path, '04 Analysis', 'Visualizations','region2dep.png'))"
   ]
  },
  {
   "cell_type": "code",
   "execution_count": 28,
   "id": "068191fd",
   "metadata": {},
   "outputs": [],
   "source": [
    "# subsets frame with region 3\n",
    "region3 =orders_products_departments_final[orders_products_departments_final['region']=='Region 3 (South)']"
   ]
  },
  {
   "cell_type": "code",
   "execution_count": 29,
   "id": "03fb09a4",
   "metadata": {},
   "outputs": [
    {
     "data": {
      "text/plain": [
       "(10801195, 33)"
      ]
     },
     "execution_count": 29,
     "metadata": {},
     "output_type": "execute_result"
    }
   ],
   "source": [
    "# checks shape of region3\n",
    "region3.shape"
   ]
  },
  {
   "cell_type": "code",
   "execution_count": 30,
   "id": "73edc115",
   "metadata": {},
   "outputs": [
    {
     "data": {
      "image/png": "[encoded data removed]",
      "text/plain": [
       "<Figure size 432x288 with 1 Axes>"
      ]
     },
     "metadata": {
      "needs_background": "light"
     },
     "output_type": "display_data"
    }
   ],
   "source": [
    "# creates normalized bar chart of region 3\n",
    "region3 = (region3['department'].value_counts()/10801195).plot.barh(color = 'purple')\n",
    "plt.title('Region 2 (Midwest) Buying Habits by Department')\n",
    "plt.xlabel('Percentage')\n",
    "plt.ylabel('Department')\n",
    "plt.tight_layout()"
   ]
  },
  {
   "cell_type": "code",
   "execution_count": 31,
   "id": "cfd8ee0f",
   "metadata": {},
   "outputs": [],
   "source": [
    "#save region3 png\n",
    "region3.figure.savefig(os.path.join(path, '04 Analysis', 'Visualizations','region3dep.png'))"
   ]
  },
  {
   "cell_type": "code",
   "execution_count": 32,
   "id": "34e7966c",
   "metadata": {},
   "outputs": [],
   "source": [
    "# subsets frame with region 4\n",
    "region4 =orders_products_departments_final[orders_products_departments_final['region']=='Region 4 (West)']"
   ]
  },
  {
   "cell_type": "code",
   "execution_count": 33,
   "id": "7ccd551f",
   "metadata": {},
   "outputs": [
    {
     "data": {
      "text/plain": [
       "(8300141, 33)"
      ]
     },
     "execution_count": 33,
     "metadata": {},
     "output_type": "execute_result"
    }
   ],
   "source": [
    "# checks shape of region4\n",
    "region4.shape"
   ]
  },
  {
   "cell_type": "code",
   "execution_count": 34,
   "id": "53ec3ac3",
   "metadata": {},
   "outputs": [
    {
     "data": {
      "image/png": "[encoded data removed]",
      "text/plain": [
       "<Figure size 432x288 with 1 Axes>"
      ]
     },
     "metadata": {
      "needs_background": "light"
     },
     "output_type": "display_data"
    }
   ],
   "source": [
    "# creates normalized bar chart of region 4\n",
    "region4 = (region4['department'].value_counts()/8300141).plot.barh(color = 'purple')\n",
    "plt.title('Region 4 (West) Buying Habits by Department')\n",
    "plt.xlabel('Percentage')\n",
    "plt.ylabel('Department')\n",
    "plt.tight_layout()"
   ]
  },
  {
   "cell_type": "code",
   "execution_count": 35,
   "id": "3a047a14",
   "metadata": {},
   "outputs": [],
   "source": [
    "#save region4 png\n",
    "region4.figure.savefig(os.path.join(path, '04 Analysis', 'Visualizations','region4dep.png'))"
   ]
  },
  {
   "cell_type": "code",
   "execution_count": 36,
   "id": "7e0e8776",
   "metadata": {},
   "outputs": [
    {
     "data": {
      "text/plain": [
       "region\n",
       "Region 1 (Northeast)    11.075993\n",
       "Region 2 (Midwest)      11.181978\n",
       "Region 3 (South)        11.108232\n",
       "Region 4 (West)         11.046991\n",
       "Name: days_passed_since_last_order, dtype: float64"
      ]
     },
     "execution_count": 36,
     "metadata": {},
     "output_type": "execute_result"
    }
   ],
   "source": [
    "# returns mean of days_passed_since_last_order\n",
    "orders_products_departments_final.groupby('region')['days_passed_since_last_order'].mean()"
   ]
  },
  {
   "cell_type": "markdown",
   "id": "e9fe9d4e",
   "metadata": {},
   "source": [
    "# 4 Exclude customers with low activity\n",
    "## low activity is defined as customers with less than 5 orders"
   ]
  },
  {
   "cell_type": "code",
   "execution_count": 37,
   "id": "e69feb55",
   "metadata": {},
   "outputs": [],
   "source": [
    "# creates list for the the activity flag\n",
    "activity_flag_list = []\n",
    "for order_count in orders_products_departments_final['max_orders']:\n",
    "    if order_count < 5:\n",
    "        activity_flag_list.append('low activity')\n",
    "    elif order_count >=5:\n",
    "        activity_flag_list.append('normal/high activity')\n",
    "    else:\n",
    "        activity_flag_list.append('error')"
   ]
  },
  {
   "cell_type": "code",
   "execution_count": 38,
   "id": "7216e0e2",
   "metadata": {},
   "outputs": [],
   "source": [
    "# adds a column for the activity flag\n",
    "orders_products_departments_final['activity_flag'] = activity_flag_list"
   ]
  },
  {
   "cell_type": "code",
   "execution_count": 39,
   "id": "e97f540a",
   "metadata": {},
   "outputs": [],
   "source": [
    "# creates df that filters out customers with low activity\n",
    "normal_high_activity_cust_df = orders_products_departments_final[orders_products_departments_final['activity_flag']== 'normal/high activity']"
   ]
  },
  {
   "cell_type": "code",
   "execution_count": 40,
   "id": "cb799486",
   "metadata": {},
   "outputs": [
    {
     "data": {
      "text/html": [
       "<div>\n",
       "<style scoped>\n",
       "    .dataframe tbody tr th:only-of-type {\n",
       "        vertical-align: middle;\n",
       "    }\n",
       "\n",
       "    .dataframe tbody tr th {\n",
       "        vertical-align: top;\n",
       "    }\n",
       "\n",
       "    .dataframe thead th {\n",
       "        text-align: right;\n",
       "    }\n",
       "</style>\n",
       "<table border=\"1\" class=\"dataframe\">\n",
       "  <thead>\n",
       "    <tr style=\"text-align: right;\">\n",
       "      <th></th>\n",
       "      <th>product_id</th>\n",
       "      <th>product_name</th>\n",
       "      <th>aisle_id</th>\n",
       "      <th>department_id</th>\n",
       "      <th>prices</th>\n",
       "      <th>order_id</th>\n",
       "      <th>user_id</th>\n",
       "      <th>order_number</th>\n",
       "      <th>orders_day_of_week</th>\n",
       "      <th>order_hour_of_day</th>\n",
       "      <th>...</th>\n",
       "      <th>busiest_days</th>\n",
       "      <th>busiest_period_of_day</th>\n",
       "      <th>max_orders</th>\n",
       "      <th>loyalty_flag</th>\n",
       "      <th>average_spend</th>\n",
       "      <th>spender_type</th>\n",
       "      <th>median_days_since_prior_order</th>\n",
       "      <th>Frequent_customer?</th>\n",
       "      <th>region</th>\n",
       "      <th>activity_flag</th>\n",
       "    </tr>\n",
       "  </thead>\n",
       "  <tbody>\n",
       "    <tr>\n",
       "      <th>0</th>\n",
       "      <td>1</td>\n",
       "      <td>Chocolate Sandwich Cookies</td>\n",
       "      <td>61</td>\n",
       "      <td>19</td>\n",
       "      <td>5.8</td>\n",
       "      <td>3139998</td>\n",
       "      <td>138</td>\n",
       "      <td>28</td>\n",
       "      <td>6</td>\n",
       "      <td>11</td>\n",
       "      <td>...</td>\n",
       "      <td>Regularly busy</td>\n",
       "      <td>Average orders</td>\n",
       "      <td>32</td>\n",
       "      <td>Regular customer</td>\n",
       "      <td>6.935811</td>\n",
       "      <td>Low spender</td>\n",
       "      <td>8.0</td>\n",
       "      <td>Frequent customer</td>\n",
       "      <td>Region 2 (Midwest)</td>\n",
       "      <td>normal/high activity</td>\n",
       "    </tr>\n",
       "    <tr>\n",
       "      <th>1</th>\n",
       "      <td>1</td>\n",
       "      <td>Chocolate Sandwich Cookies</td>\n",
       "      <td>61</td>\n",
       "      <td>19</td>\n",
       "      <td>5.8</td>\n",
       "      <td>1977647</td>\n",
       "      <td>138</td>\n",
       "      <td>30</td>\n",
       "      <td>6</td>\n",
       "      <td>17</td>\n",
       "      <td>...</td>\n",
       "      <td>Regularly busy</td>\n",
       "      <td>Average orders</td>\n",
       "      <td>32</td>\n",
       "      <td>Regular customer</td>\n",
       "      <td>6.935811</td>\n",
       "      <td>Low spender</td>\n",
       "      <td>8.0</td>\n",
       "      <td>Frequent customer</td>\n",
       "      <td>Region 2 (Midwest)</td>\n",
       "      <td>normal/high activity</td>\n",
       "    </tr>\n",
       "    <tr>\n",
       "      <th>2</th>\n",
       "      <td>4913</td>\n",
       "      <td>Table Water Crackers</td>\n",
       "      <td>78</td>\n",
       "      <td>19</td>\n",
       "      <td>4.4</td>\n",
       "      <td>894221</td>\n",
       "      <td>138</td>\n",
       "      <td>23</td>\n",
       "      <td>5</td>\n",
       "      <td>13</td>\n",
       "      <td>...</td>\n",
       "      <td>Regularly busy</td>\n",
       "      <td>Average orders</td>\n",
       "      <td>32</td>\n",
       "      <td>Regular customer</td>\n",
       "      <td>6.935811</td>\n",
       "      <td>Low spender</td>\n",
       "      <td>8.0</td>\n",
       "      <td>Frequent customer</td>\n",
       "      <td>Region 2 (Midwest)</td>\n",
       "      <td>normal/high activity</td>\n",
       "    </tr>\n",
       "    <tr>\n",
       "      <th>3</th>\n",
       "      <td>11759</td>\n",
       "      <td>Organic Simply Naked Pita Chips</td>\n",
       "      <td>107</td>\n",
       "      <td>19</td>\n",
       "      <td>4.4</td>\n",
       "      <td>1986630</td>\n",
       "      <td>138</td>\n",
       "      <td>7</td>\n",
       "      <td>0</td>\n",
       "      <td>12</td>\n",
       "      <td>...</td>\n",
       "      <td>Busiest day</td>\n",
       "      <td>Average orders</td>\n",
       "      <td>32</td>\n",
       "      <td>Regular customer</td>\n",
       "      <td>6.935811</td>\n",
       "      <td>Low spender</td>\n",
       "      <td>8.0</td>\n",
       "      <td>Frequent customer</td>\n",
       "      <td>Region 2 (Midwest)</td>\n",
       "      <td>normal/high activity</td>\n",
       "    </tr>\n",
       "    <tr>\n",
       "      <th>4</th>\n",
       "      <td>13424</td>\n",
       "      <td>Almonds</td>\n",
       "      <td>45</td>\n",
       "      <td>19</td>\n",
       "      <td>4.2</td>\n",
       "      <td>3139998</td>\n",
       "      <td>138</td>\n",
       "      <td>28</td>\n",
       "      <td>6</td>\n",
       "      <td>11</td>\n",
       "      <td>...</td>\n",
       "      <td>Regularly busy</td>\n",
       "      <td>Average orders</td>\n",
       "      <td>32</td>\n",
       "      <td>Regular customer</td>\n",
       "      <td>6.935811</td>\n",
       "      <td>Low spender</td>\n",
       "      <td>8.0</td>\n",
       "      <td>Frequent customer</td>\n",
       "      <td>Region 2 (Midwest)</td>\n",
       "      <td>normal/high activity</td>\n",
       "    </tr>\n",
       "  </tbody>\n",
       "</table>\n",
       "<p>5 rows × 34 columns</p>\n",
       "</div>"
      ],
      "text/plain": [
       "  product_id                     product_name aisle_id department_id  prices  \\\n",
       "0          1       Chocolate Sandwich Cookies       61            19     5.8   \n",
       "1          1       Chocolate Sandwich Cookies       61            19     5.8   \n",
       "2       4913             Table Water Crackers       78            19     4.4   \n",
       "3      11759  Organic Simply Naked Pita Chips      107            19     4.4   \n",
       "4      13424                          Almonds       45            19     4.2   \n",
       "\n",
       "  order_id user_id  order_number  orders_day_of_week  order_hour_of_day  ...  \\\n",
       "0  3139998     138            28                   6                 11  ...   \n",
       "1  1977647     138            30                   6                 17  ...   \n",
       "2   894221     138            23                   5                 13  ...   \n",
       "3  1986630     138             7                   0                 12  ...   \n",
       "4  3139998     138            28                   6                 11  ...   \n",
       "\n",
       "     busiest_days  busiest_period_of_day  max_orders      loyalty_flag  \\\n",
       "0  Regularly busy         Average orders          32  Regular customer   \n",
       "1  Regularly busy         Average orders          32  Regular customer   \n",
       "2  Regularly busy         Average orders          32  Regular customer   \n",
       "3     Busiest day         Average orders          32  Regular customer   \n",
       "4  Regularly busy         Average orders          32  Regular customer   \n",
       "\n",
       "  average_spend  spender_type median_days_since_prior_order  \\\n",
       "0      6.935811   Low spender                           8.0   \n",
       "1      6.935811   Low spender                           8.0   \n",
       "2      6.935811   Low spender                           8.0   \n",
       "3      6.935811   Low spender                           8.0   \n",
       "4      6.935811   Low spender                           8.0   \n",
       "\n",
       "   Frequent_customer?              region         activity_flag  \n",
       "0   Frequent customer  Region 2 (Midwest)  normal/high activity  \n",
       "1   Frequent customer  Region 2 (Midwest)  normal/high activity  \n",
       "2   Frequent customer  Region 2 (Midwest)  normal/high activity  \n",
       "3   Frequent customer  Region 2 (Midwest)  normal/high activity  \n",
       "4   Frequent customer  Region 2 (Midwest)  normal/high activity  \n",
       "\n",
       "[5 rows x 34 columns]"
      ]
     },
     "execution_count": 40,
     "metadata": {},
     "output_type": "execute_result"
    }
   ],
   "source": [
    "# checks first five rows of normal_high_activity_cust_df\n",
    "normal_high_activity_cust_df.head()"
   ]
  },
  {
   "cell_type": "code",
   "execution_count": 41,
   "id": "af9fb2e8",
   "metadata": {},
   "outputs": [
    {
     "data": {
      "text/plain": [
       "(30991542, 34)"
      ]
     },
     "execution_count": 41,
     "metadata": {},
     "output_type": "execute_result"
    }
   ],
   "source": [
    "# checks shape of normal_high_activity_cust_df\n",
    "normal_high_activity_cust_df.shape"
   ]
  },
  {
   "cell_type": "markdown",
   "id": "0e6f8aae",
   "metadata": {},
   "source": [
    "# 5. Customer Profiling\n",
    "## Creating a variable for Profile based on gender & income\n",
    "### income range based on https://www.investopedia.com/financial-edge/0912/which-income-class-are-you.aspx\n",
    "#### Profiles: Low Income Male, Low Income Female, Middle Income Male, Middle Income Female, High Income Male, High Income Female"
   ]
  },
  {
   "cell_type": "code",
   "execution_count": 42,
   "id": "f420a67d",
   "metadata": {},
   "outputs": [],
   "source": [
    "#defines 'Low Income Male' profile\n",
    "orders_products_departments_final.loc[(orders_products_departments_final['gender']=='Male') & (orders_products_departments_final['income']<42000), 'profile'] = 'Low Income Male'"
   ]
  },
  {
   "cell_type": "code",
   "execution_count": 43,
   "id": "aaee9309",
   "metadata": {},
   "outputs": [],
   "source": [
    "#defines 'Low Income Female' profile\n",
    "orders_products_departments_final.loc[(orders_products_departments_final['gender'] == 'Female') & (orders_products_departments_final['income']<42000), 'profile'] = 'Low Income Female'"
   ]
  },
  {
   "cell_type": "code",
   "execution_count": 44,
   "id": "73ab9f3d",
   "metadata": {},
   "outputs": [],
   "source": [
    "#defines 'High Income Male' profile\n",
    "orders_products_departments_final.loc[(orders_products_departments_final['gender']=='Male') & (orders_products_departments_final['income']>126000), 'profile'] = 'High Income Male'"
   ]
  },
  {
   "cell_type": "code",
   "execution_count": 45,
   "id": "2302eae3",
   "metadata": {},
   "outputs": [],
   "source": [
    "#defines 'High Income Female' profile\n",
    "orders_products_departments_final.loc[(orders_products_departments_final['gender']=='Female') & (orders_products_departments_final['income']>126000), 'profile'] = 'High Income Female'"
   ]
  },
  {
   "cell_type": "code",
   "execution_count": 46,
   "id": "efd2ef3c",
   "metadata": {},
   "outputs": [],
   "source": [
    "#defines 'Middle Income Male' profile\n",
    "orders_products_departments_final.loc[(orders_products_departments_final['gender']=='Male') & ((orders_products_departments_final['income']>=42000) & (orders_products_departments_final['income']<=126000)), 'profile'] = 'Middle Income Male'"
   ]
  },
  {
   "cell_type": "code",
   "execution_count": 47,
   "id": "eb899219",
   "metadata": {},
   "outputs": [],
   "source": [
    "#defines 'Middle Income Female ' profile\n",
    "orders_products_departments_final.loc[(orders_products_departments_final['gender']=='Female') & ((orders_products_departments_final['income']>=42000) & (orders_products_departments_final['income']<=126000)), 'profile'] = 'Middle Income Female'"
   ]
  },
  {
   "cell_type": "code",
   "execution_count": 48,
   "id": "897738f3",
   "metadata": {},
   "outputs": [
    {
     "data": {
      "text/plain": [
       "Middle Income Male      11074756\n",
       "Middle Income Female    10836495\n",
       "High Income Female       4246734\n",
       "High Income Male         4212412\n",
       "Low Income Male          1041901\n",
       "Low Income Female        1020732\n",
       "Name: profile, dtype: int64"
      ]
     },
     "execution_count": 48,
     "metadata": {},
     "output_type": "execute_result"
    }
   ],
   "source": [
    "# outputs value counts for 'Profile'\n",
    "orders_products_departments_final['profile'].value_counts()"
   ]
  },
  {
   "cell_type": "markdown",
   "id": "3dbf6ffd",
   "metadata": {},
   "source": [
    "# 6. Visualization for the distribution of Profiles"
   ]
  },
  {
   "cell_type": "code",
   "execution_count": 49,
   "id": "0cc5fd1c",
   "metadata": {},
   "outputs": [
    {
     "data": {
      "image/png": "[encoded data removed]",
      "text/plain": [
       "<Figure size 432x288 with 1 Axes>"
      ]
     },
     "metadata": {
      "needs_background": "light"
     },
     "output_type": "display_data"
    }
   ],
   "source": [
    "#creates bar graph for the distribution of the Profile variable\n",
    "profile_distribution_bar = orders_products_departments_final['profile'].value_counts().plot.barh(color = 'purple')\n",
    "plt.title('Customer Profile Distribution')\n",
    "plt.xlabel('Count')\n",
    "plt.ylabel('Profile')\n",
    "plt.tight_layout()"
   ]
  },
  {
   "cell_type": "code",
   "execution_count": 50,
   "id": "2888e673",
   "metadata": {},
   "outputs": [],
   "source": [
    "# creates path to 04 Analysis folder\n",
    "path2 = r'/Users/oliviamurphy/Desktop/2022-01 Insta Cart Analysis/04 Analysis/Visualizations'"
   ]
  },
  {
   "cell_type": "code",
   "execution_count": 51,
   "id": "82fc3faf",
   "metadata": {},
   "outputs": [],
   "source": [
    "# saves bar chart for Profile distribution\n",
    "profile_distribution_bar.figure.savefig(os.path.join(path2, 'profile_distribution_bar.png'))"
   ]
  },
  {
   "cell_type": "markdown",
   "id": "d1f38a25",
   "metadata": {},
   "source": [
    "# 7. Customer-profile level aggregates for usage frequency and expenditure."
   ]
  },
  {
   "cell_type": "code",
   "execution_count": 52,
   "id": "101c8649",
   "metadata": {},
   "outputs": [],
   "source": [
    "# creates short version of customer_df with only needed info\n",
    "final_short = orders_products_departments_final[['user_id', 'profile', 'prices', 'order_number', 'region', 'department']]"
   ]
  },
  {
   "cell_type": "code",
   "execution_count": 53,
   "id": "050e2c62",
   "metadata": {},
   "outputs": [
    {
     "data": {
      "text/html": [
       "<div>\n",
       "<style scoped>\n",
       "    .dataframe tbody tr th:only-of-type {\n",
       "        vertical-align: middle;\n",
       "    }\n",
       "\n",
       "    .dataframe tbody tr th {\n",
       "        vertical-align: top;\n",
       "    }\n",
       "\n",
       "    .dataframe thead th {\n",
       "        text-align: right;\n",
       "    }\n",
       "</style>\n",
       "<table border=\"1\" class=\"dataframe\">\n",
       "  <thead>\n",
       "    <tr style=\"text-align: right;\">\n",
       "      <th></th>\n",
       "      <th>user_id</th>\n",
       "      <th>profile</th>\n",
       "      <th>prices</th>\n",
       "      <th>order_number</th>\n",
       "      <th>region</th>\n",
       "      <th>department</th>\n",
       "    </tr>\n",
       "  </thead>\n",
       "  <tbody>\n",
       "    <tr>\n",
       "      <th>0</th>\n",
       "      <td>138</td>\n",
       "      <td>Middle Income Male</td>\n",
       "      <td>5.8</td>\n",
       "      <td>28</td>\n",
       "      <td>Region 2 (Midwest)</td>\n",
       "      <td>snacks</td>\n",
       "    </tr>\n",
       "    <tr>\n",
       "      <th>1</th>\n",
       "      <td>138</td>\n",
       "      <td>Middle Income Male</td>\n",
       "      <td>5.8</td>\n",
       "      <td>30</td>\n",
       "      <td>Region 2 (Midwest)</td>\n",
       "      <td>snacks</td>\n",
       "    </tr>\n",
       "    <tr>\n",
       "      <th>2</th>\n",
       "      <td>138</td>\n",
       "      <td>Middle Income Male</td>\n",
       "      <td>4.4</td>\n",
       "      <td>23</td>\n",
       "      <td>Region 2 (Midwest)</td>\n",
       "      <td>snacks</td>\n",
       "    </tr>\n",
       "    <tr>\n",
       "      <th>3</th>\n",
       "      <td>138</td>\n",
       "      <td>Middle Income Male</td>\n",
       "      <td>4.4</td>\n",
       "      <td>7</td>\n",
       "      <td>Region 2 (Midwest)</td>\n",
       "      <td>snacks</td>\n",
       "    </tr>\n",
       "    <tr>\n",
       "      <th>4</th>\n",
       "      <td>138</td>\n",
       "      <td>Middle Income Male</td>\n",
       "      <td>4.2</td>\n",
       "      <td>28</td>\n",
       "      <td>Region 2 (Midwest)</td>\n",
       "      <td>snacks</td>\n",
       "    </tr>\n",
       "  </tbody>\n",
       "</table>\n",
       "</div>"
      ],
      "text/plain": [
       "  user_id             profile  prices  order_number              region  \\\n",
       "0     138  Middle Income Male     5.8            28  Region 2 (Midwest)   \n",
       "1     138  Middle Income Male     5.8            30  Region 2 (Midwest)   \n",
       "2     138  Middle Income Male     4.4            23  Region 2 (Midwest)   \n",
       "3     138  Middle Income Male     4.4             7  Region 2 (Midwest)   \n",
       "4     138  Middle Income Male     4.2            28  Region 2 (Midwest)   \n",
       "\n",
       "  department  \n",
       "0     snacks  \n",
       "1     snacks  \n",
       "2     snacks  \n",
       "3     snacks  \n",
       "4     snacks  "
      ]
     },
     "execution_count": 53,
     "metadata": {},
     "output_type": "execute_result"
    }
   ],
   "source": [
    "# checks first five rows of customer_dep_short\n",
    "final_short.head()"
   ]
  },
  {
   "cell_type": "code",
   "execution_count": null,
   "id": "22f61d4c",
   "metadata": {},
   "outputs": [],
   "source": [
    "# creates column for total visits\n",
    "final_short_grouped= final_short.groupby(['user_id', 'profile']).agg({'prices': ['sum'],'order_number': ['max']})"
   ]
  },
  {
   "cell_type": "code",
   "execution_count": null,
   "id": "f155f752",
   "metadata": {},
   "outputs": [],
   "source": [
    "# renames 'prices' to 'total_spend' and 'order_number'to 'number_of_visits'\n",
    "final_short_grouped =final_short_grouped.rename(columns = {'prices': 'total_spend', 'order_number': 'number_of_visits' })"
   ]
  },
  {
   "cell_type": "code",
   "execution_count": null,
   "id": "e93193b3",
   "metadata": {},
   "outputs": [],
   "source": [
    "# creates copy of customer_dep_short_grouped['total_spend'] to use to create new columns\n",
    "final_short_grouped['total_spend_2'] = final_short_grouped['total_spend']"
   ]
  },
  {
   "cell_type": "code",
   "execution_count": null,
   "id": "ef2787d5",
   "metadata": {},
   "outputs": [],
   "source": [
    "# creates copy of customer_dep_short_grouped['number_of_visits_2'] to use to create new columns\n",
    "final_short_grouped['number_of_visits_2'] = final_short_grouped['number_of_visits']"
   ]
  },
  {
   "cell_type": "code",
   "execution_count": null,
   "id": "c541b93b",
   "metadata": {},
   "outputs": [],
   "source": [
    "#changes dtype of number_of_visits_2 to float\n",
    "final_short_grouped['number_of_visits_2'] = final_short_grouped['number_of_visits_2'].astype(np.float64)"
   ]
  },
  {
   "cell_type": "code",
   "execution_count": null,
   "id": "dbc5ab94",
   "metadata": {},
   "outputs": [],
   "source": [
    "# creates column for average spend\n",
    "final_short_grouped['average_spend'] = final_short_grouped['total_spend_2'] /final_short_grouped['number_of_visits_2']"
   ]
  },
  {
   "cell_type": "code",
   "execution_count": null,
   "id": "6d06c0a4",
   "metadata": {},
   "outputs": [],
   "source": [
    "# drops aggregated version of columns, as they are no longer needed\n",
    "final_short_grouped_frequency = final_short_grouped.drop(columns = ['total_spend', 'total_spend_2', 'average_spend', 'number_of_visits'])"
   ]
  },
  {
   "cell_type": "markdown",
   "id": "b7734395",
   "metadata": {},
   "source": [
    "## Customer-profile level aggregates for usage frequency\n",
    "### On average, low income males & females are visiting the grocery store less than their middle & high income counterparts. There is very little difference in usage frequency between high income & middle income males and females."
   ]
  },
  {
   "cell_type": "code",
   "execution_count": 168,
   "id": "a7b0c57a",
   "metadata": {},
   "outputs": [
    {
     "data": {
      "text/html": [
       "<div>\n",
       "<style scoped>\n",
       "    .dataframe tbody tr th:only-of-type {\n",
       "        vertical-align: middle;\n",
       "    }\n",
       "\n",
       "    .dataframe tbody tr th {\n",
       "        vertical-align: top;\n",
       "    }\n",
       "\n",
       "    .dataframe thead tr th {\n",
       "        text-align: left;\n",
       "    }\n",
       "\n",
       "    .dataframe thead tr:last-of-type th {\n",
       "        text-align: right;\n",
       "    }\n",
       "</style>\n",
       "<table border=\"1\" class=\"dataframe\">\n",
       "  <thead>\n",
       "    <tr>\n",
       "      <th></th>\n",
       "      <th colspan=\"3\" halign=\"left\">number_of_visits_2</th>\n",
       "    </tr>\n",
       "    <tr>\n",
       "      <th></th>\n",
       "      <th colspan=\"3\" halign=\"left\"></th>\n",
       "    </tr>\n",
       "    <tr>\n",
       "      <th></th>\n",
       "      <th>min</th>\n",
       "      <th>mean</th>\n",
       "      <th>max</th>\n",
       "    </tr>\n",
       "    <tr>\n",
       "      <th>profile</th>\n",
       "      <th></th>\n",
       "      <th></th>\n",
       "      <th></th>\n",
       "    </tr>\n",
       "  </thead>\n",
       "  <tbody>\n",
       "    <tr>\n",
       "      <th>High Income Female</th>\n",
       "      <td>3.0</td>\n",
       "      <td>16.333374</td>\n",
       "      <td>99.0</td>\n",
       "    </tr>\n",
       "    <tr>\n",
       "      <th>High Income Male</th>\n",
       "      <td>3.0</td>\n",
       "      <td>15.959593</td>\n",
       "      <td>99.0</td>\n",
       "    </tr>\n",
       "    <tr>\n",
       "      <th>Low Income Female</th>\n",
       "      <td>3.0</td>\n",
       "      <td>13.226021</td>\n",
       "      <td>99.0</td>\n",
       "    </tr>\n",
       "    <tr>\n",
       "      <th>Low Income Male</th>\n",
       "      <td>3.0</td>\n",
       "      <td>13.207359</td>\n",
       "      <td>99.0</td>\n",
       "    </tr>\n",
       "    <tr>\n",
       "      <th>Middle Income Female</th>\n",
       "      <td>3.0</td>\n",
       "      <td>15.698973</td>\n",
       "      <td>99.0</td>\n",
       "    </tr>\n",
       "    <tr>\n",
       "      <th>Middle Income Male</th>\n",
       "      <td>3.0</td>\n",
       "      <td>15.789727</td>\n",
       "      <td>99.0</td>\n",
       "    </tr>\n",
       "  </tbody>\n",
       "</table>\n",
       "</div>"
      ],
      "text/plain": [
       "                     number_of_visits_2                 \n",
       "                                                        \n",
       "                                    min       mean   max\n",
       "profile                                                 \n",
       "High Income Female                  3.0  16.333374  99.0\n",
       "High Income Male                    3.0  15.959593  99.0\n",
       "Low Income Female                   3.0  13.226021  99.0\n",
       "Low Income Male                     3.0  13.207359  99.0\n",
       "Middle Income Female                3.0  15.698973  99.0\n",
       "Middle Income Male                  3.0  15.789727  99.0"
      ]
     },
     "execution_count": 168,
     "metadata": {},
     "output_type": "execute_result"
    }
   ],
   "source": [
    "# outputs the min, mean, and max number of visits by Profile\n",
    "final_short_grouped_frequency.groupby('profile').agg(['min', 'mean', 'max'])"
   ]
  },
  {
   "cell_type": "code",
   "execution_count": 222,
   "id": "cf64383a",
   "metadata": {},
   "outputs": [
    {
     "data": {
      "image/png": "[encoded data removed]",
      "text/plain": [
       "<Figure size 432x288 with 1 Axes>"
      ]
     },
     "metadata": {
      "needs_background": "light"
     },
     "output_type": "display_data"
    }
   ],
   "source": [
    "# creates chart of Profile value counts\n",
    "final_short_grouped_frequency_bar = final_short_grouped_frequency.groupby('profile').agg(['mean']).plot.bar( color = 'purple')\n",
    "plt.title('Profile Average Usage Frequency')\n",
    "plt.xlabel('Profile')\n",
    "plt.ylabel('Days')\n",
    "plt.tight_layout()"
   ]
  },
  {
   "cell_type": "markdown",
   "id": "a7b4261c",
   "metadata": {},
   "source": [
    "## Customer-profile level aggregates for expenditure\n",
    "### On average, high income males & females are spending much more than middle income males and females. Low income males & females are spending much less than their middle & high income counter parts, on average."
   ]
  },
  {
   "cell_type": "code",
   "execution_count": 174,
   "id": "aebeec01",
   "metadata": {},
   "outputs": [
    {
     "name": "stderr",
     "output_type": "stream",
     "text": [
      "/Users/oliviamurphy/opt/anaconda3/lib/python3.9/site-packages/pandas/core/generic.py:4150: PerformanceWarning: dropping on a non-lexsorted multi-index without a level parameter may impact performance.\n",
      "  obj = obj._drop_axis(labels, axis, level=level, errors=errors)\n"
     ]
    }
   ],
   "source": [
    "# drops aggregated version of columns\n",
    "final_short_grouped_expenditure = final_short_grouped.drop(columns = ['total_spend', 'total_spend_2', 'number_of_visits_2', 'number_of_visits'])"
   ]
  },
  {
   "cell_type": "code",
   "execution_count": 175,
   "id": "1bfccdcb",
   "metadata": {},
   "outputs": [
    {
     "data": {
      "text/html": [
       "<div>\n",
       "<style scoped>\n",
       "    .dataframe tbody tr th:only-of-type {\n",
       "        vertical-align: middle;\n",
       "    }\n",
       "\n",
       "    .dataframe tbody tr th {\n",
       "        vertical-align: top;\n",
       "    }\n",
       "\n",
       "    .dataframe thead tr th {\n",
       "        text-align: left;\n",
       "    }\n",
       "\n",
       "    .dataframe thead tr:last-of-type th {\n",
       "        text-align: right;\n",
       "    }\n",
       "</style>\n",
       "<table border=\"1\" class=\"dataframe\">\n",
       "  <thead>\n",
       "    <tr>\n",
       "      <th></th>\n",
       "      <th colspan=\"3\" halign=\"left\">average_spend</th>\n",
       "    </tr>\n",
       "    <tr>\n",
       "      <th></th>\n",
       "      <th colspan=\"3\" halign=\"left\"></th>\n",
       "    </tr>\n",
       "    <tr>\n",
       "      <th></th>\n",
       "      <th>min</th>\n",
       "      <th>mean</th>\n",
       "      <th>max</th>\n",
       "    </tr>\n",
       "    <tr>\n",
       "      <th>profile</th>\n",
       "      <th></th>\n",
       "      <th></th>\n",
       "      <th></th>\n",
       "    </tr>\n",
       "  </thead>\n",
       "  <tbody>\n",
       "    <tr>\n",
       "      <th>High Income Female</th>\n",
       "      <td>7.066667</td>\n",
       "      <td>84.491085</td>\n",
       "      <td>392.040000</td>\n",
       "    </tr>\n",
       "    <tr>\n",
       "      <th>High Income Male</th>\n",
       "      <td>5.307143</td>\n",
       "      <td>84.672808</td>\n",
       "      <td>490.500000</td>\n",
       "    </tr>\n",
       "    <tr>\n",
       "      <th>Low Income Female</th>\n",
       "      <td>1.000000</td>\n",
       "      <td>48.210185</td>\n",
       "      <td>333.922000</td>\n",
       "    </tr>\n",
       "    <tr>\n",
       "      <th>Low Income Male</th>\n",
       "      <td>1.000000</td>\n",
       "      <td>48.088392</td>\n",
       "      <td>379.989062</td>\n",
       "    </tr>\n",
       "    <tr>\n",
       "      <th>Middle Income Female</th>\n",
       "      <td>1.100000</td>\n",
       "      <td>79.631701</td>\n",
       "      <td>450.266667</td>\n",
       "    </tr>\n",
       "    <tr>\n",
       "      <th>Middle Income Male</th>\n",
       "      <td>1.000000</td>\n",
       "      <td>79.419977</td>\n",
       "      <td>548.725000</td>\n",
       "    </tr>\n",
       "  </tbody>\n",
       "</table>\n",
       "</div>"
      ],
      "text/plain": [
       "                     average_spend                       \n",
       "                                                         \n",
       "                               min       mean         max\n",
       "profile                                                  \n",
       "High Income Female        7.066667  84.491085  392.040000\n",
       "High Income Male          5.307143  84.672808  490.500000\n",
       "Low Income Female         1.000000  48.210185  333.922000\n",
       "Low Income Male           1.000000  48.088392  379.989062\n",
       "Middle Income Female      1.100000  79.631701  450.266667\n",
       "Middle Income Male        1.000000  79.419977  548.725000"
      ]
     },
     "execution_count": 175,
     "metadata": {},
     "output_type": "execute_result"
    }
   ],
   "source": [
    "# Expenditure descriptive statistics for customer profile\n",
    "final_short_grouped_expenditure.groupby('profile').agg(['min', 'mean', 'max'])"
   ]
  },
  {
   "cell_type": "code",
   "execution_count": 176,
   "id": "11f7fc7c",
   "metadata": {
    "scrolled": true
   },
   "outputs": [
    {
     "data": {
      "image/png": "[encoded data removed]",
      "text/plain": [
       "<Figure size 432x288 with 1 Axes>"
      ]
     },
     "metadata": {
      "needs_background": "light"
     },
     "output_type": "display_data"
    }
   ],
   "source": [
    "# creates chart of the average expenditure per trip by Profile\n",
    "final_short_grouped_expenditure_bar = final_short_grouped_expenditure.groupby('profile').agg(['mean']).plot.bar(color = 'purple')\n",
    "plt.title('Average Expenditure by Profile')\n",
    "plt.xlabel('Profile')\n",
    "plt.ylabel('Average Expenditure')\n",
    "plt.tight_layout()"
   ]
  },
  {
   "cell_type": "markdown",
   "id": "12643632",
   "metadata": {},
   "source": [
    "# 8. Compare your customer profiles with regions and departments. Can you identify a link between them? Customers may demonstrate different behaviors across regions, which could make this information important.\n",
    "## Spending patterns between profiles are very similar across regions, but not departments. "
   ]
  },
  {
   "cell_type": "code",
   "execution_count": 177,
   "id": "01211e14",
   "metadata": {},
   "outputs": [
    {
     "data": {
      "text/html": [
       "<div>\n",
       "<style scoped>\n",
       "    .dataframe tbody tr th:only-of-type {\n",
       "        vertical-align: middle;\n",
       "    }\n",
       "\n",
       "    .dataframe tbody tr th {\n",
       "        vertical-align: top;\n",
       "    }\n",
       "\n",
       "    .dataframe thead th {\n",
       "        text-align: right;\n",
       "    }\n",
       "</style>\n",
       "<table border=\"1\" class=\"dataframe\">\n",
       "  <thead>\n",
       "    <tr style=\"text-align: right;\">\n",
       "      <th></th>\n",
       "      <th>user_id</th>\n",
       "      <th>profile</th>\n",
       "      <th>prices</th>\n",
       "      <th>order_number</th>\n",
       "      <th>region</th>\n",
       "      <th>department</th>\n",
       "    </tr>\n",
       "  </thead>\n",
       "  <tbody>\n",
       "    <tr>\n",
       "      <th>0</th>\n",
       "      <td>138</td>\n",
       "      <td>Middle Income Male</td>\n",
       "      <td>5.8</td>\n",
       "      <td>28</td>\n",
       "      <td>Region 2 (Midwest)</td>\n",
       "      <td>snacks</td>\n",
       "    </tr>\n",
       "    <tr>\n",
       "      <th>1</th>\n",
       "      <td>138</td>\n",
       "      <td>Middle Income Male</td>\n",
       "      <td>5.8</td>\n",
       "      <td>30</td>\n",
       "      <td>Region 2 (Midwest)</td>\n",
       "      <td>snacks</td>\n",
       "    </tr>\n",
       "    <tr>\n",
       "      <th>2</th>\n",
       "      <td>138</td>\n",
       "      <td>Middle Income Male</td>\n",
       "      <td>4.4</td>\n",
       "      <td>23</td>\n",
       "      <td>Region 2 (Midwest)</td>\n",
       "      <td>snacks</td>\n",
       "    </tr>\n",
       "    <tr>\n",
       "      <th>3</th>\n",
       "      <td>138</td>\n",
       "      <td>Middle Income Male</td>\n",
       "      <td>4.4</td>\n",
       "      <td>7</td>\n",
       "      <td>Region 2 (Midwest)</td>\n",
       "      <td>snacks</td>\n",
       "    </tr>\n",
       "    <tr>\n",
       "      <th>4</th>\n",
       "      <td>138</td>\n",
       "      <td>Middle Income Male</td>\n",
       "      <td>4.2</td>\n",
       "      <td>28</td>\n",
       "      <td>Region 2 (Midwest)</td>\n",
       "      <td>snacks</td>\n",
       "    </tr>\n",
       "  </tbody>\n",
       "</table>\n",
       "</div>"
      ],
      "text/plain": [
       "  user_id             profile  prices  order_number              region  \\\n",
       "0     138  Middle Income Male     5.8            28  Region 2 (Midwest)   \n",
       "1     138  Middle Income Male     5.8            30  Region 2 (Midwest)   \n",
       "2     138  Middle Income Male     4.4            23  Region 2 (Midwest)   \n",
       "3     138  Middle Income Male     4.4             7  Region 2 (Midwest)   \n",
       "4     138  Middle Income Male     4.2            28  Region 2 (Midwest)   \n",
       "\n",
       "  department  \n",
       "0     snacks  \n",
       "1     snacks  \n",
       "2     snacks  \n",
       "3     snacks  \n",
       "4     snacks  "
      ]
     },
     "execution_count": 177,
     "metadata": {},
     "output_type": "execute_result"
    }
   ],
   "source": [
    "# checks first five rows of final_short\n",
    "final_short.head()"
   ]
  },
  {
   "cell_type": "code",
   "execution_count": 178,
   "id": "e2cfbd7c",
   "metadata": {},
   "outputs": [],
   "source": [
    "# creates column for total visits\n",
    "final_short_grouped_region= final_short.groupby(['user_id', 'profile', 'region']).agg({'prices': ['sum'],'order_number': ['max']})"
   ]
  },
  {
   "cell_type": "code",
   "execution_count": 179,
   "id": "6b14dd14",
   "metadata": {},
   "outputs": [],
   "source": [
    "# renames 'prices' to 'total_spend' and 'order_number' to 'number_of_visits' \n",
    "final_short_grouped_region =final_short_grouped_region.rename(columns = {'prices': 'total_spend', 'order_number': 'number_of_visits' })"
   ]
  },
  {
   "cell_type": "code",
   "execution_count": 180,
   "id": "2a9285c5",
   "metadata": {},
   "outputs": [],
   "source": [
    "# creates copy of customer_dep_short_grouped['total_spend'] to use to create new columns\n",
    "final_short_grouped_region['total_spend_2'] = final_short_grouped_region['total_spend']"
   ]
  },
  {
   "cell_type": "code",
   "execution_count": 181,
   "id": "4ea69942",
   "metadata": {},
   "outputs": [],
   "source": [
    "# creates copy of customer_dep_short_grouped['number_of_visits_2'] to use to create new columns\n",
    "final_short_grouped_region['number_of_visits_2'] = final_short_grouped_region['number_of_visits']"
   ]
  },
  {
   "cell_type": "code",
   "execution_count": 182,
   "id": "e0069039",
   "metadata": {},
   "outputs": [],
   "source": [
    "# creates column for average spend\n",
    "final_short_grouped_region['average_spend'] = final_short_grouped_region['total_spend_2'] /final_short_grouped_region['number_of_visits_2']"
   ]
  },
  {
   "cell_type": "code",
   "execution_count": 183,
   "id": "5c8fc498",
   "metadata": {},
   "outputs": [
    {
     "name": "stderr",
     "output_type": "stream",
     "text": [
      "/Users/oliviamurphy/opt/anaconda3/lib/python3.9/site-packages/pandas/core/generic.py:4150: PerformanceWarning: dropping on a non-lexsorted multi-index without a level parameter may impact performance.\n",
      "  obj = obj._drop_axis(labels, axis, level=level, errors=errors)\n"
     ]
    }
   ],
   "source": [
    "# drops aggregated version of columns\n",
    "final_short_grouped_region = final_short_grouped_region.drop(columns = ['total_spend', 'total_spend_2', 'number_of_visits_2', 'number_of_visits'])"
   ]
  },
  {
   "cell_type": "code",
   "execution_count": 184,
   "id": "2fe2a6a5",
   "metadata": {},
   "outputs": [
    {
     "data": {
      "text/html": [
       "<div>\n",
       "<style scoped>\n",
       "    .dataframe tbody tr th:only-of-type {\n",
       "        vertical-align: middle;\n",
       "    }\n",
       "\n",
       "    .dataframe tbody tr th {\n",
       "        vertical-align: top;\n",
       "    }\n",
       "\n",
       "    .dataframe thead tr th {\n",
       "        text-align: left;\n",
       "    }\n",
       "\n",
       "    .dataframe thead tr:last-of-type th {\n",
       "        text-align: right;\n",
       "    }\n",
       "</style>\n",
       "<table border=\"1\" class=\"dataframe\">\n",
       "  <thead>\n",
       "    <tr>\n",
       "      <th></th>\n",
       "      <th></th>\n",
       "      <th colspan=\"3\" halign=\"left\">average_spend</th>\n",
       "    </tr>\n",
       "    <tr>\n",
       "      <th></th>\n",
       "      <th></th>\n",
       "      <th colspan=\"3\" halign=\"left\"></th>\n",
       "    </tr>\n",
       "    <tr>\n",
       "      <th></th>\n",
       "      <th></th>\n",
       "      <th>min</th>\n",
       "      <th>mean</th>\n",
       "      <th>max</th>\n",
       "    </tr>\n",
       "    <tr>\n",
       "      <th>region</th>\n",
       "      <th>profile</th>\n",
       "      <th></th>\n",
       "      <th></th>\n",
       "      <th></th>\n",
       "    </tr>\n",
       "  </thead>\n",
       "  <tbody>\n",
       "    <tr>\n",
       "      <th rowspan=\"6\" valign=\"top\">Region 1 (Northeast)</th>\n",
       "      <th>High Income Female</th>\n",
       "      <td>9.000000</td>\n",
       "      <td>84.431614</td>\n",
       "      <td>381.778571</td>\n",
       "    </tr>\n",
       "    <tr>\n",
       "      <th>High Income Male</th>\n",
       "      <td>7.200000</td>\n",
       "      <td>85.131189</td>\n",
       "      <td>490.500000</td>\n",
       "    </tr>\n",
       "    <tr>\n",
       "      <th>Low Income Female</th>\n",
       "      <td>1.100000</td>\n",
       "      <td>47.536795</td>\n",
       "      <td>273.950000</td>\n",
       "    </tr>\n",
       "    <tr>\n",
       "      <th>Low Income Male</th>\n",
       "      <td>1.100000</td>\n",
       "      <td>48.844033</td>\n",
       "      <td>349.683333</td>\n",
       "    </tr>\n",
       "    <tr>\n",
       "      <th>Middle Income Female</th>\n",
       "      <td>1.300000</td>\n",
       "      <td>79.386908</td>\n",
       "      <td>401.266667</td>\n",
       "    </tr>\n",
       "    <tr>\n",
       "      <th>Middle Income Male</th>\n",
       "      <td>1.100000</td>\n",
       "      <td>79.007514</td>\n",
       "      <td>449.200000</td>\n",
       "    </tr>\n",
       "    <tr>\n",
       "      <th rowspan=\"6\" valign=\"top\">Region 2 (Midwest)</th>\n",
       "      <th>High Income Female</th>\n",
       "      <td>7.066667</td>\n",
       "      <td>84.747972</td>\n",
       "      <td>368.754545</td>\n",
       "    </tr>\n",
       "    <tr>\n",
       "      <th>High Income Male</th>\n",
       "      <td>7.800000</td>\n",
       "      <td>84.614189</td>\n",
       "      <td>442.966667</td>\n",
       "    </tr>\n",
       "    <tr>\n",
       "      <th>Low Income Female</th>\n",
       "      <td>1.100000</td>\n",
       "      <td>48.202042</td>\n",
       "      <td>298.046154</td>\n",
       "    </tr>\n",
       "    <tr>\n",
       "      <th>Low Income Male</th>\n",
       "      <td>2.100000</td>\n",
       "      <td>47.746120</td>\n",
       "      <td>255.000000</td>\n",
       "    </tr>\n",
       "    <tr>\n",
       "      <th>Middle Income Female</th>\n",
       "      <td>1.300000</td>\n",
       "      <td>79.872746</td>\n",
       "      <td>415.666667</td>\n",
       "    </tr>\n",
       "    <tr>\n",
       "      <th>Middle Income Male</th>\n",
       "      <td>1.000000</td>\n",
       "      <td>79.910490</td>\n",
       "      <td>373.541667</td>\n",
       "    </tr>\n",
       "    <tr>\n",
       "      <th rowspan=\"6\" valign=\"top\">Region 3 (South)</th>\n",
       "      <th>High Income Female</th>\n",
       "      <td>7.200000</td>\n",
       "      <td>84.453457</td>\n",
       "      <td>373.533333</td>\n",
       "    </tr>\n",
       "    <tr>\n",
       "      <th>High Income Male</th>\n",
       "      <td>7.366667</td>\n",
       "      <td>84.307060</td>\n",
       "      <td>439.566667</td>\n",
       "    </tr>\n",
       "    <tr>\n",
       "      <th>Low Income Female</th>\n",
       "      <td>1.100000</td>\n",
       "      <td>48.343939</td>\n",
       "      <td>298.150000</td>\n",
       "    </tr>\n",
       "    <tr>\n",
       "      <th>Low Income Male</th>\n",
       "      <td>1.000000</td>\n",
       "      <td>48.190390</td>\n",
       "      <td>379.989062</td>\n",
       "    </tr>\n",
       "    <tr>\n",
       "      <th>Middle Income Female</th>\n",
       "      <td>1.100000</td>\n",
       "      <td>79.665793</td>\n",
       "      <td>450.266667</td>\n",
       "    </tr>\n",
       "    <tr>\n",
       "      <th>Middle Income Male</th>\n",
       "      <td>1.360000</td>\n",
       "      <td>79.385767</td>\n",
       "      <td>548.725000</td>\n",
       "    </tr>\n",
       "    <tr>\n",
       "      <th rowspan=\"6\" valign=\"top\">Region 4 (West)</th>\n",
       "      <th>High Income Female</th>\n",
       "      <td>7.400000</td>\n",
       "      <td>84.347967</td>\n",
       "      <td>392.040000</td>\n",
       "    </tr>\n",
       "    <tr>\n",
       "      <th>High Income Male</th>\n",
       "      <td>5.307143</td>\n",
       "      <td>84.870315</td>\n",
       "      <td>402.666667</td>\n",
       "    </tr>\n",
       "    <tr>\n",
       "      <th>Low Income Female</th>\n",
       "      <td>1.000000</td>\n",
       "      <td>48.506106</td>\n",
       "      <td>333.922000</td>\n",
       "    </tr>\n",
       "    <tr>\n",
       "      <th>Low Income Male</th>\n",
       "      <td>1.000000</td>\n",
       "      <td>47.749759</td>\n",
       "      <td>315.500000</td>\n",
       "    </tr>\n",
       "    <tr>\n",
       "      <th>Middle Income Female</th>\n",
       "      <td>1.300000</td>\n",
       "      <td>79.527820</td>\n",
       "      <td>428.300000</td>\n",
       "    </tr>\n",
       "    <tr>\n",
       "      <th>Middle Income Male</th>\n",
       "      <td>1.400000</td>\n",
       "      <td>79.311154</td>\n",
       "      <td>399.992000</td>\n",
       "    </tr>\n",
       "  </tbody>\n",
       "</table>\n",
       "</div>"
      ],
      "text/plain": [
       "                                          average_spend                       \n",
       "                                                                              \n",
       "                                                    min       mean         max\n",
       "region               profile                                                  \n",
       "Region 1 (Northeast) High Income Female        9.000000  84.431614  381.778571\n",
       "                     High Income Male          7.200000  85.131189  490.500000\n",
       "                     Low Income Female         1.100000  47.536795  273.950000\n",
       "                     Low Income Male           1.100000  48.844033  349.683333\n",
       "                     Middle Income Female      1.300000  79.386908  401.266667\n",
       "                     Middle Income Male        1.100000  79.007514  449.200000\n",
       "Region 2 (Midwest)   High Income Female        7.066667  84.747972  368.754545\n",
       "                     High Income Male          7.800000  84.614189  442.966667\n",
       "                     Low Income Female         1.100000  48.202042  298.046154\n",
       "                     Low Income Male           2.100000  47.746120  255.000000\n",
       "                     Middle Income Female      1.300000  79.872746  415.666667\n",
       "                     Middle Income Male        1.000000  79.910490  373.541667\n",
       "Region 3 (South)     High Income Female        7.200000  84.453457  373.533333\n",
       "                     High Income Male          7.366667  84.307060  439.566667\n",
       "                     Low Income Female         1.100000  48.343939  298.150000\n",
       "                     Low Income Male           1.000000  48.190390  379.989062\n",
       "                     Middle Income Female      1.100000  79.665793  450.266667\n",
       "                     Middle Income Male        1.360000  79.385767  548.725000\n",
       "Region 4 (West)      High Income Female        7.400000  84.347967  392.040000\n",
       "                     High Income Male          5.307143  84.870315  402.666667\n",
       "                     Low Income Female         1.000000  48.506106  333.922000\n",
       "                     Low Income Male           1.000000  47.749759  315.500000\n",
       "                     Middle Income Female      1.300000  79.527820  428.300000\n",
       "                     Middle Income Male        1.400000  79.311154  399.992000"
      ]
     },
     "execution_count": 184,
     "metadata": {},
     "output_type": "execute_result"
    }
   ],
   "source": [
    "# groups descriptive stats of Profiles by region\n",
    "final_short_grouped_region.groupby(['region', 'profile']).agg(['min', 'mean', 'max'])"
   ]
  },
  {
   "cell_type": "code",
   "execution_count": 185,
   "id": "9273cdbb",
   "metadata": {},
   "outputs": [
    {
     "name": "stderr",
     "output_type": "stream",
     "text": [
      "/var/folders/49/d7yrc74937g7tg22978g2xp80000gn/T/ipykernel_35399/2187105701.py:6: UserWarning: Tight layout not applied. The bottom and top margins cannot be made large enough to accommodate all axes decorations. \n",
      "  plt.tight_layout()\n"
     ]
    },
    {
     "data": {
      "image/png": "[encoded data removed]",
      "text/plain": [
       "<Figure size 432x288 with 1 Axes>"
      ]
     },
     "metadata": {
      "needs_background": "light"
     },
     "output_type": "display_data"
    }
   ],
   "source": [
    "# creates bar chart for the average amount spent per trip by each profile by region\n",
    "final_short_grouped_region_bar = final_short_grouped_region.groupby(['region', 'profile']).agg(['mean']).plot.bar(color = 'Purple')\n",
    "plt.title('Average Amount Spent Per Trip by Region')\n",
    "plt.xlabel('Profile')\n",
    "plt.ylabel('Average Amount Spend per Trip')\n",
    "plt.tight_layout()"
   ]
  },
  {
   "cell_type": "code",
   "execution_count": null,
   "id": "b075f258",
   "metadata": {},
   "outputs": [],
   "source": [
    "final_short_grouped_region_bar"
   ]
  },
  {
   "cell_type": "markdown",
   "id": "00fa72a1",
   "metadata": {},
   "source": [
    "## Department spending by profile investigation"
   ]
  },
  {
   "cell_type": "code",
   "execution_count": 186,
   "id": "7241a1bb",
   "metadata": {},
   "outputs": [],
   "source": [
    "# creates subset for the Low Income Males spending by Dept\n",
    "customer_dep_short_male_low = final_short[final_short['profile']=='Low Income Male']"
   ]
  },
  {
   "cell_type": "code",
   "execution_count": 187,
   "id": "b93535ca",
   "metadata": {},
   "outputs": [],
   "source": [
    "# renames 'prices' to 'total_spend'\n",
    "customer_dep_short_male_low =customer_dep_short_male_low.rename(columns = {'prices': 'total_spend'})"
   ]
  },
  {
   "cell_type": "code",
   "execution_count": 188,
   "id": "19590b4c",
   "metadata": {},
   "outputs": [
    {
     "data": {
      "image/png": "[encoded data removed]",
      "text/plain": [
       "<Figure size 432x288 with 1 Axes>"
      ]
     },
     "metadata": {
      "needs_background": "light"
     },
     "output_type": "display_data"
    }
   ],
   "source": [
    "# plot for Low Income Males spending by Dept\n",
    "customer_dep_short_male_low_bar = customer_dep_short_male_low.groupby(['department']).agg({'total_spend': 'sum'}).plot.bar(color = 'purple')\n",
    "plt.title('Total Spending by Department (Low Income Males)')\n",
    "plt.xlabel('Department')\n",
    "plt.ylabel('Spending')\n",
    "plt.tight_layout()"
   ]
  },
  {
   "cell_type": "code",
   "execution_count": 189,
   "id": "ea453200",
   "metadata": {},
   "outputs": [],
   "source": [
    "# creates subset for the Low Income Females spending by Dept\n",
    "customer_dep_short_female_low = final_short[final_short['profile']=='Low Income Female']"
   ]
  },
  {
   "cell_type": "code",
   "execution_count": 190,
   "id": "47cdeb8b",
   "metadata": {},
   "outputs": [],
   "source": [
    "# renames 'prices' to 'total_spend'\n",
    "customer_dep_short_female_low =customer_dep_short_female_low.rename(columns = {'prices': 'total_spend'})"
   ]
  },
  {
   "cell_type": "code",
   "execution_count": 191,
   "id": "8121bb05",
   "metadata": {},
   "outputs": [
    {
     "data": {
      "image/png": "[encoded data removed]",
      "text/plain": [
       "<Figure size 432x288 with 1 Axes>"
      ]
     },
     "metadata": {
      "needs_background": "light"
     },
     "output_type": "display_data"
    }
   ],
   "source": [
    "# plot for Low Income Females spending by Dept\n",
    "customer_dep_short_female_low_bar = customer_dep_short_female_low.groupby(['department']).agg({'total_spend': 'sum'}).plot.bar(color = 'purple')\n",
    "plt.title('Total Spending by Department (Low Income Females)')\n",
    "plt.xlabel('Department')\n",
    "plt.ylabel('Spending')\n",
    "plt.tight_layout()"
   ]
  },
  {
   "cell_type": "code",
   "execution_count": 192,
   "id": "0b6a90da",
   "metadata": {},
   "outputs": [],
   "source": [
    "# creates subset for the Middle Income Males spending by Dept\n",
    "customer_dep_middle_male = final_short[final_short['profile']=='Middle Income Male']"
   ]
  },
  {
   "cell_type": "code",
   "execution_count": 193,
   "id": "e37abcc6",
   "metadata": {},
   "outputs": [],
   "source": [
    "# renames 'prices' to 'total_spend'\n",
    "customer_dep_middle_male =customer_dep_middle_male.rename(columns = {'prices': 'total_spend'})"
   ]
  },
  {
   "cell_type": "code",
   "execution_count": 194,
   "id": "9c6fbb00",
   "metadata": {},
   "outputs": [
    {
     "data": {
      "image/png": "[encoded data removed]",
      "text/plain": [
       "<Figure size 432x288 with 1 Axes>"
      ]
     },
     "metadata": {
      "needs_background": "light"
     },
     "output_type": "display_data"
    }
   ],
   "source": [
    "# plot for Middle Income Males spending by Dept\n",
    "customer_dep_middle_male_bar = customer_dep_middle_male.groupby(['department']).agg({'total_spend': 'sum'}).plot.bar(color = 'purple')\n",
    "plt.title('Total Spending by Department (Middle Income Males)')\n",
    "plt.xlabel('Department')\n",
    "plt.ylabel('Spending')\n",
    "plt.tight_layout()"
   ]
  },
  {
   "cell_type": "code",
   "execution_count": 195,
   "id": "dad46bda",
   "metadata": {},
   "outputs": [],
   "source": [
    "# creates subset for the Middle Income Females spending by Dept\n",
    "customer_dep_middle_female = final_short[final_short['profile']=='Middle Income Female']"
   ]
  },
  {
   "cell_type": "code",
   "execution_count": 196,
   "id": "33114ef7",
   "metadata": {},
   "outputs": [],
   "source": [
    "# renames 'prices' to 'total_spend'\n",
    "customer_dep_middle_female =customer_dep_middle_female.rename(columns = {'prices': 'total_spend'})"
   ]
  },
  {
   "cell_type": "code",
   "execution_count": 197,
   "id": "8200986c",
   "metadata": {},
   "outputs": [
    {
     "data": {
      "image/png": "[encoded data removed]",
      "text/plain": [
       "<Figure size 432x288 with 1 Axes>"
      ]
     },
     "metadata": {
      "needs_background": "light"
     },
     "output_type": "display_data"
    }
   ],
   "source": [
    "# plot for Middle Income Females spending by Dept\n",
    "customer_dep_middle_female_bar = customer_dep_middle_female.groupby(['department']).agg({'total_spend': 'sum'}).plot.bar( color = 'purple')\n",
    "plt.title('Total Spending by Department (Middle Income Females)')\n",
    "plt.xlabel('Department')\n",
    "plt.ylabel('Spending')\n",
    "plt.tight_layout()"
   ]
  },
  {
   "cell_type": "code",
   "execution_count": 198,
   "id": "c0d44b38",
   "metadata": {},
   "outputs": [],
   "source": [
    "# creates subset for the High Income Males spending by Dept\n",
    "customer_dep_male_high = final_short[final_short['profile']=='High Income Male']"
   ]
  },
  {
   "cell_type": "code",
   "execution_count": 199,
   "id": "bb82a21d",
   "metadata": {},
   "outputs": [],
   "source": [
    "# renames 'prices' to 'total_spend'\n",
    "customer_dep_male_high =customer_dep_male_high.rename(columns = {'prices': 'total_spend'})"
   ]
  },
  {
   "cell_type": "code",
   "execution_count": 203,
   "id": "eb27f350",
   "metadata": {},
   "outputs": [
    {
     "data": {
      "image/png": "[encoded data removed]",
      "text/plain": [
       "<Figure size 432x288 with 1 Axes>"
      ]
     },
     "metadata": {
      "needs_background": "light"
     },
     "output_type": "display_data"
    }
   ],
   "source": [
    "# plot for High Income Males spending by Dept\n",
    "customer_dep_male_high_bar = customer_dep_male_high.groupby(['department']).agg({'total_spend': 'sum'}).plot.bar( color = 'purple')\n",
    "plt.title('Total Spending by Department (High Income Females)')\n",
    "plt.xlabel('Department')\n",
    "plt.ylabel('Spending')\n",
    "plt.tight_layout()"
   ]
  },
  {
   "cell_type": "code",
   "execution_count": 204,
   "id": "27ce04bf",
   "metadata": {},
   "outputs": [],
   "source": [
    "# creates subset for the High Income Females spending by Dept\n",
    "customer_dep_female_high = final_short[final_short['profile']=='High Income Female']"
   ]
  },
  {
   "cell_type": "code",
   "execution_count": 205,
   "id": "6cdf0e96",
   "metadata": {},
   "outputs": [],
   "source": [
    "# renames 'prices' to 'total_spend'\n",
    "customer_dep_female_high =customer_dep_female_high.rename(columns = {'prices': 'total_spend'})"
   ]
  },
  {
   "cell_type": "code",
   "execution_count": 206,
   "id": "b6e0fdec",
   "metadata": {},
   "outputs": [
    {
     "data": {
      "image/png": "[encoded data removed]",
      "text/plain": [
       "<Figure size 432x288 with 1 Axes>"
      ]
     },
     "metadata": {
      "needs_background": "light"
     },
     "output_type": "display_data"
    }
   ],
   "source": [
    "# plot for High Income Females spending by Dept\n",
    "customer_dep_female_high_bar = customer_dep_female_high.groupby(['department']).agg({'total_spend': 'sum'}).plot.bar(color = 'purple')\n",
    "plt.title('Total Spending by Department (High Income Females)')\n",
    "plt.xlabel('Department')\n",
    "plt.ylabel('Spending')\n",
    "plt.tight_layout()"
   ]
  },
  {
   "cell_type": "markdown",
   "id": "39002918",
   "metadata": {},
   "source": [
    "# Save charts"
   ]
  },
  {
   "cell_type": "markdown",
   "id": "1219971d",
   "metadata": {},
   "source": [
    "## Department Spending by customer profile charts"
   ]
  },
  {
   "cell_type": "code",
   "execution_count": 207,
   "id": "693af437",
   "metadata": {},
   "outputs": [],
   "source": [
    "# creates path to 04 Analysis folder\n",
    "path2 = r'/Users/oliviamurphy/Desktop/2022-01 Insta Cart Analysis/04 Analysis/Visualizations'"
   ]
  },
  {
   "cell_type": "code",
   "execution_count": 208,
   "id": "f81a7fe0",
   "metadata": {},
   "outputs": [],
   "source": [
    "# saves bar chart for High Income Females Spending by Department\n",
    "customer_dep_female_high_bar.figure.savefig(os.path.join(path2, 'customer_dep_female_high_bar.png'))"
   ]
  },
  {
   "cell_type": "code",
   "execution_count": 209,
   "id": "bd5dee7e",
   "metadata": {},
   "outputs": [],
   "source": [
    "# saves bar chart for High Income Males Spending by Department\n",
    "customer_dep_male_high_bar.figure.savefig(os.path.join(path2, 'customer_dep_male_high_bar.png'))"
   ]
  },
  {
   "cell_type": "code",
   "execution_count": 210,
   "id": "a1d8872f",
   "metadata": {},
   "outputs": [],
   "source": [
    "# saves bar chart for Middle Income Males Spending by Department\n",
    "customer_dep_middle_male_bar.figure.savefig(os.path.join(path2, 'customer_dep_male_middle_bar.png'))"
   ]
  },
  {
   "cell_type": "code",
   "execution_count": 211,
   "id": "12d3e8e6",
   "metadata": {},
   "outputs": [],
   "source": [
    "# saves bar chart for Middle Income Females Spending by Department\n",
    "customer_dep_middle_female_bar.figure.savefig(os.path.join(path2, 'customer_dep_female_middle_bar.png'))"
   ]
  },
  {
   "cell_type": "code",
   "execution_count": 212,
   "id": "0eee116b",
   "metadata": {},
   "outputs": [],
   "source": [
    "# saves bar chart for High Income Males Spending by Department\n",
    "customer_dep_short_male_low_bar.figure.savefig(os.path.join(path2, 'customer_dep_short_male_low.png'))"
   ]
  },
  {
   "cell_type": "code",
   "execution_count": 213,
   "id": "b315785c",
   "metadata": {},
   "outputs": [],
   "source": [
    "# saves bar chart for High Income Females Spending by Department\n",
    "customer_dep_short_female_low_bar.figure.savefig(os.path.join(path2, 'customer_dep_short_female_low.png'))"
   ]
  },
  {
   "cell_type": "code",
   "execution_count": null,
   "id": "51811563",
   "metadata": {},
   "outputs": [],
   "source": []
  },
  {
   "cell_type": "code",
   "execution_count": 224,
   "id": "5f478c7b",
   "metadata": {},
   "outputs": [],
   "source": [
    "# saves bar chart for customer profile distributions\n",
    "profile_distribution_bar.figure.savefig(os.path.join(path2, 'profile_distribution_bar.png'))"
   ]
  },
  {
   "cell_type": "markdown",
   "id": "ca8d0629",
   "metadata": {},
   "source": [
    "##  customer profile spending by region chart"
   ]
  },
  {
   "cell_type": "code",
   "execution_count": 218,
   "id": "906f22b5",
   "metadata": {},
   "outputs": [],
   "source": [
    "# saves bar chart for customer profile spending by region chart\n",
    "final_short_grouped_region_bar.figure.savefig(os.path.join(path2, 'customer_dep_short_grouped_region_bar.png'))"
   ]
  },
  {
   "cell_type": "markdown",
   "id": "310af379",
   "metadata": {},
   "source": [
    "##  Average expenditure per trip by customer profile "
   ]
  },
  {
   "cell_type": "code",
   "execution_count": 215,
   "id": "36ec0527",
   "metadata": {},
   "outputs": [],
   "source": [
    "# saves bar chart for Average expenditure per trip by customer profile \n",
    "final_short_grouped_expenditure_bar.figure.savefig(os.path.join(path2, 'customer_dep_short_grouped_expenditure_bar.png'))"
   ]
  },
  {
   "cell_type": "markdown",
   "id": "e07eb118",
   "metadata": {},
   "source": [
    "##  Average usage frequency by customer profile "
   ]
  },
  {
   "cell_type": "code",
   "execution_count": 223,
   "id": "14900d7e",
   "metadata": {},
   "outputs": [],
   "source": [
    "# saves bar chart for Average usage frequency by customer profile \n",
    "final_short_grouped_frequency_bar.figure.savefig(os.path.join(path2, 'customer_dep_short_grouped_frequency_bar.png'))"
   ]
  },
  {
   "cell_type": "markdown",
   "id": "42f6f6de",
   "metadata": {},
   "source": [
    "# What’s the distribution among users in regards to their brand loyalty (i.e., how often do they return to Instacart)?\"\n",
    "# use crosstab"
   ]
  },
  {
   "cell_type": "code",
   "execution_count": 30,
   "id": "52981e17",
   "metadata": {},
   "outputs": [
    {
     "name": "stdout",
     "output_type": "stream",
     "text": [
      "<class 'pandas.core.frame.DataFrame'>\n",
      "Int64Index: 32433030 entries, 0 to 32433029\n",
      "Data columns (total 35 columns):\n",
      " #   Column                         Dtype   \n",
      "---  ------                         -----   \n",
      " 0   product_id                     string  \n",
      " 1   product_name                   object  \n",
      " 2   aisle_id                       string  \n",
      " 3   department_id                  string  \n",
      " 4   prices                         float64 \n",
      " 5   order_id                       string  \n",
      " 6   user_id                        string  \n",
      " 7   order_number                   int64   \n",
      " 8   orders_day_of_week             int64   \n",
      " 9   order_hour_of_day              int64   \n",
      " 10  days_passed_since_last_order   float64 \n",
      " 11  add_to_cart_order              int64   \n",
      " 12  reordered                      int64   \n",
      " 13  gender                         object  \n",
      " 14  state                          object  \n",
      " 15  age                            int64   \n",
      " 16  date_joined                    object  \n",
      " 17  number_of_dependants           int64   \n",
      " 18  family_status                  object  \n",
      " 19  income                         int64   \n",
      " 20  department                     object  \n",
      " 21  _merge                         category\n",
      " 22  price_range_loc                object  \n",
      " 23  busiest day                    object  \n",
      " 24  busiest_days                   object  \n",
      " 25  busiest_period_of_day          object  \n",
      " 26  max_orders                     int64   \n",
      " 27  loyalty_flag                   object  \n",
      " 28  average_spend                  float64 \n",
      " 29  spender_type                   object  \n",
      " 30  median_days_since_prior_order  float64 \n",
      " 31  Frequent_customer?             object  \n",
      " 32  region                         object  \n",
      " 33  activity_flag                  object  \n",
      " 34  profile                        object  \n",
      "dtypes: category(1), float64(4), int64(9), object(16), string(5)\n",
      "memory usage: 8.5+ GB\n"
     ]
    }
   ],
   "source": [
    "orders_products_departments_final.info()"
   ]
  },
  {
   "cell_type": "code",
   "execution_count": 35,
   "id": "d1c119f0",
   "metadata": {},
   "outputs": [
    {
     "data": {
      "text/html": [
       "<div>\n",
       "<style scoped>\n",
       "    .dataframe tbody tr th:only-of-type {\n",
       "        vertical-align: middle;\n",
       "    }\n",
       "\n",
       "    .dataframe tbody tr th {\n",
       "        vertical-align: top;\n",
       "    }\n",
       "\n",
       "    .dataframe thead th {\n",
       "        text-align: right;\n",
       "    }\n",
       "</style>\n",
       "<table border=\"1\" class=\"dataframe\">\n",
       "  <thead>\n",
       "    <tr style=\"text-align: right;\">\n",
       "      <th></th>\n",
       "      <th></th>\n",
       "      <th>activity_flag</th>\n",
       "    </tr>\n",
       "    <tr>\n",
       "      <th>profile</th>\n",
       "      <th>activity_flag</th>\n",
       "      <th></th>\n",
       "    </tr>\n",
       "  </thead>\n",
       "  <tbody>\n",
       "    <tr>\n",
       "      <th rowspan=\"2\" valign=\"top\">High Income Female</th>\n",
       "      <th>low activity</th>\n",
       "      <td>166959</td>\n",
       "    </tr>\n",
       "    <tr>\n",
       "      <th>normal/high activity</th>\n",
       "      <td>4079775</td>\n",
       "    </tr>\n",
       "    <tr>\n",
       "      <th rowspan=\"2\" valign=\"top\">High Income Male</th>\n",
       "      <th>low activity</th>\n",
       "      <td>177289</td>\n",
       "    </tr>\n",
       "    <tr>\n",
       "      <th>normal/high activity</th>\n",
       "      <td>4035123</td>\n",
       "    </tr>\n",
       "    <tr>\n",
       "      <th rowspan=\"2\" valign=\"top\">Low Income Female</th>\n",
       "      <th>low activity</th>\n",
       "      <td>67873</td>\n",
       "    </tr>\n",
       "    <tr>\n",
       "      <th>normal/high activity</th>\n",
       "      <td>952859</td>\n",
       "    </tr>\n",
       "    <tr>\n",
       "      <th rowspan=\"2\" valign=\"top\">Low Income Male</th>\n",
       "      <th>low activity</th>\n",
       "      <td>70157</td>\n",
       "    </tr>\n",
       "    <tr>\n",
       "      <th>normal/high activity</th>\n",
       "      <td>971744</td>\n",
       "    </tr>\n",
       "    <tr>\n",
       "      <th rowspan=\"2\" valign=\"top\">Middle Income Female</th>\n",
       "      <th>low activity</th>\n",
       "      <td>477747</td>\n",
       "    </tr>\n",
       "    <tr>\n",
       "      <th>normal/high activity</th>\n",
       "      <td>10358748</td>\n",
       "    </tr>\n",
       "    <tr>\n",
       "      <th rowspan=\"2\" valign=\"top\">Middle Income Male</th>\n",
       "      <th>low activity</th>\n",
       "      <td>481463</td>\n",
       "    </tr>\n",
       "    <tr>\n",
       "      <th>normal/high activity</th>\n",
       "      <td>10593293</td>\n",
       "    </tr>\n",
       "  </tbody>\n",
       "</table>\n",
       "</div>"
      ],
      "text/plain": [
       "                                           activity_flag\n",
       "profile              activity_flag                      \n",
       "High Income Female   low activity                 166959\n",
       "                     normal/high activity        4079775\n",
       "High Income Male     low activity                 177289\n",
       "                     normal/high activity        4035123\n",
       "Low Income Female    low activity                  67873\n",
       "                     normal/high activity         952859\n",
       "Low Income Male      low activity                  70157\n",
       "                     normal/high activity         971744\n",
       "Middle Income Female low activity                 477747\n",
       "                     normal/high activity       10358748\n",
       "Middle Income Male   low activity                 481463\n",
       "                     normal/high activity       10593293"
      ]
     },
     "execution_count": 35,
     "metadata": {},
     "output_type": "execute_result"
    }
   ],
   "source": [
    "orders_products_departments_final.groupby(['profile', 'activity_flag']).agg({'activity_flag':'count'})"
   ]
  },
  {
   "cell_type": "code",
   "execution_count": null,
   "id": "f551e741",
   "metadata": {},
   "outputs": [],
   "source": []
  }
 ],
 "metadata": {
  "kernelspec": {
   "display_name": "Python 3 (ipykernel)",
   "language": "python",
   "name": "python3"
  },
  "language_info": {
   "codemirror_mode": {
    "name": "ipython",
    "version": 3
   },
   "file_extension": ".py",
   "mimetype": "text/x-python",
   "name": "python",
   "nbconvert_exporter": "python",
   "pygments_lexer": "ipython3",
   "version": "3.9.7"
  }
 },
 "nbformat": 4,
 "nbformat_minor": 5
}
