{
 "cells": [
  {
   "cell_type": "markdown",
   "id": "94376fde",
   "metadata": {},
   "source": [
    "# Import Libraries & Data Files"
   ]
  },
  {
   "cell_type": "code",
   "execution_count": 1,
   "id": "f74417f4",
   "metadata": {},
   "outputs": [],
   "source": [
    "#import libraries\n",
    "import numpy as np\n",
    "import pandas as pd\n",
    "import os\n",
    "import seaborn as sns\n",
    "import matplotlib.pyplot as plt\n",
    "import scipy"
   ]
  },
  {
   "cell_type": "code",
   "execution_count": 2,
   "id": "65e5c2ff",
   "metadata": {},
   "outputs": [],
   "source": [
    "#import data file\n",
    "path = r'/Users/oliviamurphy/Desktop/2022-01 Insta Cart Analysis/'\n",
    "orders_products_departments_final = pd.read_pickle(os.path.join(path, '02 Data', 'Prepared Data','orders_products_departments_final_agg.pkl'))"
   ]
  },
  {
   "cell_type": "code",
   "execution_count": 3,
   "id": "111ea8b0",
   "metadata": {},
   "outputs": [
    {
     "name": "stdout",
     "output_type": "stream",
     "text": [
      "<class 'pandas.core.frame.DataFrame'>\n",
      "Int64Index: 32433030 entries, 0 to 32433029\n",
      "Data columns (total 32 columns):\n",
      " #   Column                         Dtype   \n",
      "---  ------                         -----   \n",
      " 0   product_id                     string  \n",
      " 1   product_name                   object  \n",
      " 2   aisle_id                       string  \n",
      " 3   department_id                  string  \n",
      " 4   prices                         float64 \n",
      " 5   order_id                       string  \n",
      " 6   user_id                        string  \n",
      " 7   order_number                   int64   \n",
      " 8   orders_day_of_week             int64   \n",
      " 9   order_hour_of_day              int64   \n",
      " 10  days_passed_since_last_order   float64 \n",
      " 11  add_to_cart_order              int64   \n",
      " 12  reordered                      int64   \n",
      " 13  gender                         object  \n",
      " 14  state                          object  \n",
      " 15  age                            int64   \n",
      " 16  date_joined                    object  \n",
      " 17  number_of_dependants           int64   \n",
      " 18  family_status                  object  \n",
      " 19  income                         int64   \n",
      " 20  department                     object  \n",
      " 21  _merge                         category\n",
      " 22  price_range_loc                object  \n",
      " 23  busiest day                    object  \n",
      " 24  busiest_days                   object  \n",
      " 25  busiest_period_of_day          object  \n",
      " 26  max_orders                     int64   \n",
      " 27  loyalty_flag                   object  \n",
      " 28  average_spend                  float64 \n",
      " 29  spender_type                   object  \n",
      " 30  median_days_since_prior_order  float64 \n",
      " 31  Frequent_customer?             object  \n",
      "dtypes: category(1), float64(4), int64(9), object(13), string(5)\n",
      "memory usage: 7.8+ GB\n"
     ]
    }
   ],
   "source": [
    "# returns variable information for orders_products_departments_final\n",
    "orders_products_departments_final.info()"
   ]
  },
  {
   "cell_type": "markdown",
   "id": "4c3ea802",
   "metadata": {},
   "source": [
    "# Average Spending by hour\n",
    "##They also want to know whether there are particular times of the day when people spend the most money, as this might inform the type of products they advertise at these times."
   ]
  },
  {
   "cell_type": "code",
   "execution_count": 4,
   "id": "6c75e1e9",
   "metadata": {},
   "outputs": [
    {
     "data": {
      "text/plain": [
       "Text(0, 0.5, 'Total Expenditure')"
      ]
     },
     "execution_count": 4,
     "metadata": {},
     "output_type": "execute_result"
    },
    {
     "data": {
      "image/png": "[encoded data removed]",
      "text/plain": [
       "<Figure size 432x288 with 1 Axes>"
      ]
     },
     "metadata": {
      "needs_background": "light"
     },
     "output_type": "display_data"
    }
   ],
   "source": [
    "# plots total expenditure by hour of the day\n",
    "expenditure_by_hour = orders_products_departments_final.groupby(['order_hour_of_day']).agg({'prices': 'sum'}).plot.bar(color = 'purple')\n",
    "plt.title('Total Expenditure by Hour of the Day')\n",
    "plt.xlabel('Hour of Day')\n",
    "plt.ylabel('Total Expenditure')"
   ]
  },
  {
   "cell_type": "code",
   "execution_count": 5,
   "id": "8b408cc7",
   "metadata": {},
   "outputs": [],
   "source": [
    "# save expenditure_by_hour png\n",
    "expenditure_by_hour.figure.savefig(os.path.join(path, '04 Analysis', 'Visualizations', 'expenditure_by_hour.png'))"
   ]
  },
  {
   "cell_type": "markdown",
   "id": "30224af4",
   "metadata": {},
   "source": [
    "# Bar Chart for New Price Tags\n",
    "## Instacart has a lot of products with different price tags. Marketing and sales want to use simpler price range groupings to help direct their efforts."
   ]
  },
  {
   "cell_type": "code",
   "execution_count": 6,
   "id": "537960c8",
   "metadata": {},
   "outputs": [
    {
     "data": {
      "image/png": "[encoded data removed]",
      "text/plain": [
       "<Figure size 432x288 with 1 Axes>"
      ]
     },
     "metadata": {
      "needs_background": "light"
     },
     "output_type": "display_data"
    }
   ],
   "source": [
    "#creates chart for new pirce tags\n",
    "new_price_tags = orders_products_departments_final['price_range_loc'].value_counts().plot.barh(color = 'purple')\n",
    "plt.title('Distribution of Products by Price Tag')\n",
    "plt.xlabel('Count')\n",
    "plt.ylabel('Price Tag')\n",
    "plt.tight_layout()"
   ]
  },
  {
   "cell_type": "code",
   "execution_count": 7,
   "id": "e238d513",
   "metadata": {},
   "outputs": [],
   "source": [
    "# save new_price_tags png\n",
    "new_price_tags.figure.savefig(os.path.join(path, '04 Analysis', 'Visualizations', 'new_price_tags.png'))"
   ]
  },
  {
   "cell_type": "markdown",
   "id": "0eab61b1",
   "metadata": {},
   "source": [
    "# Distribution of Product Purchases\n",
    "## Are there certain types of products that are more popular than others? The marketing and sales teams want to know which departments have the highest frequency of product orders."
   ]
  },
  {
   "cell_type": "code",
   "execution_count": 8,
   "id": "762823b5",
   "metadata": {},
   "outputs": [
    {
     "data": {
      "image/png": "[encoded data removed]",
      "text/plain": [
       "<Figure size 432x288 with 1 Axes>"
      ]
     },
     "metadata": {
      "needs_background": "light"
     },
     "output_type": "display_data"
    }
   ],
   "source": [
    "department_popularity = orders_products_departments_final['department'].value_counts().plot.barh(color = 'purple')\n",
    "plt.title('Distribution of Department Purchases')\n",
    "plt.xlabel('Count')\n",
    "plt.ylabel('Department')\n",
    "plt.tight_layout()"
   ]
  },
  {
   "cell_type": "code",
   "execution_count": 9,
   "id": "00511d82",
   "metadata": {},
   "outputs": [],
   "source": [
    "# save department_popularity png\n",
    "department_popularity.figure.savefig(os.path.join(path, '04 Analysis', 'Visualizations', 'department_popularity.png'))"
   ]
  },
  {
   "cell_type": "code",
   "execution_count": 10,
   "id": "602dd8ed",
   "metadata": {},
   "outputs": [
    {
     "data": {
      "image/png": "[encoded data removed]",
      "text/plain": [
       "<Figure size 432x288 with 1 Axes>"
      ]
     },
     "metadata": {
      "needs_background": "light"
     },
     "output_type": "display_data"
    }
   ],
   "source": [
    "# creates a bar plot of the top 10 best-selling products\n",
    "top_ten_products = orders_products_departments_final['product_name'].value_counts().head(10).plot.barh(color = 'purple')\n",
    "plt.title('Top 10 Product Purchases')\n",
    "plt.xlabel('Count')\n",
    "plt.ylabel('Product')\n",
    "plt.tight_layout()"
   ]
  },
  {
   "cell_type": "code",
   "execution_count": 11,
   "id": "6ae76af3",
   "metadata": {},
   "outputs": [],
   "source": [
    "# save top_ten_products png\n",
    "top_ten_products.figure.savefig(os.path.join(path, '04 Analysis', 'Visualizations', 'top_ten_products.png'))"
   ]
  },
  {
   "cell_type": "markdown",
   "id": "00995dd6",
   "metadata": {},
   "source": [
    "# Distribution of Customers Based on Brand Loyalty\n",
    "## \"What’s the distribution among users in regards to their brand loyalty (i.e., how often do they return to Instacart)?\""
   ]
  },
  {
   "cell_type": "code",
   "execution_count": 14,
   "id": "35f2fbd2",
   "metadata": {},
   "outputs": [
    {
     "data": {
      "image/png": "[encoded data removed]",
      "text/plain": [
       "<Figure size 432x288 with 1 Axes>"
      ]
     },
     "metadata": {
      "needs_background": "light"
     },
     "output_type": "display_data"
    }
   ],
   "source": [
    "# creates bar chart for Distribution of Customers Based on Brand Loyalty\n",
    "distr_cust_loyal = orders_products_departments_final.groupby('loyalty_flag').agg({'days_passed_since_last_order': ['mean']}).plot.barh(color = 'purple', legend = False)\n",
    "plt.title('Mean Time Days Between Orders Based on Brand Loyalty')\n",
    "plt.xlabel('Mean Days Since Prior Order')\n",
    "plt.ylabel('Loyalty Flag')\n",
    "plt.tight_layout()\n"
   ]
  },
  {
   "cell_type": "code",
   "execution_count": 15,
   "id": "cd5f1140",
   "metadata": {},
   "outputs": [],
   "source": [
    "# save distr_cust_loyal png\n",
    "distr_cust_loyal.figure.savefig(os.path.join(path, '04 Analysis', 'Visualizations', 'distr_cust_loyal.png'))"
   ]
  },
  {
   "cell_type": "markdown",
   "id": "7e590e4b",
   "metadata": {},
   "source": [
    "# Loyalty Status Buying Habits"
   ]
  },
  {
   "cell_type": "code",
   "execution_count": 16,
   "id": "d6a5f9a7",
   "metadata": {},
   "outputs": [],
   "source": [
    "# creates a dataframe that is grouped by loyalty flage, with total spending & number of orders\n",
    "loyalty_spend = orders_products_departments_final.groupby('loyalty_flag').agg({'average_spend': ['sum'], 'order_number': ['count']})"
   ]
  },
  {
   "cell_type": "code",
   "execution_count": 17,
   "id": "69c2aaee",
   "metadata": {},
   "outputs": [],
   "source": [
    "# creates a column that can be manipulated for average_spend\n",
    "loyalty_spend['average_spend_2'] = loyalty_spend['average_spend']"
   ]
  },
  {
   "cell_type": "code",
   "execution_count": 18,
   "id": "d8166bdb",
   "metadata": {},
   "outputs": [],
   "source": [
    "# creates a column that can be manipulated for order_number\n",
    "loyalty_spend['order_number_2'] = loyalty_spend['order_number']"
   ]
  },
  {
   "cell_type": "code",
   "execution_count": 19,
   "id": "85071b41",
   "metadata": {},
   "outputs": [],
   "source": [
    "# calculates the average spend per visit\n",
    "loyalty_spend['average_spend_per_vist'] = loyalty_spend['average_spend_2']/loyalty_spend['order_number_2']"
   ]
  },
  {
   "cell_type": "code",
   "execution_count": 20,
   "id": "80e3e34d",
   "metadata": {},
   "outputs": [
    {
     "data": {
      "text/html": [
       "<div>\n",
       "<style scoped>\n",
       "    .dataframe tbody tr th:only-of-type {\n",
       "        vertical-align: middle;\n",
       "    }\n",
       "\n",
       "    .dataframe tbody tr th {\n",
       "        vertical-align: top;\n",
       "    }\n",
       "\n",
       "    .dataframe thead tr th {\n",
       "        text-align: left;\n",
       "    }\n",
       "\n",
       "    .dataframe thead tr:last-of-type th {\n",
       "        text-align: right;\n",
       "    }\n",
       "</style>\n",
       "<table border=\"1\" class=\"dataframe\">\n",
       "  <thead>\n",
       "    <tr>\n",
       "      <th></th>\n",
       "      <th>average_spend</th>\n",
       "      <th>order_number</th>\n",
       "      <th>average_spend_2</th>\n",
       "      <th>order_number_2</th>\n",
       "      <th>average_spend_per_vist</th>\n",
       "    </tr>\n",
       "    <tr>\n",
       "      <th></th>\n",
       "      <th>sum</th>\n",
       "      <th>count</th>\n",
       "      <th></th>\n",
       "      <th></th>\n",
       "      <th></th>\n",
       "    </tr>\n",
       "    <tr>\n",
       "      <th>loyalty_flag</th>\n",
       "      <th></th>\n",
       "      <th></th>\n",
       "      <th></th>\n",
       "      <th></th>\n",
       "      <th></th>\n",
       "    </tr>\n",
       "  </thead>\n",
       "  <tbody>\n",
       "    <tr>\n",
       "      <th>Loyal customer</th>\n",
       "      <td>78480995.4</td>\n",
       "      <td>10293434</td>\n",
       "      <td>78480995.4</td>\n",
       "      <td>10293434</td>\n",
       "      <td>7.624374</td>\n",
       "    </tr>\n",
       "    <tr>\n",
       "      <th>New customer</th>\n",
       "      <td>42369283.4</td>\n",
       "      <td>5475359</td>\n",
       "      <td>42369283.4</td>\n",
       "      <td>5475359</td>\n",
       "      <td>7.738175</td>\n",
       "    </tr>\n",
       "    <tr>\n",
       "      <th>Regular customer</th>\n",
       "      <td>122005930.1</td>\n",
       "      <td>15890458</td>\n",
       "      <td>122005930.1</td>\n",
       "      <td>15890458</td>\n",
       "      <td>7.677937</td>\n",
       "    </tr>\n",
       "  </tbody>\n",
       "</table>\n",
       "</div>"
      ],
      "text/plain": [
       "                 average_spend order_number average_spend_2 order_number_2  \\\n",
       "                           sum        count                                  \n",
       "loyalty_flag                                                                 \n",
       "Loyal customer      78480995.4     10293434      78480995.4       10293434   \n",
       "New customer        42369283.4      5475359      42369283.4        5475359   \n",
       "Regular customer   122005930.1     15890458     122005930.1       15890458   \n",
       "\n",
       "                 average_spend_per_vist  \n",
       "                                         \n",
       "loyalty_flag                             \n",
       "Loyal customer                 7.624374  \n",
       "New customer                   7.738175  \n",
       "Regular customer               7.677937  "
      ]
     },
     "execution_count": 20,
     "metadata": {},
     "output_type": "execute_result"
    }
   ],
   "source": [
    "# returns the result of loyalty_spend\n",
    "loyalty_spend"
   ]
  },
  {
   "cell_type": "markdown",
   "id": "b25435bd",
   "metadata": {},
   "source": [
    "## regular customer"
   ]
  },
  {
   "cell_type": "code",
   "execution_count": 21,
   "id": "60b83adf",
   "metadata": {},
   "outputs": [],
   "source": [
    "# subsets frame with regular customer loyalty status\n",
    "reg_cust =orders_products_departments_final[orders_products_departments_final['loyalty_flag']=='Regular customer']"
   ]
  },
  {
   "cell_type": "code",
   "execution_count": 22,
   "id": "e0e71f14",
   "metadata": {},
   "outputs": [
    {
     "data": {
      "text/html": [
       "<div>\n",
       "<style scoped>\n",
       "    .dataframe tbody tr th:only-of-type {\n",
       "        vertical-align: middle;\n",
       "    }\n",
       "\n",
       "    .dataframe tbody tr th {\n",
       "        vertical-align: top;\n",
       "    }\n",
       "\n",
       "    .dataframe thead th {\n",
       "        text-align: right;\n",
       "    }\n",
       "</style>\n",
       "<table border=\"1\" class=\"dataframe\">\n",
       "  <thead>\n",
       "    <tr style=\"text-align: right;\">\n",
       "      <th></th>\n",
       "      <th>product_id</th>\n",
       "      <th>product_name</th>\n",
       "      <th>aisle_id</th>\n",
       "      <th>department_id</th>\n",
       "      <th>prices</th>\n",
       "      <th>order_id</th>\n",
       "      <th>user_id</th>\n",
       "      <th>order_number</th>\n",
       "      <th>orders_day_of_week</th>\n",
       "      <th>order_hour_of_day</th>\n",
       "      <th>...</th>\n",
       "      <th>price_range_loc</th>\n",
       "      <th>busiest day</th>\n",
       "      <th>busiest_days</th>\n",
       "      <th>busiest_period_of_day</th>\n",
       "      <th>max_orders</th>\n",
       "      <th>loyalty_flag</th>\n",
       "      <th>average_spend</th>\n",
       "      <th>spender_type</th>\n",
       "      <th>median_days_since_prior_order</th>\n",
       "      <th>Frequent_customer?</th>\n",
       "    </tr>\n",
       "  </thead>\n",
       "  <tbody>\n",
       "    <tr>\n",
       "      <th>0</th>\n",
       "      <td>1</td>\n",
       "      <td>Chocolate Sandwich Cookies</td>\n",
       "      <td>61</td>\n",
       "      <td>19</td>\n",
       "      <td>5.8</td>\n",
       "      <td>3139998</td>\n",
       "      <td>138</td>\n",
       "      <td>28</td>\n",
       "      <td>6</td>\n",
       "      <td>11</td>\n",
       "      <td>...</td>\n",
       "      <td>Mid range product</td>\n",
       "      <td>Regularly busy</td>\n",
       "      <td>Regularly busy</td>\n",
       "      <td>Average orders</td>\n",
       "      <td>32</td>\n",
       "      <td>Regular customer</td>\n",
       "      <td>6.935811</td>\n",
       "      <td>Low spender</td>\n",
       "      <td>8.0</td>\n",
       "      <td>Frequent customer</td>\n",
       "    </tr>\n",
       "    <tr>\n",
       "      <th>1</th>\n",
       "      <td>1</td>\n",
       "      <td>Chocolate Sandwich Cookies</td>\n",
       "      <td>61</td>\n",
       "      <td>19</td>\n",
       "      <td>5.8</td>\n",
       "      <td>1977647</td>\n",
       "      <td>138</td>\n",
       "      <td>30</td>\n",
       "      <td>6</td>\n",
       "      <td>17</td>\n",
       "      <td>...</td>\n",
       "      <td>Mid range product</td>\n",
       "      <td>Regularly busy</td>\n",
       "      <td>Regularly busy</td>\n",
       "      <td>Average orders</td>\n",
       "      <td>32</td>\n",
       "      <td>Regular customer</td>\n",
       "      <td>6.935811</td>\n",
       "      <td>Low spender</td>\n",
       "      <td>8.0</td>\n",
       "      <td>Frequent customer</td>\n",
       "    </tr>\n",
       "    <tr>\n",
       "      <th>2</th>\n",
       "      <td>4913</td>\n",
       "      <td>Table Water Crackers</td>\n",
       "      <td>78</td>\n",
       "      <td>19</td>\n",
       "      <td>4.4</td>\n",
       "      <td>894221</td>\n",
       "      <td>138</td>\n",
       "      <td>23</td>\n",
       "      <td>5</td>\n",
       "      <td>13</td>\n",
       "      <td>...</td>\n",
       "      <td>Low-range product</td>\n",
       "      <td>Regularly busy</td>\n",
       "      <td>Regularly busy</td>\n",
       "      <td>Average orders</td>\n",
       "      <td>32</td>\n",
       "      <td>Regular customer</td>\n",
       "      <td>6.935811</td>\n",
       "      <td>Low spender</td>\n",
       "      <td>8.0</td>\n",
       "      <td>Frequent customer</td>\n",
       "    </tr>\n",
       "    <tr>\n",
       "      <th>3</th>\n",
       "      <td>11759</td>\n",
       "      <td>Organic Simply Naked Pita Chips</td>\n",
       "      <td>107</td>\n",
       "      <td>19</td>\n",
       "      <td>4.4</td>\n",
       "      <td>1986630</td>\n",
       "      <td>138</td>\n",
       "      <td>7</td>\n",
       "      <td>0</td>\n",
       "      <td>12</td>\n",
       "      <td>...</td>\n",
       "      <td>Low-range product</td>\n",
       "      <td>Busiest day</td>\n",
       "      <td>Busiest day</td>\n",
       "      <td>Average orders</td>\n",
       "      <td>32</td>\n",
       "      <td>Regular customer</td>\n",
       "      <td>6.935811</td>\n",
       "      <td>Low spender</td>\n",
       "      <td>8.0</td>\n",
       "      <td>Frequent customer</td>\n",
       "    </tr>\n",
       "    <tr>\n",
       "      <th>4</th>\n",
       "      <td>13424</td>\n",
       "      <td>Almonds</td>\n",
       "      <td>45</td>\n",
       "      <td>19</td>\n",
       "      <td>4.2</td>\n",
       "      <td>3139998</td>\n",
       "      <td>138</td>\n",
       "      <td>28</td>\n",
       "      <td>6</td>\n",
       "      <td>11</td>\n",
       "      <td>...</td>\n",
       "      <td>Low-range product</td>\n",
       "      <td>Regularly busy</td>\n",
       "      <td>Regularly busy</td>\n",
       "      <td>Average orders</td>\n",
       "      <td>32</td>\n",
       "      <td>Regular customer</td>\n",
       "      <td>6.935811</td>\n",
       "      <td>Low spender</td>\n",
       "      <td>8.0</td>\n",
       "      <td>Frequent customer</td>\n",
       "    </tr>\n",
       "  </tbody>\n",
       "</table>\n",
       "<p>5 rows × 32 columns</p>\n",
       "</div>"
      ],
      "text/plain": [
       "  product_id                     product_name aisle_id department_id  prices  \\\n",
       "0          1       Chocolate Sandwich Cookies       61            19     5.8   \n",
       "1          1       Chocolate Sandwich Cookies       61            19     5.8   \n",
       "2       4913             Table Water Crackers       78            19     4.4   \n",
       "3      11759  Organic Simply Naked Pita Chips      107            19     4.4   \n",
       "4      13424                          Almonds       45            19     4.2   \n",
       "\n",
       "  order_id user_id  order_number  orders_day_of_week  order_hour_of_day  ...  \\\n",
       "0  3139998     138            28                   6                 11  ...   \n",
       "1  1977647     138            30                   6                 17  ...   \n",
       "2   894221     138            23                   5                 13  ...   \n",
       "3  1986630     138             7                   0                 12  ...   \n",
       "4  3139998     138            28                   6                 11  ...   \n",
       "\n",
       "     price_range_loc     busiest day    busiest_days busiest_period_of_day  \\\n",
       "0  Mid range product  Regularly busy  Regularly busy        Average orders   \n",
       "1  Mid range product  Regularly busy  Regularly busy        Average orders   \n",
       "2  Low-range product  Regularly busy  Regularly busy        Average orders   \n",
       "3  Low-range product     Busiest day     Busiest day        Average orders   \n",
       "4  Low-range product  Regularly busy  Regularly busy        Average orders   \n",
       "\n",
       "  max_orders      loyalty_flag average_spend  spender_type  \\\n",
       "0         32  Regular customer      6.935811   Low spender   \n",
       "1         32  Regular customer      6.935811   Low spender   \n",
       "2         32  Regular customer      6.935811   Low spender   \n",
       "3         32  Regular customer      6.935811   Low spender   \n",
       "4         32  Regular customer      6.935811   Low spender   \n",
       "\n",
       "  median_days_since_prior_order  Frequent_customer?  \n",
       "0                           8.0   Frequent customer  \n",
       "1                           8.0   Frequent customer  \n",
       "2                           8.0   Frequent customer  \n",
       "3                           8.0   Frequent customer  \n",
       "4                           8.0   Frequent customer  \n",
       "\n",
       "[5 rows x 32 columns]"
      ]
     },
     "execution_count": 22,
     "metadata": {},
     "output_type": "execute_result"
    }
   ],
   "source": [
    "# checks head of reg_cust\n",
    "reg_cust.head()"
   ]
  },
  {
   "cell_type": "code",
   "execution_count": 23,
   "id": "bcc50466",
   "metadata": {},
   "outputs": [
    {
     "data": {
      "text/plain": [
       "(15890458, 32)"
      ]
     },
     "execution_count": 23,
     "metadata": {},
     "output_type": "execute_result"
    }
   ],
   "source": [
    "# returns shape of reg_cust\n",
    "reg_cust.shape"
   ]
  },
  {
   "cell_type": "code",
   "execution_count": 24,
   "id": "0209df6d",
   "metadata": {},
   "outputs": [
    {
     "data": {
      "image/png": "[encoded data removed]",
      "text/plain": [
       "<Figure size 432x288 with 1 Axes>"
      ]
     },
     "metadata": {
      "needs_background": "light"
     },
     "output_type": "display_data"
    }
   ],
   "source": [
    "# creates normalized bar chart of reg_cust_chart\n",
    "reg_cust_chart = (reg_cust['department'].value_counts()/15890458).plot.barh(color = 'purple')\n",
    "plt.title('Regular Customer Buying Habits by Department')\n",
    "plt.xlabel('Percentage')\n",
    "plt.ylabel('Department')\n",
    "plt.tight_layout()"
   ]
  },
  {
   "cell_type": "code",
   "execution_count": 25,
   "id": "d462e4c7",
   "metadata": {},
   "outputs": [],
   "source": [
    "# saves png for reg_cust_chart\n",
    "reg_cust_chart.figure.savefig(os.path.join(path, '04 Analysis', 'Visualizations', 'reg_cust_chart.png'))"
   ]
  },
  {
   "cell_type": "markdown",
   "id": "9d141eef",
   "metadata": {},
   "source": [
    "## new customer"
   ]
  },
  {
   "cell_type": "code",
   "execution_count": 26,
   "id": "8f8232f7",
   "metadata": {},
   "outputs": [],
   "source": [
    "# subsets frame with regular customer loyalty status\n",
    "new_cust =orders_products_departments_final[orders_products_departments_final['loyalty_flag']=='New customer']"
   ]
  },
  {
   "cell_type": "code",
   "execution_count": 27,
   "id": "6e93572f",
   "metadata": {},
   "outputs": [
    {
     "data": {
      "text/html": [
       "<div>\n",
       "<style scoped>\n",
       "    .dataframe tbody tr th:only-of-type {\n",
       "        vertical-align: middle;\n",
       "    }\n",
       "\n",
       "    .dataframe tbody tr th {\n",
       "        vertical-align: top;\n",
       "    }\n",
       "\n",
       "    .dataframe thead th {\n",
       "        text-align: right;\n",
       "    }\n",
       "</style>\n",
       "<table border=\"1\" class=\"dataframe\">\n",
       "  <thead>\n",
       "    <tr style=\"text-align: right;\">\n",
       "      <th></th>\n",
       "      <th>product_id</th>\n",
       "      <th>product_name</th>\n",
       "      <th>aisle_id</th>\n",
       "      <th>department_id</th>\n",
       "      <th>prices</th>\n",
       "      <th>order_id</th>\n",
       "      <th>user_id</th>\n",
       "      <th>order_number</th>\n",
       "      <th>orders_day_of_week</th>\n",
       "      <th>order_hour_of_day</th>\n",
       "      <th>...</th>\n",
       "      <th>price_range_loc</th>\n",
       "      <th>busiest day</th>\n",
       "      <th>busiest_days</th>\n",
       "      <th>busiest_period_of_day</th>\n",
       "      <th>max_orders</th>\n",
       "      <th>loyalty_flag</th>\n",
       "      <th>average_spend</th>\n",
       "      <th>spender_type</th>\n",
       "      <th>median_days_since_prior_order</th>\n",
       "      <th>Frequent_customer?</th>\n",
       "    </tr>\n",
       "  </thead>\n",
       "  <tbody>\n",
       "    <tr>\n",
       "      <th>33</th>\n",
       "      <td>1</td>\n",
       "      <td>Chocolate Sandwich Cookies</td>\n",
       "      <td>61</td>\n",
       "      <td>19</td>\n",
       "      <td>5.8</td>\n",
       "      <td>389851</td>\n",
       "      <td>709</td>\n",
       "      <td>2</td>\n",
       "      <td>0</td>\n",
       "      <td>21</td>\n",
       "      <td>...</td>\n",
       "      <td>Mid range product</td>\n",
       "      <td>Busiest day</td>\n",
       "      <td>Busiest day</td>\n",
       "      <td>Average orders</td>\n",
       "      <td>5</td>\n",
       "      <td>New customer</td>\n",
       "      <td>7.930208</td>\n",
       "      <td>Low spender</td>\n",
       "      <td>8.0</td>\n",
       "      <td>Frequent customer</td>\n",
       "    </tr>\n",
       "    <tr>\n",
       "      <th>34</th>\n",
       "      <td>955</td>\n",
       "      <td>Cheddar Chex Mix</td>\n",
       "      <td>125</td>\n",
       "      <td>19</td>\n",
       "      <td>3.9</td>\n",
       "      <td>147387</td>\n",
       "      <td>709</td>\n",
       "      <td>4</td>\n",
       "      <td>0</td>\n",
       "      <td>21</td>\n",
       "      <td>...</td>\n",
       "      <td>Low-range product</td>\n",
       "      <td>Busiest day</td>\n",
       "      <td>Busiest day</td>\n",
       "      <td>Average orders</td>\n",
       "      <td>5</td>\n",
       "      <td>New customer</td>\n",
       "      <td>7.930208</td>\n",
       "      <td>Low spender</td>\n",
       "      <td>8.0</td>\n",
       "      <td>Frequent customer</td>\n",
       "    </tr>\n",
       "    <tr>\n",
       "      <th>35</th>\n",
       "      <td>2491</td>\n",
       "      <td>Star Crunch</td>\n",
       "      <td>61</td>\n",
       "      <td>19</td>\n",
       "      <td>2.1</td>\n",
       "      <td>2322397</td>\n",
       "      <td>709</td>\n",
       "      <td>5</td>\n",
       "      <td>1</td>\n",
       "      <td>21</td>\n",
       "      <td>...</td>\n",
       "      <td>Low-range product</td>\n",
       "      <td>Regularly busy</td>\n",
       "      <td>Busiest day</td>\n",
       "      <td>Average orders</td>\n",
       "      <td>5</td>\n",
       "      <td>New customer</td>\n",
       "      <td>7.930208</td>\n",
       "      <td>Low spender</td>\n",
       "      <td>8.0</td>\n",
       "      <td>Frequent customer</td>\n",
       "    </tr>\n",
       "    <tr>\n",
       "      <th>36</th>\n",
       "      <td>8292</td>\n",
       "      <td>100 Calorie Healthy Pop Butter Microwave Pop Corn</td>\n",
       "      <td>23</td>\n",
       "      <td>19</td>\n",
       "      <td>6.2</td>\n",
       "      <td>2322397</td>\n",
       "      <td>709</td>\n",
       "      <td>5</td>\n",
       "      <td>1</td>\n",
       "      <td>21</td>\n",
       "      <td>...</td>\n",
       "      <td>Mid range product</td>\n",
       "      <td>Regularly busy</td>\n",
       "      <td>Busiest day</td>\n",
       "      <td>Average orders</td>\n",
       "      <td>5</td>\n",
       "      <td>New customer</td>\n",
       "      <td>7.930208</td>\n",
       "      <td>Low spender</td>\n",
       "      <td>8.0</td>\n",
       "      <td>Frequent customer</td>\n",
       "    </tr>\n",
       "    <tr>\n",
       "      <th>37</th>\n",
       "      <td>10333</td>\n",
       "      <td>Rice Krispies Treats Original Crispy Marshmall...</td>\n",
       "      <td>61</td>\n",
       "      <td>19</td>\n",
       "      <td>3.3</td>\n",
       "      <td>147387</td>\n",
       "      <td>709</td>\n",
       "      <td>4</td>\n",
       "      <td>0</td>\n",
       "      <td>21</td>\n",
       "      <td>...</td>\n",
       "      <td>Low-range product</td>\n",
       "      <td>Busiest day</td>\n",
       "      <td>Busiest day</td>\n",
       "      <td>Average orders</td>\n",
       "      <td>5</td>\n",
       "      <td>New customer</td>\n",
       "      <td>7.930208</td>\n",
       "      <td>Low spender</td>\n",
       "      <td>8.0</td>\n",
       "      <td>Frequent customer</td>\n",
       "    </tr>\n",
       "  </tbody>\n",
       "</table>\n",
       "<p>5 rows × 32 columns</p>\n",
       "</div>"
      ],
      "text/plain": [
       "   product_id                                       product_name aisle_id  \\\n",
       "33          1                         Chocolate Sandwich Cookies       61   \n",
       "34        955                                   Cheddar Chex Mix      125   \n",
       "35       2491                                        Star Crunch       61   \n",
       "36       8292  100 Calorie Healthy Pop Butter Microwave Pop Corn       23   \n",
       "37      10333  Rice Krispies Treats Original Crispy Marshmall...       61   \n",
       "\n",
       "   department_id  prices order_id user_id  order_number  orders_day_of_week  \\\n",
       "33            19     5.8   389851     709             2                   0   \n",
       "34            19     3.9   147387     709             4                   0   \n",
       "35            19     2.1  2322397     709             5                   1   \n",
       "36            19     6.2  2322397     709             5                   1   \n",
       "37            19     3.3   147387     709             4                   0   \n",
       "\n",
       "    order_hour_of_day  ...    price_range_loc     busiest day  busiest_days  \\\n",
       "33                 21  ...  Mid range product     Busiest day   Busiest day   \n",
       "34                 21  ...  Low-range product     Busiest day   Busiest day   \n",
       "35                 21  ...  Low-range product  Regularly busy   Busiest day   \n",
       "36                 21  ...  Mid range product  Regularly busy   Busiest day   \n",
       "37                 21  ...  Low-range product     Busiest day   Busiest day   \n",
       "\n",
       "   busiest_period_of_day max_orders  loyalty_flag average_spend  spender_type  \\\n",
       "33        Average orders          5  New customer      7.930208   Low spender   \n",
       "34        Average orders          5  New customer      7.930208   Low spender   \n",
       "35        Average orders          5  New customer      7.930208   Low spender   \n",
       "36        Average orders          5  New customer      7.930208   Low spender   \n",
       "37        Average orders          5  New customer      7.930208   Low spender   \n",
       "\n",
       "   median_days_since_prior_order  Frequent_customer?  \n",
       "33                           8.0   Frequent customer  \n",
       "34                           8.0   Frequent customer  \n",
       "35                           8.0   Frequent customer  \n",
       "36                           8.0   Frequent customer  \n",
       "37                           8.0   Frequent customer  \n",
       "\n",
       "[5 rows x 32 columns]"
      ]
     },
     "execution_count": 27,
     "metadata": {},
     "output_type": "execute_result"
    }
   ],
   "source": [
    "# checks head of new_cust\n",
    "new_cust.head()"
   ]
  },
  {
   "cell_type": "code",
   "execution_count": 28,
   "id": "eaa4b04b",
   "metadata": {},
   "outputs": [
    {
     "data": {
      "text/plain": [
       "(5475359, 32)"
      ]
     },
     "execution_count": 28,
     "metadata": {},
     "output_type": "execute_result"
    }
   ],
   "source": [
    "# returns shape of new_cust\n",
    "new_cust.shape"
   ]
  },
  {
   "cell_type": "code",
   "execution_count": 29,
   "id": "02152fd1",
   "metadata": {},
   "outputs": [
    {
     "data": {
      "image/png": "[encoded data removed]",
      "text/plain": [
       "<Figure size 432x288 with 1 Axes>"
      ]
     },
     "metadata": {
      "needs_background": "light"
     },
     "output_type": "display_data"
    }
   ],
   "source": [
    "# creates normalized bar chart of new_cust_chart\n",
    "new_cust_chart = (new_cust['department'].value_counts()/5475359).plot.barh(color = 'purple')\n",
    "plt.title('New Customer Buying Habits by Department')\n",
    "plt.xlabel('Percentage')\n",
    "plt.ylabel('Department')\n",
    "plt.tight_layout()"
   ]
  },
  {
   "cell_type": "code",
   "execution_count": 30,
   "id": "81ef12c5",
   "metadata": {},
   "outputs": [],
   "source": [
    "# saves png for new_cust_chart\n",
    "new_cust_chart.figure.savefig(os.path.join(path, '04 Analysis', 'Visualizations', 'new_cust_chart.png'))"
   ]
  },
  {
   "cell_type": "markdown",
   "id": "34d883ec",
   "metadata": {},
   "source": [
    "## loyal customer"
   ]
  },
  {
   "cell_type": "code",
   "execution_count": 31,
   "id": "3f53cb03",
   "metadata": {},
   "outputs": [],
   "source": [
    "# subsets frame with loyal customer loyalty status\n",
    "loyal_cust =orders_products_departments_final[orders_products_departments_final['loyalty_flag']=='Loyal customer']"
   ]
  },
  {
   "cell_type": "code",
   "execution_count": 32,
   "id": "ab170f0b",
   "metadata": {},
   "outputs": [
    {
     "data": {
      "text/html": [
       "<div>\n",
       "<style scoped>\n",
       "    .dataframe tbody tr th:only-of-type {\n",
       "        vertical-align: middle;\n",
       "    }\n",
       "\n",
       "    .dataframe tbody tr th {\n",
       "        vertical-align: top;\n",
       "    }\n",
       "\n",
       "    .dataframe thead th {\n",
       "        text-align: right;\n",
       "    }\n",
       "</style>\n",
       "<table border=\"1\" class=\"dataframe\">\n",
       "  <thead>\n",
       "    <tr style=\"text-align: right;\">\n",
       "      <th></th>\n",
       "      <th>product_id</th>\n",
       "      <th>product_name</th>\n",
       "      <th>aisle_id</th>\n",
       "      <th>department_id</th>\n",
       "      <th>prices</th>\n",
       "      <th>order_id</th>\n",
       "      <th>user_id</th>\n",
       "      <th>order_number</th>\n",
       "      <th>orders_day_of_week</th>\n",
       "      <th>order_hour_of_day</th>\n",
       "      <th>...</th>\n",
       "      <th>price_range_loc</th>\n",
       "      <th>busiest day</th>\n",
       "      <th>busiest_days</th>\n",
       "      <th>busiest_period_of_day</th>\n",
       "      <th>max_orders</th>\n",
       "      <th>loyalty_flag</th>\n",
       "      <th>average_spend</th>\n",
       "      <th>spender_type</th>\n",
       "      <th>median_days_since_prior_order</th>\n",
       "      <th>Frequent_customer?</th>\n",
       "    </tr>\n",
       "  </thead>\n",
       "  <tbody>\n",
       "    <tr>\n",
       "      <th>142</th>\n",
       "      <td>1</td>\n",
       "      <td>Chocolate Sandwich Cookies</td>\n",
       "      <td>61</td>\n",
       "      <td>19</td>\n",
       "      <td>5.8</td>\n",
       "      <td>497193</td>\n",
       "      <td>1480</td>\n",
       "      <td>36</td>\n",
       "      <td>3</td>\n",
       "      <td>13</td>\n",
       "      <td>...</td>\n",
       "      <td>Mid range product</td>\n",
       "      <td>Regularly busy</td>\n",
       "      <td>least busy day</td>\n",
       "      <td>Average orders</td>\n",
       "      <td>43</td>\n",
       "      <td>Loyal customer</td>\n",
       "      <td>5.139394</td>\n",
       "      <td>Low spender</td>\n",
       "      <td>7.0</td>\n",
       "      <td>Frequent customer</td>\n",
       "    </tr>\n",
       "    <tr>\n",
       "      <th>143</th>\n",
       "      <td>1</td>\n",
       "      <td>Chocolate Sandwich Cookies</td>\n",
       "      <td>61</td>\n",
       "      <td>19</td>\n",
       "      <td>5.8</td>\n",
       "      <td>1727826</td>\n",
       "      <td>1480</td>\n",
       "      <td>38</td>\n",
       "      <td>4</td>\n",
       "      <td>13</td>\n",
       "      <td>...</td>\n",
       "      <td>Mid range product</td>\n",
       "      <td>Least busy</td>\n",
       "      <td>least busy day</td>\n",
       "      <td>Average orders</td>\n",
       "      <td>43</td>\n",
       "      <td>Loyal customer</td>\n",
       "      <td>5.139394</td>\n",
       "      <td>Low spender</td>\n",
       "      <td>7.0</td>\n",
       "      <td>Frequent customer</td>\n",
       "    </tr>\n",
       "    <tr>\n",
       "      <th>144</th>\n",
       "      <td>1</td>\n",
       "      <td>Chocolate Sandwich Cookies</td>\n",
       "      <td>61</td>\n",
       "      <td>19</td>\n",
       "      <td>5.8</td>\n",
       "      <td>2694698</td>\n",
       "      <td>1480</td>\n",
       "      <td>39</td>\n",
       "      <td>2</td>\n",
       "      <td>12</td>\n",
       "      <td>...</td>\n",
       "      <td>Mid range product</td>\n",
       "      <td>Regularly busy</td>\n",
       "      <td>Regularly busy</td>\n",
       "      <td>Average orders</td>\n",
       "      <td>43</td>\n",
       "      <td>Loyal customer</td>\n",
       "      <td>5.139394</td>\n",
       "      <td>Low spender</td>\n",
       "      <td>7.0</td>\n",
       "      <td>Frequent customer</td>\n",
       "    </tr>\n",
       "    <tr>\n",
       "      <th>145</th>\n",
       "      <td>8843</td>\n",
       "      <td>Milk Chocolate Covered Raisins</td>\n",
       "      <td>45</td>\n",
       "      <td>19</td>\n",
       "      <td>6.3</td>\n",
       "      <td>2900357</td>\n",
       "      <td>1480</td>\n",
       "      <td>4</td>\n",
       "      <td>3</td>\n",
       "      <td>11</td>\n",
       "      <td>...</td>\n",
       "      <td>Mid range product</td>\n",
       "      <td>Regularly busy</td>\n",
       "      <td>least busy day</td>\n",
       "      <td>Average orders</td>\n",
       "      <td>43</td>\n",
       "      <td>Loyal customer</td>\n",
       "      <td>5.139394</td>\n",
       "      <td>Low spender</td>\n",
       "      <td>7.0</td>\n",
       "      <td>Frequent customer</td>\n",
       "    </tr>\n",
       "    <tr>\n",
       "      <th>146</th>\n",
       "      <td>8843</td>\n",
       "      <td>Milk Chocolate Covered Raisins</td>\n",
       "      <td>45</td>\n",
       "      <td>19</td>\n",
       "      <td>6.3</td>\n",
       "      <td>2302341</td>\n",
       "      <td>1480</td>\n",
       "      <td>9</td>\n",
       "      <td>1</td>\n",
       "      <td>13</td>\n",
       "      <td>...</td>\n",
       "      <td>Mid range product</td>\n",
       "      <td>Regularly busy</td>\n",
       "      <td>Busiest day</td>\n",
       "      <td>Average orders</td>\n",
       "      <td>43</td>\n",
       "      <td>Loyal customer</td>\n",
       "      <td>5.139394</td>\n",
       "      <td>Low spender</td>\n",
       "      <td>7.0</td>\n",
       "      <td>Frequent customer</td>\n",
       "    </tr>\n",
       "  </tbody>\n",
       "</table>\n",
       "<p>5 rows × 32 columns</p>\n",
       "</div>"
      ],
      "text/plain": [
       "    product_id                    product_name aisle_id department_id  prices  \\\n",
       "142          1      Chocolate Sandwich Cookies       61            19     5.8   \n",
       "143          1      Chocolate Sandwich Cookies       61            19     5.8   \n",
       "144          1      Chocolate Sandwich Cookies       61            19     5.8   \n",
       "145       8843  Milk Chocolate Covered Raisins       45            19     6.3   \n",
       "146       8843  Milk Chocolate Covered Raisins       45            19     6.3   \n",
       "\n",
       "    order_id user_id  order_number  orders_day_of_week  order_hour_of_day  \\\n",
       "142   497193    1480            36                   3                 13   \n",
       "143  1727826    1480            38                   4                 13   \n",
       "144  2694698    1480            39                   2                 12   \n",
       "145  2900357    1480             4                   3                 11   \n",
       "146  2302341    1480             9                   1                 13   \n",
       "\n",
       "     ...    price_range_loc     busiest day    busiest_days  \\\n",
       "142  ...  Mid range product  Regularly busy  least busy day   \n",
       "143  ...  Mid range product      Least busy  least busy day   \n",
       "144  ...  Mid range product  Regularly busy  Regularly busy   \n",
       "145  ...  Mid range product  Regularly busy  least busy day   \n",
       "146  ...  Mid range product  Regularly busy     Busiest day   \n",
       "\n",
       "    busiest_period_of_day max_orders    loyalty_flag average_spend  \\\n",
       "142        Average orders         43  Loyal customer      5.139394   \n",
       "143        Average orders         43  Loyal customer      5.139394   \n",
       "144        Average orders         43  Loyal customer      5.139394   \n",
       "145        Average orders         43  Loyal customer      5.139394   \n",
       "146        Average orders         43  Loyal customer      5.139394   \n",
       "\n",
       "     spender_type median_days_since_prior_order  Frequent_customer?  \n",
       "142   Low spender                           7.0   Frequent customer  \n",
       "143   Low spender                           7.0   Frequent customer  \n",
       "144   Low spender                           7.0   Frequent customer  \n",
       "145   Low spender                           7.0   Frequent customer  \n",
       "146   Low spender                           7.0   Frequent customer  \n",
       "\n",
       "[5 rows x 32 columns]"
      ]
     },
     "execution_count": 32,
     "metadata": {},
     "output_type": "execute_result"
    }
   ],
   "source": [
    "# checks head of loyal_cust\n",
    "loyal_cust.head()"
   ]
  },
  {
   "cell_type": "code",
   "execution_count": 33,
   "id": "114c6b2e",
   "metadata": {},
   "outputs": [
    {
     "data": {
      "text/plain": [
       "(10293434, 32)"
      ]
     },
     "execution_count": 33,
     "metadata": {},
     "output_type": "execute_result"
    }
   ],
   "source": [
    "# returns shape of loyal_cust\n",
    "loyal_cust.shape"
   ]
  },
  {
   "cell_type": "code",
   "execution_count": 34,
   "id": "3c010390",
   "metadata": {},
   "outputs": [
    {
     "data": {
      "image/png": "[encoded data removed]",
      "text/plain": [
       "<Figure size 432x288 with 1 Axes>"
      ]
     },
     "metadata": {
      "needs_background": "light"
     },
     "output_type": "display_data"
    }
   ],
   "source": [
    "# creates normalized bar chart of loyal_cust_chart\n",
    "loyal_cust_chart = (loyal_cust['department'].value_counts()/10293434).plot.barh(color = 'purple')\n",
    "plt.title('Loyal Customer Buying Habits by Department')\n",
    "plt.xlabel('Percentage')\n",
    "plt.ylabel('Department')\n",
    "plt.tight_layout()"
   ]
  },
  {
   "cell_type": "code",
   "execution_count": 35,
   "id": "855c7683",
   "metadata": {},
   "outputs": [],
   "source": [
    "# saves png for loyal_cust_chart\n",
    "loyal_cust_chart.figure.savefig(os.path.join(path, '04 Analysis', 'Visualizations', 'loyal_cust_chart.png'))"
   ]
  },
  {
   "cell_type": "markdown",
   "id": "7e36635d",
   "metadata": {},
   "source": [
    "# Ordering Habits Based on Family Status\n",
    "##  Is there a connection between age and family status in terms of ordering habits?!"
   ]
  },
  {
   "cell_type": "code",
   "execution_count": 38,
   "id": "9774dac0",
   "metadata": {},
   "outputs": [
    {
     "data": {
      "text/plain": [
       "married                             22776125\n",
       "single                               5330526\n",
       "divorced/widowed                     2774315\n",
       "living with parents and siblings     1552064\n",
       "Name: family_status, dtype: int64"
      ]
     },
     "execution_count": 38,
     "metadata": {},
     "output_type": "execute_result"
    }
   ],
   "source": [
    "# returns value counts for family_status\n",
    "orders_products_departments_final['family_status'].value_counts()"
   ]
  },
  {
   "cell_type": "code",
   "execution_count": 39,
   "id": "b121d14e",
   "metadata": {},
   "outputs": [],
   "source": [
    "# selects needed columns from orders_products_departments_final\n",
    "fam_age_ords = orders_products_departments_final[['family_status', 'prices', 'department', 'product_name', 'age', 'days_passed_since_last_order', 'order_id']]"
   ]
  },
  {
   "cell_type": "markdown",
   "id": "dc002fac",
   "metadata": {},
   "source": [
    "## married customers"
   ]
  },
  {
   "cell_type": "code",
   "execution_count": 40,
   "id": "0c47df23",
   "metadata": {},
   "outputs": [],
   "source": [
    "# subsets customers who are married\n",
    "fam_age_ords_married = fam_age_ords [fam_age_ords ['family_status']=='married']"
   ]
  },
  {
   "cell_type": "code",
   "execution_count": 41,
   "id": "4b0a4d86",
   "metadata": {},
   "outputs": [],
   "source": [
    "# groups married customers by order id to return the amount spent on a given order\n",
    "grouped_married = fam_age_ords_married.groupby(['order_id']).agg({'prices':['sum'], 'age': ['max']})"
   ]
  },
  {
   "cell_type": "code",
   "execution_count": 42,
   "id": "4fd8932e",
   "metadata": {},
   "outputs": [
    {
     "data": {
      "text/plain": [
       "sum    64.4\n",
       "dtype: float64"
      ]
     },
     "execution_count": 42,
     "metadata": {},
     "output_type": "execute_result"
    }
   ],
   "source": [
    "# returns median cost of order\n",
    "grouped_married['prices'].median()"
   ]
  },
  {
   "cell_type": "code",
   "execution_count": 43,
   "id": "3f50ee24",
   "metadata": {},
   "outputs": [
    {
     "data": {
      "text/plain": [
       "Text(0, 0.5, 'Prices')"
      ]
     },
     "execution_count": 43,
     "metadata": {},
     "output_type": "execute_result"
    },
    {
     "data": {
      "image/png": "[encoded data removed]",
      "text/plain": [
       "<Figure size 432x288 with 1 Axes>"
      ]
     },
     "metadata": {
      "needs_background": "light"
     },
     "output_type": "display_data"
    }
   ],
   "source": [
    "# created scatter plot for the Relationship between Age & Price (Married Customers)\n",
    "scatter_married = plt.scatter( x = grouped_married['age'], y = grouped_married['prices'], color = 'purple')\n",
    "plt.title('Relationship between Age & Total Order Cost (Married Customers)')\n",
    "plt.xlabel('Age')\n",
    "plt.ylabel('Prices')"
   ]
  },
  {
   "cell_type": "code",
   "execution_count": 44,
   "id": "409d296b",
   "metadata": {},
   "outputs": [],
   "source": [
    "#saves scatter_married to png\n",
    "scatter_married.figure.savefig(os.path.join(path, '04 Analysis', 'Visualizations', 'scattered_married.png'))"
   ]
  },
  {
   "cell_type": "markdown",
   "id": "eeaa9a83",
   "metadata": {},
   "source": [
    "## single customers"
   ]
  },
  {
   "cell_type": "code",
   "execution_count": 45,
   "id": "02f662d4",
   "metadata": {},
   "outputs": [],
   "source": [
    "# subsets customers who are single\n",
    "fam_age_ords_single = fam_age_ords [fam_age_ords ['family_status']=='single']"
   ]
  },
  {
   "cell_type": "code",
   "execution_count": 46,
   "id": "c61abc58",
   "metadata": {},
   "outputs": [],
   "source": [
    "# groups single customers by order id to return the amount spent on a given order\n",
    "grouped_single = fam_age_ords_single.groupby(['order_id']).agg({'prices':['sum'], 'age': ['max']})"
   ]
  },
  {
   "cell_type": "code",
   "execution_count": 47,
   "id": "9d244892",
   "metadata": {},
   "outputs": [
    {
     "data": {
      "text/plain": [
       "Text(0, 0.5, 'Prices')"
      ]
     },
     "execution_count": 47,
     "metadata": {},
     "output_type": "execute_result"
    },
    {
     "data": {
      "image/png": "[encoded data removed]",
      "text/plain": [
       "<Figure size 432x288 with 1 Axes>"
      ]
     },
     "metadata": {
      "needs_background": "light"
     },
     "output_type": "display_data"
    }
   ],
   "source": [
    "# created scatter plot for the Relationship between Age & Price (Single Customers)\n",
    "scatter_single = plt.scatter( x = grouped_single['age'], y = grouped_single['prices'], color = 'purple')\n",
    "plt.title('Relationship between Age & Total Order Cost (Single Customers)')\n",
    "plt.xlabel('Age')\n",
    "plt.ylabel('Prices')"
   ]
  },
  {
   "cell_type": "code",
   "execution_count": 48,
   "id": "cc999548",
   "metadata": {},
   "outputs": [
    {
     "data": {
      "text/plain": [
       "sum    63.9\n",
       "dtype: float64"
      ]
     },
     "execution_count": 48,
     "metadata": {},
     "output_type": "execute_result"
    }
   ],
   "source": [
    "# returns median cost of order\n",
    "grouped_single['prices'].median()"
   ]
  },
  {
   "cell_type": "code",
   "execution_count": 49,
   "id": "360ccf75",
   "metadata": {},
   "outputs": [],
   "source": [
    "#saves scatter_single to png\n",
    "scatter_single.figure.savefig(os.path.join(path, '04 Analysis', 'Visualizations', 'scattered_single.png'))"
   ]
  },
  {
   "cell_type": "markdown",
   "id": "45b2297c",
   "metadata": {},
   "source": [
    "## divorced or widowed customers"
   ]
  },
  {
   "cell_type": "code",
   "execution_count": 50,
   "id": "2f5dfd6f",
   "metadata": {},
   "outputs": [],
   "source": [
    "# subsets customers who are divorced or widowed\n",
    "scatter_divorced_widowed = fam_age_ords_divorced_wid = fam_age_ords [fam_age_ords ['family_status']=='divorced/widowed']"
   ]
  },
  {
   "cell_type": "code",
   "execution_count": 51,
   "id": "6155683c",
   "metadata": {},
   "outputs": [],
   "source": [
    "# groups divorced/widowed customers by order id to return the amount spent on a given order\n",
    "grouped_divorced_widowed = scatter_divorced_widowed.groupby(['order_id']).agg({'prices':['sum'], 'age': ['max']})"
   ]
  },
  {
   "cell_type": "code",
   "execution_count": 52,
   "id": "b170e85f",
   "metadata": {},
   "outputs": [
    {
     "data": {
      "image/png": "[encoded data removed]",
      "text/plain": [
       "<Figure size 432x288 with 1 Axes>"
      ]
     },
     "metadata": {
      "needs_background": "light"
     },
     "output_type": "display_data"
    }
   ],
   "source": [
    "# created scatter plot for the Relationship between Age & Price (Divorced/Widowed Customers)\n",
    "scatter_divorced_widowed = plt.scatter( x = grouped_divorced_widowed['age'], y = grouped_divorced_widowed['prices'], color = 'purple')\n",
    "plt.title('Relationship between Age & Total Order Cost (Divorced/Widowed Customers)')\n",
    "plt.xlabel('Age')\n",
    "plt.ylabel('Prices')\n",
    "plt.tight_layout()"
   ]
  },
  {
   "cell_type": "code",
   "execution_count": 53,
   "id": "002cc7b2",
   "metadata": {},
   "outputs": [],
   "source": [
    "#saves scatter_divorced_widowed to png\n",
    "scatter_divorced_widowed.figure.savefig(os.path.join(path, '04 Analysis', 'Visualizations', 'scatter_divorced_widowed.png'))"
   ]
  },
  {
   "cell_type": "markdown",
   "id": "3e7d9ab3",
   "metadata": {},
   "source": [
    "## customers living with parents and siblings "
   ]
  },
  {
   "cell_type": "code",
   "execution_count": 54,
   "id": "6694d106",
   "metadata": {},
   "outputs": [],
   "source": [
    "# subsets customers who are living with parents and siblings\n",
    "fam_age_ords_w_fam = fam_age_ords [fam_age_ords ['family_status']=='living with parents and siblings']"
   ]
  },
  {
   "cell_type": "code",
   "execution_count": 55,
   "id": "642b1aeb",
   "metadata": {},
   "outputs": [],
   "source": [
    "# groups who are living with parents and siblingss by order id to return the amount spent on a given order\n",
    "grouped_w_fam  = fam_age_ords_w_fam.groupby(['order_id']).agg({'prices':['sum'], 'age': ['max']})"
   ]
  },
  {
   "cell_type": "code",
   "execution_count": 56,
   "id": "3a7fbc86",
   "metadata": {},
   "outputs": [
    {
     "data": {
      "text/plain": [
       "Text(0, 0.5, 'Prices')"
      ]
     },
     "execution_count": 56,
     "metadata": {},
     "output_type": "execute_result"
    },
    {
     "data": {
      "image/png": "[encoded data removed]",
      "text/plain": [
       "<Figure size 432x288 with 1 Axes>"
      ]
     },
     "metadata": {
      "needs_background": "light"
     },
     "output_type": "display_data"
    }
   ],
   "source": [
    "# created scatter plot for the Relationship between Age & Price (Customers Living with Parents & Siblings)\n",
    "scatter_w_fam= plt.scatter( x = grouped_w_fam ['age'], y = grouped_w_fam ['prices'], color = 'purple')\n",
    "plt.title('Relationship between Age & Total Cost of Order(Customers Living with Parents & Siblings)')\n",
    "plt.xlabel('Age')\n",
    "plt.ylabel('Prices')"
   ]
  },
  {
   "cell_type": "code",
   "execution_count": 57,
   "id": "cc7156be",
   "metadata": {},
   "outputs": [],
   "source": [
    "#saves scatter_divorced_widowed to png\n",
    "scatter_w_fam.figure.savefig(os.path.join(path, '04 Analysis', 'Visualizations', 'scatter_w_fam.png'))"
   ]
  },
  {
   "cell_type": "markdown",
   "id": "19833c78",
   "metadata": {},
   "source": [
    "# customers by demographic information\n",
    "## What different classifications does the demographic information suggest? Age? Income? Certain types of goods? Family status?"
   ]
  },
  {
   "cell_type": "code",
   "execution_count": 58,
   "id": "d92f7963",
   "metadata": {},
   "outputs": [
    {
     "data": {
      "image/png": "[encoded data removed]",
      "text/plain": [
       "<Figure size 432x288 with 1 Axes>"
      ]
     },
     "metadata": {
      "needs_background": "light"
     },
     "output_type": "display_data"
    }
   ],
   "source": [
    "# Creates bar chart for distribution of family status\n",
    "family_stat_distrib = orders_products_departments_final.groupby('family_status').agg({'user_id': ['count']}).plot.barh(color = 'purple')\n",
    "plt.title('Family Status Customer Distribution')\n",
    "plt.xlabel('Count')\n",
    "plt.ylabel('Family Status')\n",
    "plt.tight_layout()"
   ]
  },
  {
   "cell_type": "code",
   "execution_count": 59,
   "id": "dd65f1af",
   "metadata": {},
   "outputs": [
    {
     "data": {
      "image/png": "[encoded data removed]",
      "text/plain": [
       "<Figure size 432x288 with 1 Axes>"
      ]
     },
     "metadata": {
      "needs_background": "light"
     },
     "output_type": "display_data"
    }
   ],
   "source": [
    "# Creates bar chart for age distribution\n",
    "age_distrib = orders_products_departments_final['age'].plot.hist(color = 'purple', bins = 20)\n",
    "plt.title('Customer Age Distribution')\n",
    "plt.xlabel('Age')\n",
    "plt.ylabel('Count')\n",
    "plt.tight_layout()"
   ]
  },
  {
   "cell_type": "code",
   "execution_count": 60,
   "id": "836bf3ab",
   "metadata": {},
   "outputs": [],
   "source": [
    "#saves family_stat_distrib to png\n",
    "age_distrib.figure.savefig(os.path.join(path, '04 Analysis', 'Visualizations', 'age_distrib.png'))"
   ]
  },
  {
   "cell_type": "code",
   "execution_count": 61,
   "id": "0a441ee9",
   "metadata": {},
   "outputs": [
    {
     "data": {
      "image/png": "[encoded data removed]",
      "text/plain": [
       "<Figure size 432x288 with 1 Axes>"
      ]
     },
     "metadata": {
      "needs_background": "light"
     },
     "output_type": "display_data"
    }
   ],
   "source": [
    "# Creates bar chart for income distribution\n",
    "income_distrib = orders_products_departments_final['income'].plot.hist(color = 'purple', bins = 25)\n",
    "plt.title('Customer Income Distribution')\n",
    "plt.xlabel('Income')\n",
    "plt.ylabel('Count')\n",
    "plt.tight_layout()"
   ]
  },
  {
   "cell_type": "code",
   "execution_count": 62,
   "id": "e5d51831",
   "metadata": {},
   "outputs": [],
   "source": [
    "#saves income_distrib to png\n",
    "income_distrib.figure.savefig(os.path.join(path, '04 Analysis', 'Visualizations', 'income_distrib.png'))"
   ]
  },
  {
   "cell_type": "code",
   "execution_count": 63,
   "id": "3240ddcb",
   "metadata": {},
   "outputs": [
    {
     "data": {
      "image/png": "[encoded data removed]",
      "text/plain": [
       "<Figure size 432x288 with 1 Axes>"
      ]
     },
     "metadata": {
      "needs_background": "light"
     },
     "output_type": "display_data"
    }
   ],
   "source": [
    "# Creates bar chart for family status\n",
    "family_stat_distr = orders_products_departments_final['family_status'].value_counts().plot.barh(color = 'purple')\n",
    "plt.title('Customer Family Status Distribution')\n",
    "plt.xlabel('Count')\n",
    "plt.ylabel('Family Status')\n",
    "plt.tight_layout()"
   ]
  },
  {
   "cell_type": "code",
   "execution_count": 64,
   "id": "db9a3226",
   "metadata": {},
   "outputs": [],
   "source": [
    "#saves family_stat_distr to png\n",
    "family_stat_distr.figure.savefig(os.path.join(path, '04 Analysis', 'Visualizations', 'family_stat_distr.png'))"
   ]
  },
  {
   "cell_type": "code",
   "execution_count": null,
   "id": "c2d34728",
   "metadata": {},
   "outputs": [],
   "source": []
  }
 ],
 "metadata": {
  "kernelspec": {
   "display_name": "Python 3 (ipykernel)",
   "language": "python",
   "name": "python3"
  },
  "language_info": {
   "codemirror_mode": {
    "name": "ipython",
    "version": 3
   },
   "file_extension": ".py",
   "mimetype": "text/x-python",
   "name": "python",
   "nbconvert_exporter": "python",
   "pygments_lexer": "ipython3",
   "version": "3.9.7"
  }
 },
 "nbformat": 4,
 "nbformat_minor": 5
}
