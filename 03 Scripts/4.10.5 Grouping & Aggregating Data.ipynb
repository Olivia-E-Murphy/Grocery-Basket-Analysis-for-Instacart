{
 "cells": [
  {
   "cell_type": "code",
   "execution_count": 2,
   "id": "e3e3d0fd",
   "metadata": {},
   "outputs": [],
   "source": [
    "# Import Libraries"
   ]
  },
  {
   "cell_type": "code",
   "execution_count": 3,
   "id": "286f36d6",
   "metadata": {},
   "outputs": [],
   "source": [
    "# import libraries\n",
    "import numpy as np\n",
    "import pandas as pd\n",
    "import os"
   ]
  },
  {
   "cell_type": "markdown",
   "id": "bdf06490",
   "metadata": {},
   "source": [
    "# 1 Create a new notebook for this task. Be sure to import the relevant libraries, along with your ords_prods_merge dataframe, which should include your newly derived columns from the previous Exercise. "
   ]
  },
  {
   "cell_type": "code",
   "execution_count": 6,
   "id": "47b4090d",
   "metadata": {},
   "outputs": [],
   "source": [
    "# import data\n",
    "path = r'/Users/oliviamurphy/Desktop/2022-01 Insta Cart Analysis/02 Data'\n",
    "orders_products_departments_final = pd.read_pickle(os.path.join(path, 'Prepared Data', 'orders_products_departments_final_new_variables.pkl'))"
   ]
  },
  {
   "cell_type": "code",
   "execution_count": 7,
   "id": "19504e1e",
   "metadata": {},
   "outputs": [
    {
     "name": "stdout",
     "output_type": "stream",
     "text": [
      "<class 'pandas.core.frame.DataFrame'>\n",
      "Int64Index: 32433030 entries, 0 to 32433029\n",
      "Data columns (total 26 columns):\n",
      " #   Column                        Dtype   \n",
      "---  ------                        -----   \n",
      " 0   product_id                    string  \n",
      " 1   product_name                  object  \n",
      " 2   aisle_id                      string  \n",
      " 3   department_id                 string  \n",
      " 4   prices                        float64 \n",
      " 5   order_id                      string  \n",
      " 6   user_id                       string  \n",
      " 7   order_number                  int64   \n",
      " 8   orders_day_of_week            int64   \n",
      " 9   order_hour_of_day             int64   \n",
      " 10  days_passed_since_last_order  float64 \n",
      " 11  add_to_cart_order             int64   \n",
      " 12  reordered                     int64   \n",
      " 13  gender                        object  \n",
      " 14  state                         object  \n",
      " 15  age                           int64   \n",
      " 16  date_joined                   object  \n",
      " 17  number_of_dependants          int64   \n",
      " 18  family_status                 object  \n",
      " 19  income                        int64   \n",
      " 20  department                    object  \n",
      " 21  _merge                        category\n",
      " 22  price_range_loc               object  \n",
      " 23  busiest day                   object  \n",
      " 24  busiest_days                  object  \n",
      " 25  busiest_period_of_day         object  \n",
      "dtypes: category(1), float64(2), int64(8), object(10), string(5)\n",
      "memory usage: 6.3+ GB\n"
     ]
    }
   ],
   "source": [
    "orders_products_departments_final.info()"
   ]
  },
  {
   "cell_type": "markdown",
   "id": "aec691ff",
   "metadata": {},
   "source": [
    "# 2 In this Exercise, you learned how to find the aggregated mean of the “order_number” column grouped by “department_id” for a subset of your dataframe. Now, repeat this process for the entire dataframe."
   ]
  },
  {
   "cell_type": "code",
   "execution_count": 9,
   "id": "dc11c4a8",
   "metadata": {
    "scrolled": true
   },
   "outputs": [
    {
     "data": {
      "text/html": [
       "<div>\n",
       "<style scoped>\n",
       "    .dataframe tbody tr th:only-of-type {\n",
       "        vertical-align: middle;\n",
       "    }\n",
       "\n",
       "    .dataframe tbody tr th {\n",
       "        vertical-align: top;\n",
       "    }\n",
       "\n",
       "    .dataframe thead tr th {\n",
       "        text-align: left;\n",
       "    }\n",
       "\n",
       "    .dataframe thead tr:last-of-type th {\n",
       "        text-align: right;\n",
       "    }\n",
       "</style>\n",
       "<table border=\"1\" class=\"dataframe\">\n",
       "  <thead>\n",
       "    <tr>\n",
       "      <th></th>\n",
       "      <th>order_number</th>\n",
       "    </tr>\n",
       "    <tr>\n",
       "      <th></th>\n",
       "      <th>mean</th>\n",
       "    </tr>\n",
       "    <tr>\n",
       "      <th>department_id</th>\n",
       "      <th></th>\n",
       "    </tr>\n",
       "  </thead>\n",
       "  <tbody>\n",
       "    <tr>\n",
       "      <th>1</th>\n",
       "      <td>15.457687</td>\n",
       "    </tr>\n",
       "    <tr>\n",
       "      <th>10</th>\n",
       "      <td>20.197148</td>\n",
       "    </tr>\n",
       "    <tr>\n",
       "      <th>11</th>\n",
       "      <td>16.170371</td>\n",
       "    </tr>\n",
       "    <tr>\n",
       "      <th>12</th>\n",
       "      <td>15.887622</td>\n",
       "    </tr>\n",
       "    <tr>\n",
       "      <th>13</th>\n",
       "      <td>16.583304</td>\n",
       "    </tr>\n",
       "    <tr>\n",
       "      <th>14</th>\n",
       "      <td>16.759763</td>\n",
       "    </tr>\n",
       "    <tr>\n",
       "      <th>15</th>\n",
       "      <td>16.165037</td>\n",
       "    </tr>\n",
       "    <tr>\n",
       "      <th>16</th>\n",
       "      <td>17.663250</td>\n",
       "    </tr>\n",
       "    <tr>\n",
       "      <th>17</th>\n",
       "      <td>15.694469</td>\n",
       "    </tr>\n",
       "    <tr>\n",
       "      <th>18</th>\n",
       "      <td>19.310397</td>\n",
       "    </tr>\n",
       "    <tr>\n",
       "      <th>19</th>\n",
       "      <td>17.177343</td>\n",
       "    </tr>\n",
       "    <tr>\n",
       "      <th>2</th>\n",
       "      <td>17.277920</td>\n",
       "    </tr>\n",
       "    <tr>\n",
       "      <th>20</th>\n",
       "      <td>16.473447</td>\n",
       "    </tr>\n",
       "    <tr>\n",
       "      <th>21</th>\n",
       "      <td>22.902379</td>\n",
       "    </tr>\n",
       "    <tr>\n",
       "      <th>3</th>\n",
       "      <td>17.179756</td>\n",
       "    </tr>\n",
       "    <tr>\n",
       "      <th>4</th>\n",
       "      <td>17.811403</td>\n",
       "    </tr>\n",
       "    <tr>\n",
       "      <th>5</th>\n",
       "      <td>15.215751</td>\n",
       "    </tr>\n",
       "    <tr>\n",
       "      <th>6</th>\n",
       "      <td>16.439806</td>\n",
       "    </tr>\n",
       "    <tr>\n",
       "      <th>7</th>\n",
       "      <td>17.225773</td>\n",
       "    </tr>\n",
       "    <tr>\n",
       "      <th>8</th>\n",
       "      <td>15.340520</td>\n",
       "    </tr>\n",
       "    <tr>\n",
       "      <th>9</th>\n",
       "      <td>15.895474</td>\n",
       "    </tr>\n",
       "  </tbody>\n",
       "</table>\n",
       "</div>"
      ],
      "text/plain": [
       "              order_number\n",
       "                      mean\n",
       "department_id             \n",
       "1                15.457687\n",
       "10               20.197148\n",
       "11               16.170371\n",
       "12               15.887622\n",
       "13               16.583304\n",
       "14               16.759763\n",
       "15               16.165037\n",
       "16               17.663250\n",
       "17               15.694469\n",
       "18               19.310397\n",
       "19               17.177343\n",
       "2                17.277920\n",
       "20               16.473447\n",
       "21               22.902379\n",
       "3                17.179756\n",
       "4                17.811403\n",
       "5                15.215751\n",
       "6                16.439806\n",
       "7                17.225773\n",
       "8                15.340520\n",
       "9                15.895474"
      ]
     },
     "execution_count": 9,
     "metadata": {},
     "output_type": "execute_result"
    }
   ],
   "source": [
    "#aggregate data\n",
    "orders_products_departments_final.groupby('department_id').agg({'order_number': [\"mean\"]})"
   ]
  },
  {
   "cell_type": "markdown",
   "id": "76855957",
   "metadata": {},
   "source": [
    "#  3 - Analyze the result. How do the results for the entire dataframe differ from those of the subset? Include your comments in a markdown cell below the executed code."
   ]
  },
  {
   "cell_type": "markdown",
   "id": "1d4397fe",
   "metadata": {},
   "source": [
    "# Loyalty Flag"
   ]
  },
  {
   "cell_type": "code",
   "execution_count": 10,
   "id": "2baef5e8",
   "metadata": {},
   "outputs": [],
   "source": [
    "#finds max number of orders\n",
    "orders_products_departments_final['max_orders'] = orders_products_departments_final.groupby(['user_id'])['order_number'].transform(np.max)"
   ]
  },
  {
   "cell_type": "code",
   "execution_count": 11,
   "id": "bc7ee63a",
   "metadata": {},
   "outputs": [],
   "source": [
    "#creates flag for Loyal customer\n",
    "orders_products_departments_final.loc[orders_products_departments_final['max_orders']>40, 'loyalty_flag'] = 'Loyal customer'"
   ]
  },
  {
   "cell_type": "code",
   "execution_count": 12,
   "id": "c285f551",
   "metadata": {},
   "outputs": [],
   "source": [
    "#creates flag for Regular customer\n",
    "orders_products_departments_final.loc[(orders_products_departments_final['max_orders']<=40) & (orders_products_departments_final['max_orders']>10), 'loyalty_flag'] = 'Regular customer'\n",
    "                                                             \n",
    "                                                             "
   ]
  },
  {
   "cell_type": "code",
   "execution_count": 13,
   "id": "414544d1",
   "metadata": {},
   "outputs": [],
   "source": [
    "#creates flag for New Customer\n",
    "orders_products_departments_final.loc[orders_products_departments_final['max_orders']<10, 'loyalty_flag'] = 'New customer'"
   ]
  },
  {
   "cell_type": "code",
   "execution_count": 14,
   "id": "340aaba3",
   "metadata": {},
   "outputs": [
    {
     "data": {
      "text/plain": [
       "Regular customer    15890458\n",
       "Loyal customer      10293434\n",
       "New customer         5475359\n",
       "NaN                   773779\n",
       "Name: loyalty_flag, dtype: int64"
      ]
     },
     "execution_count": 14,
     "metadata": {},
     "output_type": "execute_result"
    }
   ],
   "source": [
    "#check counts\n",
    "orders_products_departments_final['loyalty_flag'].value_counts(dropna = False)"
   ]
  },
  {
   "cell_type": "markdown",
   "id": "62892dd1",
   "metadata": {},
   "source": [
    "# 5 The marketing team at Instacart wants to know whether there’s a difference between the spending habits of the three types of customers you identified. Use the loyalty flag you created and check the basic statistics of the product prices for each loyalty category (Loyal Customer, Regular Customer, and New Customer). What you’re trying to determine is whether the prices of products purchased by loyal customers differ from those purchased by regular or new customers."
   ]
  },
  {
   "cell_type": "code",
   "execution_count": 15,
   "id": "f3151c69",
   "metadata": {},
   "outputs": [
    {
     "data": {
      "text/html": [
       "<div>\n",
       "<style scoped>\n",
       "    .dataframe tbody tr th:only-of-type {\n",
       "        vertical-align: middle;\n",
       "    }\n",
       "\n",
       "    .dataframe tbody tr th {\n",
       "        vertical-align: top;\n",
       "    }\n",
       "\n",
       "    .dataframe thead tr th {\n",
       "        text-align: left;\n",
       "    }\n",
       "\n",
       "    .dataframe thead tr:last-of-type th {\n",
       "        text-align: right;\n",
       "    }\n",
       "</style>\n",
       "<table border=\"1\" class=\"dataframe\">\n",
       "  <thead>\n",
       "    <tr>\n",
       "      <th></th>\n",
       "      <th colspan=\"3\" halign=\"left\">prices</th>\n",
       "    </tr>\n",
       "    <tr>\n",
       "      <th></th>\n",
       "      <th>mean</th>\n",
       "      <th>min</th>\n",
       "      <th>max</th>\n",
       "    </tr>\n",
       "    <tr>\n",
       "      <th>loyalty_flag</th>\n",
       "      <th></th>\n",
       "      <th></th>\n",
       "      <th></th>\n",
       "    </tr>\n",
       "  </thead>\n",
       "  <tbody>\n",
       "    <tr>\n",
       "      <th>Loyal customer</th>\n",
       "      <td>7.778465</td>\n",
       "      <td>1.0</td>\n",
       "      <td>25.0</td>\n",
       "    </tr>\n",
       "    <tr>\n",
       "      <th>New customer</th>\n",
       "      <td>7.804473</td>\n",
       "      <td>1.0</td>\n",
       "      <td>25.0</td>\n",
       "    </tr>\n",
       "    <tr>\n",
       "      <th>Regular customer</th>\n",
       "      <td>7.803009</td>\n",
       "      <td>1.0</td>\n",
       "      <td>25.0</td>\n",
       "    </tr>\n",
       "  </tbody>\n",
       "</table>\n",
       "</div>"
      ],
      "text/plain": [
       "                    prices           \n",
       "                      mean  min   max\n",
       "loyalty_flag                         \n",
       "Loyal customer    7.778465  1.0  25.0\n",
       "New customer      7.804473  1.0  25.0\n",
       "Regular customer  7.803009  1.0  25.0"
      ]
     },
     "execution_count": 15,
     "metadata": {},
     "output_type": "execute_result"
    }
   ],
   "source": [
    "# spending habits \n",
    "orders_products_departments_final.groupby('loyalty_flag').agg({'prices':['mean', 'min', 'max']})\n"
   ]
  },
  {
   "cell_type": "markdown",
   "id": "bb3c1038",
   "metadata": {},
   "source": [
    "# Loyal customers spend less than new customers on average on products. Regular customers spend a little less than new customers on a product (on average)"
   ]
  },
  {
   "cell_type": "markdown",
   "id": "502b98c4",
   "metadata": {},
   "source": [
    "# 6 The team now wants to target different types of spenders in their marketing campaigns. This can be achieved by looking at the prices of the items people are buying. Create a spending flag for each user based on the average price across all their orders using the following criteria:\n",
    "## If the mean of the prices of products purchased by a user is lower than 10, then flag them as a “Low spender.”\n",
    "## If the mean of the prices of products purchased by a user is higher than or equal to 10, then flag them as a “High spender."
   ]
  },
  {
   "cell_type": "code",
   "execution_count": 16,
   "id": "e1f5ed1d",
   "metadata": {},
   "outputs": [],
   "source": [
    "#Creates average price of product for each user\n",
    "orders_products_departments_final['average_spend'] = orders_products_departments_final.groupby('user_id')['prices'].transform(np.average)"
   ]
  },
  {
   "cell_type": "code",
   "execution_count": 17,
   "id": "75e0220d",
   "metadata": {},
   "outputs": [
    {
     "data": {
      "text/plain": [
       "0    6.935811\n",
       "1    6.935811\n",
       "2    6.935811\n",
       "3    6.935811\n",
       "4    6.935811\n",
       "Name: average_spend, dtype: float64"
      ]
     },
     "execution_count": 17,
     "metadata": {},
     "output_type": "execute_result"
    }
   ],
   "source": [
    "#checks output of average spend\n",
    "orders_products_departments_final['average_spend'].head()"
   ]
  },
  {
   "cell_type": "code",
   "execution_count": 18,
   "id": "3c3226e0",
   "metadata": {},
   "outputs": [],
   "source": [
    "#Defines low spender\n",
    "orders_products_departments_final.loc[orders_products_departments_final['average_spend']<10, 'spender_type'] = 'Low spender'"
   ]
  },
  {
   "cell_type": "code",
   "execution_count": 19,
   "id": "216e01fe",
   "metadata": {},
   "outputs": [],
   "source": [
    "#Defines high spender\n",
    "orders_products_departments_final.loc[orders_products_departments_final['average_spend']>=10, 'spender_type'] = 'High spender'"
   ]
  },
  {
   "cell_type": "code",
   "execution_count": 20,
   "id": "ab6569ba",
   "metadata": {},
   "outputs": [
    {
     "data": {
      "text/plain": [
       "Low spender     31797621\n",
       "NaN               515447\n",
       "High spender      119962\n",
       "Name: spender_type, dtype: int64"
      ]
     },
     "execution_count": 20,
     "metadata": {},
     "output_type": "execute_result"
    }
   ],
   "source": [
    "#Checks counts\n",
    "orders_products_departments_final['spender_type'].value_counts(dropna = False)"
   ]
  },
  {
   "cell_type": "markdown",
   "id": "70412ef0",
   "metadata": {},
   "source": [
    "# 7 In order to send relevant notifications to users within the app (for instance, asking users if they want to buy the same item again), the Instacart team wants you to determine frequent versus non-frequent customers. Create an order frequency flag that marks the regularity of a user’s ordering behavior according to the median in the “days_since_prior_order” column. The criteria for the flag should be as follows:\n",
    "## If the median of “days_since_prior_order” is higher than 20, then the customer should be labeled a “Non-frequent customer.”\n",
    "## If the median is higher than 10 and lower than or equal to 20, then the customer should be labeled a “Regular customer.”\n",
    "## If the median is lower than or equal to 10, then the customer should be labeled a “Frequent customer.”"
   ]
  },
  {
   "cell_type": "code",
   "execution_count": 22,
   "id": "6edc8cb3",
   "metadata": {},
   "outputs": [],
   "source": [
    "#find the median\n",
    "orders_products_departments_final['median_days_since_prior_order'] = orders_products_departments_final.groupby('user_id')['days_passed_since_last_order'].transform(np.median)"
   ]
  },
  {
   "cell_type": "code",
   "execution_count": 23,
   "id": "e5bfca3d",
   "metadata": {},
   "outputs": [],
   "source": [
    "#define nonfrequent customers\n",
    "orders_products_departments_final.loc[orders_products_departments_final['median_days_since_prior_order'] > 20, 'Frequent_customer?'] = \"Non-Frequent customer\""
   ]
  },
  {
   "cell_type": "code",
   "execution_count": 24,
   "id": "7faba137",
   "metadata": {},
   "outputs": [],
   "source": [
    "#define frequent customers\n",
    "orders_products_departments_final.loc[orders_products_departments_final['median_days_since_prior_order'] <= 10, 'Frequent_customer?'] = \"Frequent customer\""
   ]
  },
  {
   "cell_type": "code",
   "execution_count": 25,
   "id": "9029de21",
   "metadata": {},
   "outputs": [],
   "source": [
    "#define regular customers\n",
    "orders_products_departments_final.loc[(orders_products_departments_final['median_days_since_prior_order'] <= 20) & (orders_products_departments_final['median_days_since_prior_order'] > 10), 'Frequent_customer?'] = \"Regular customer\""
   ]
  },
  {
   "cell_type": "code",
   "execution_count": 26,
   "id": "7d87d557",
   "metadata": {},
   "outputs": [
    {
     "data": {
      "text/plain": [
       "Frequent customer        21576963\n",
       "Regular customer          7216644\n",
       "Non-Frequent customer     3639423\n",
       "Name: Frequent_customer?, dtype: int64"
      ]
     },
     "execution_count": 26,
     "metadata": {},
     "output_type": "execute_result"
    }
   ],
   "source": [
    "#check value counts\n",
    "orders_products_departments_final['Frequent_customer?'].value_counts(dropna = False)"
   ]
  },
  {
   "cell_type": "code",
   "execution_count": 27,
   "id": "774fcf2b",
   "metadata": {},
   "outputs": [
    {
     "data": {
      "text/html": [
       "<div>\n",
       "<style scoped>\n",
       "    .dataframe tbody tr th:only-of-type {\n",
       "        vertical-align: middle;\n",
       "    }\n",
       "\n",
       "    .dataframe tbody tr th {\n",
       "        vertical-align: top;\n",
       "    }\n",
       "\n",
       "    .dataframe thead th {\n",
       "        text-align: right;\n",
       "    }\n",
       "</style>\n",
       "<table border=\"1\" class=\"dataframe\">\n",
       "  <thead>\n",
       "    <tr style=\"text-align: right;\">\n",
       "      <th></th>\n",
       "      <th>product_id</th>\n",
       "      <th>product_name</th>\n",
       "      <th>aisle_id</th>\n",
       "      <th>department_id</th>\n",
       "      <th>prices</th>\n",
       "      <th>order_id</th>\n",
       "      <th>user_id</th>\n",
       "      <th>order_number</th>\n",
       "      <th>orders_day_of_week</th>\n",
       "      <th>order_hour_of_day</th>\n",
       "      <th>...</th>\n",
       "      <th>price_range_loc</th>\n",
       "      <th>busiest day</th>\n",
       "      <th>busiest_days</th>\n",
       "      <th>busiest_period_of_day</th>\n",
       "      <th>max_orders</th>\n",
       "      <th>loyalty_flag</th>\n",
       "      <th>average_spend</th>\n",
       "      <th>spender_type</th>\n",
       "      <th>median_days_since_prior_order</th>\n",
       "      <th>Frequent_customer?</th>\n",
       "    </tr>\n",
       "  </thead>\n",
       "  <tbody>\n",
       "    <tr>\n",
       "      <th>0</th>\n",
       "      <td>1</td>\n",
       "      <td>Chocolate Sandwich Cookies</td>\n",
       "      <td>61</td>\n",
       "      <td>19</td>\n",
       "      <td>5.8</td>\n",
       "      <td>3139998</td>\n",
       "      <td>138</td>\n",
       "      <td>28</td>\n",
       "      <td>6</td>\n",
       "      <td>11</td>\n",
       "      <td>...</td>\n",
       "      <td>Mid range product</td>\n",
       "      <td>Regularly busy</td>\n",
       "      <td>Regularly busy</td>\n",
       "      <td>Average orders</td>\n",
       "      <td>32</td>\n",
       "      <td>Regular customer</td>\n",
       "      <td>6.935811</td>\n",
       "      <td>Low spender</td>\n",
       "      <td>8.0</td>\n",
       "      <td>Frequent customer</td>\n",
       "    </tr>\n",
       "    <tr>\n",
       "      <th>1</th>\n",
       "      <td>1</td>\n",
       "      <td>Chocolate Sandwich Cookies</td>\n",
       "      <td>61</td>\n",
       "      <td>19</td>\n",
       "      <td>5.8</td>\n",
       "      <td>1977647</td>\n",
       "      <td>138</td>\n",
       "      <td>30</td>\n",
       "      <td>6</td>\n",
       "      <td>17</td>\n",
       "      <td>...</td>\n",
       "      <td>Mid range product</td>\n",
       "      <td>Regularly busy</td>\n",
       "      <td>Regularly busy</td>\n",
       "      <td>Average orders</td>\n",
       "      <td>32</td>\n",
       "      <td>Regular customer</td>\n",
       "      <td>6.935811</td>\n",
       "      <td>Low spender</td>\n",
       "      <td>8.0</td>\n",
       "      <td>Frequent customer</td>\n",
       "    </tr>\n",
       "    <tr>\n",
       "      <th>2</th>\n",
       "      <td>4913</td>\n",
       "      <td>Table Water Crackers</td>\n",
       "      <td>78</td>\n",
       "      <td>19</td>\n",
       "      <td>4.4</td>\n",
       "      <td>894221</td>\n",
       "      <td>138</td>\n",
       "      <td>23</td>\n",
       "      <td>5</td>\n",
       "      <td>13</td>\n",
       "      <td>...</td>\n",
       "      <td>Low-range product</td>\n",
       "      <td>Regularly busy</td>\n",
       "      <td>Regularly busy</td>\n",
       "      <td>Average orders</td>\n",
       "      <td>32</td>\n",
       "      <td>Regular customer</td>\n",
       "      <td>6.935811</td>\n",
       "      <td>Low spender</td>\n",
       "      <td>8.0</td>\n",
       "      <td>Frequent customer</td>\n",
       "    </tr>\n",
       "    <tr>\n",
       "      <th>3</th>\n",
       "      <td>11759</td>\n",
       "      <td>Organic Simply Naked Pita Chips</td>\n",
       "      <td>107</td>\n",
       "      <td>19</td>\n",
       "      <td>4.4</td>\n",
       "      <td>1986630</td>\n",
       "      <td>138</td>\n",
       "      <td>7</td>\n",
       "      <td>0</td>\n",
       "      <td>12</td>\n",
       "      <td>...</td>\n",
       "      <td>Low-range product</td>\n",
       "      <td>Busiest day</td>\n",
       "      <td>Busiest day</td>\n",
       "      <td>Average orders</td>\n",
       "      <td>32</td>\n",
       "      <td>Regular customer</td>\n",
       "      <td>6.935811</td>\n",
       "      <td>Low spender</td>\n",
       "      <td>8.0</td>\n",
       "      <td>Frequent customer</td>\n",
       "    </tr>\n",
       "    <tr>\n",
       "      <th>4</th>\n",
       "      <td>13424</td>\n",
       "      <td>Almonds</td>\n",
       "      <td>45</td>\n",
       "      <td>19</td>\n",
       "      <td>4.2</td>\n",
       "      <td>3139998</td>\n",
       "      <td>138</td>\n",
       "      <td>28</td>\n",
       "      <td>6</td>\n",
       "      <td>11</td>\n",
       "      <td>...</td>\n",
       "      <td>Low-range product</td>\n",
       "      <td>Regularly busy</td>\n",
       "      <td>Regularly busy</td>\n",
       "      <td>Average orders</td>\n",
       "      <td>32</td>\n",
       "      <td>Regular customer</td>\n",
       "      <td>6.935811</td>\n",
       "      <td>Low spender</td>\n",
       "      <td>8.0</td>\n",
       "      <td>Frequent customer</td>\n",
       "    </tr>\n",
       "  </tbody>\n",
       "</table>\n",
       "<p>5 rows × 32 columns</p>\n",
       "</div>"
      ],
      "text/plain": [
       "  product_id                     product_name aisle_id department_id  prices  \\\n",
       "0          1       Chocolate Sandwich Cookies       61            19     5.8   \n",
       "1          1       Chocolate Sandwich Cookies       61            19     5.8   \n",
       "2       4913             Table Water Crackers       78            19     4.4   \n",
       "3      11759  Organic Simply Naked Pita Chips      107            19     4.4   \n",
       "4      13424                          Almonds       45            19     4.2   \n",
       "\n",
       "  order_id user_id  order_number  orders_day_of_week  order_hour_of_day  ...  \\\n",
       "0  3139998     138            28                   6                 11  ...   \n",
       "1  1977647     138            30                   6                 17  ...   \n",
       "2   894221     138            23                   5                 13  ...   \n",
       "3  1986630     138             7                   0                 12  ...   \n",
       "4  3139998     138            28                   6                 11  ...   \n",
       "\n",
       "     price_range_loc     busiest day    busiest_days busiest_period_of_day  \\\n",
       "0  Mid range product  Regularly busy  Regularly busy        Average orders   \n",
       "1  Mid range product  Regularly busy  Regularly busy        Average orders   \n",
       "2  Low-range product  Regularly busy  Regularly busy        Average orders   \n",
       "3  Low-range product     Busiest day     Busiest day        Average orders   \n",
       "4  Low-range product  Regularly busy  Regularly busy        Average orders   \n",
       "\n",
       "  max_orders      loyalty_flag average_spend  spender_type  \\\n",
       "0         32  Regular customer      6.935811   Low spender   \n",
       "1         32  Regular customer      6.935811   Low spender   \n",
       "2         32  Regular customer      6.935811   Low spender   \n",
       "3         32  Regular customer      6.935811   Low spender   \n",
       "4         32  Regular customer      6.935811   Low spender   \n",
       "\n",
       "  median_days_since_prior_order  Frequent_customer?  \n",
       "0                           8.0   Frequent customer  \n",
       "1                           8.0   Frequent customer  \n",
       "2                           8.0   Frequent customer  \n",
       "3                           8.0   Frequent customer  \n",
       "4                           8.0   Frequent customer  \n",
       "\n",
       "[5 rows x 32 columns]"
      ]
     },
     "execution_count": 27,
     "metadata": {},
     "output_type": "execute_result"
    }
   ],
   "source": [
    "orders_products_departments_final.head()"
   ]
  },
  {
   "cell_type": "markdown",
   "id": "bc577e68",
   "metadata": {},
   "source": [
    "# 9 Export your dataframe as a pickle file and store it correctly in your “Prepared Data” folder"
   ]
  },
  {
   "cell_type": "code",
   "execution_count": 28,
   "id": "4aea1e25",
   "metadata": {},
   "outputs": [],
   "source": [
    "#export file\n",
    "orders_products_departments_final.to_pickle(os.path.join(path, 'Prepared Data', 'orders_products_departments_final_agg.pkl'))"
   ]
  },
  {
   "cell_type": "code",
   "execution_count": null,
   "id": "bbd43e6d",
   "metadata": {},
   "outputs": [],
   "source": []
  }
 ],
 "metadata": {
  "kernelspec": {
   "display_name": "Python 3 (ipykernel)",
   "language": "python",
   "name": "python3"
  },
  "language_info": {
   "codemirror_mode": {
    "name": "ipython",
    "version": 3
   },
   "file_extension": ".py",
   "mimetype": "text/x-python",
   "name": "python",
   "nbconvert_exporter": "python",
   "pygments_lexer": "ipython3",
   "version": "3.9.7"
  },
  "varInspector": {
   "cols": {
    "lenName": 16,
    "lenType": 16,
    "lenVar": 40
   },
   "kernels_config": {
    "python": {
     "delete_cmd_postfix": "",
     "delete_cmd_prefix": "del ",
     "library": "var_list.py",
     "varRefreshCmd": "print(var_dic_list())"
    },
    "r": {
     "delete_cmd_postfix": ") ",
     "delete_cmd_prefix": "rm(",
     "library": "var_list.r",
     "varRefreshCmd": "cat(var_dic_list()) "
    }
   },
   "types_to_exclude": [
    "module",
    "function",
    "builtin_function_or_method",
    "instance",
    "_Feature"
   ],
   "window_display": false
  }
 },
 "nbformat": 4,
 "nbformat_minor": 5
}
